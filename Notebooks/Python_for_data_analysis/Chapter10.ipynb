{
 "metadata": {
  "language_info": {
   "codemirror_mode": {
    "name": "ipython",
    "version": 3
   },
   "file_extension": ".py",
   "mimetype": "text/x-python",
   "name": "python",
   "nbconvert_exporter": "python",
   "pygments_lexer": "ipython3",
   "version": "3.8.5-final"
  },
  "orig_nbformat": 2,
  "kernelspec": {
   "name": "python_defaultSpec_1601637823244",
   "display_name": "Python 3.8.5 64-bit ('uis-intro-python': conda)"
  }
 },
 "nbformat": 4,
 "nbformat_minor": 2,
 "cells": [
  {
   "source": [
    "# Chapter 10. Data Aggregation and Group Operations.\n",
    "\n",
    "### Necessary imports"
   ],
   "cell_type": "markdown",
   "metadata": {}
  },
  {
   "cell_type": "code",
   "execution_count": 40,
   "metadata": {},
   "outputs": [],
   "source": [
    "import pandas as pd\n",
    "import numpy as np"
   ]
  },
  {
   "source": [
    "Categorizing a dataset and applying a function to each group, wether an aggregation or transformation, is often a critical component of a data analysis workflow. One may need to compute statistics or possibly pivot tables.\n",
    "\n",
    "One reason for the popularity of relational databases and SQL is the ease with which data can be joined, filtered, transformed and aggregated. However, querly languages like SQL are somewhat constrained in the kinds of group operations that can be performed. In this chapter we will learn to:\n",
    "\n",
    "* Split a pandas objet into pieces using one or more keys (in the form of functions, arrays or DataFrame column names)\n",
    "* Calculate group summary statistics, like count, mean, or standard deviation, or a user defined function\n",
    "* Apply within-group transformationsor other manipulations, like normalization, linear regression, rank or subset selection\n",
    "* Compute pivot tables and cross-tabulations\n",
    "* Perform quantile analysis and other statistical group analyses\n",
    "\n",
    "## GroupBy Mechanics\n",
    "\n",
    "[Hadley Wickham](https://en.wikipedia.org/wiki/Hadley_Wickham) coined the term *split-apply-combine* for describing group operations, data contained in a pandas object, whether a Series, DataFrame, or otherwise, is *split* into groups based on one or more *keys* that you provide. The splitting is performed on a particular axis of an object. For example, a DataFrame can be grouped on it's row (axis=0) or its columns (axis=1), Once this is done, a function is *applied* to each group, producing a new value. Finally, the results of all those function applications are *combined* into a result object. The form of the resulting object will usually depend on what's being done to the data."
   ],
   "cell_type": "markdown",
   "metadata": {}
  },
  {
   "cell_type": "code",
   "execution_count": 41,
   "metadata": {},
   "outputs": [
    {
     "output_type": "execute_result",
     "data": {
      "text/plain": "  key1 key2     data1     data2\n0    a  one -0.416758 -0.841747\n1    a  two -0.056267  0.502881\n2    b  one -2.136196 -1.245288\n3    b  two  1.640271 -1.057952\n4    a  one -1.793436 -0.909008",
      "text/html": "<div>\n<style scoped>\n    .dataframe tbody tr th:only-of-type {\n        vertical-align: middle;\n    }\n\n    .dataframe tbody tr th {\n        vertical-align: top;\n    }\n\n    .dataframe thead th {\n        text-align: right;\n    }\n</style>\n<table border=\"1\" class=\"dataframe\">\n  <thead>\n    <tr style=\"text-align: right;\">\n      <th></th>\n      <th>key1</th>\n      <th>key2</th>\n      <th>data1</th>\n      <th>data2</th>\n    </tr>\n  </thead>\n  <tbody>\n    <tr>\n      <th>0</th>\n      <td>a</td>\n      <td>one</td>\n      <td>-0.416758</td>\n      <td>-0.841747</td>\n    </tr>\n    <tr>\n      <th>1</th>\n      <td>a</td>\n      <td>two</td>\n      <td>-0.056267</td>\n      <td>0.502881</td>\n    </tr>\n    <tr>\n      <th>2</th>\n      <td>b</td>\n      <td>one</td>\n      <td>-2.136196</td>\n      <td>-1.245288</td>\n    </tr>\n    <tr>\n      <th>3</th>\n      <td>b</td>\n      <td>two</td>\n      <td>1.640271</td>\n      <td>-1.057952</td>\n    </tr>\n    <tr>\n      <th>4</th>\n      <td>a</td>\n      <td>one</td>\n      <td>-1.793436</td>\n      <td>-0.909008</td>\n    </tr>\n  </tbody>\n</table>\n</div>"
     },
     "metadata": {},
     "execution_count": 41
    }
   ],
   "source": [
    "np.random.seed(2)\n",
    "df = pd.DataFrame({'key1' : ['a', 'a', 'b', 'b', 'a'],\n",
    "                   'key2' : ['one', 'two', 'one', 'two', 'one'],\n",
    "                   'data1' : np.random.randn(5),\n",
    "                   'data2' : np.random.randn(5)})\n",
    "df"
   ]
  },
  {
   "source": [
    "Suppose you wanted to compute the mean of the data1 column using the labels from key1. There are a number of ways to do this. One is to access data1 and call groupby with the column at key1"
   ],
   "cell_type": "markdown",
   "metadata": {}
  },
  {
   "cell_type": "code",
   "execution_count": 42,
   "metadata": {},
   "outputs": [
    {
     "output_type": "execute_result",
     "data": {
      "text/plain": "<pandas.core.groupby.generic.SeriesGroupBy object at 0x000001E3AE0EA310>"
     },
     "metadata": {},
     "execution_count": 42
    }
   ],
   "source": [
    "grouped = df['data1'].groupby(df['key1'])\n",
    "grouped"
   ]
  },
  {
   "cell_type": "code",
   "execution_count": 43,
   "metadata": {},
   "outputs": [
    {
     "output_type": "execute_result",
     "data": {
      "text/plain": "key1\na   -0.755487\nb   -0.247963\nName: data1, dtype: float64"
     },
     "metadata": {},
     "execution_count": 43
    }
   ],
   "source": [
    "grouped.mean()"
   ]
  },
  {
   "cell_type": "code",
   "execution_count": 44,
   "metadata": {},
   "outputs": [
    {
     "output_type": "execute_result",
     "data": {
      "text/plain": "key1  key2\na     one    -1.105097\n      two    -0.056267\nb     one    -2.136196\n      two     1.640271\nName: data1, dtype: float64"
     },
     "metadata": {},
     "execution_count": 44
    }
   ],
   "source": [
    "means = df['data1'].groupby([df['key1'], df['key2']]).mean()\n",
    "means"
   ]
  },
  {
   "source": [
    "Here we grouped the data using two keys and the resulting series has a hierarchical indexing."
   ],
   "cell_type": "markdown",
   "metadata": {}
  },
  {
   "cell_type": "code",
   "execution_count": 45,
   "metadata": {},
   "outputs": [
    {
     "output_type": "execute_result",
     "data": {
      "text/plain": "key2       one       two\nkey1                    \na    -1.105097 -0.056267\nb    -2.136196  1.640271",
      "text/html": "<div>\n<style scoped>\n    .dataframe tbody tr th:only-of-type {\n        vertical-align: middle;\n    }\n\n    .dataframe tbody tr th {\n        vertical-align: top;\n    }\n\n    .dataframe thead th {\n        text-align: right;\n    }\n</style>\n<table border=\"1\" class=\"dataframe\">\n  <thead>\n    <tr style=\"text-align: right;\">\n      <th>key2</th>\n      <th>one</th>\n      <th>two</th>\n    </tr>\n    <tr>\n      <th>key1</th>\n      <th></th>\n      <th></th>\n    </tr>\n  </thead>\n  <tbody>\n    <tr>\n      <th>a</th>\n      <td>-1.105097</td>\n      <td>-0.056267</td>\n    </tr>\n    <tr>\n      <th>b</th>\n      <td>-2.136196</td>\n      <td>1.640271</td>\n    </tr>\n  </tbody>\n</table>\n</div>"
     },
     "metadata": {},
     "execution_count": 45
    }
   ],
   "source": [
    "means.unstack()"
   ]
  },
  {
   "cell_type": "code",
   "execution_count": 46,
   "metadata": {},
   "outputs": [
    {
     "output_type": "execute_result",
     "data": {
      "text/plain": "California  2005   -0.056267\n            2006   -2.136196\nOhio        2005    0.611756\n            2006   -1.793436\nName: data1, dtype: float64"
     },
     "metadata": {},
     "execution_count": 46
    }
   ],
   "source": [
    "states = np.array(['Ohio', 'California', 'California', 'Ohio', 'Ohio'])\n",
    "years = np.array([2005, 2005, 2006, 2005, 2006])\n",
    "df['data1'].groupby([states, years]).mean()"
   ]
  },
  {
   "source": [
    "Frequently, as the grouping information is found in the same DataFrame as the data you want to work on. In that case, you can pass column names (whether those are strings, numbers or other Python objects) as the group keys:"
   ],
   "cell_type": "markdown",
   "metadata": {}
  },
  {
   "cell_type": "code",
   "execution_count": 47,
   "metadata": {},
   "outputs": [
    {
     "output_type": "execute_result",
     "data": {
      "text/plain": "         data1     data2\nkey1                    \na    -0.755487 -0.415958\nb    -0.247963 -1.151620",
      "text/html": "<div>\n<style scoped>\n    .dataframe tbody tr th:only-of-type {\n        vertical-align: middle;\n    }\n\n    .dataframe tbody tr th {\n        vertical-align: top;\n    }\n\n    .dataframe thead th {\n        text-align: right;\n    }\n</style>\n<table border=\"1\" class=\"dataframe\">\n  <thead>\n    <tr style=\"text-align: right;\">\n      <th></th>\n      <th>data1</th>\n      <th>data2</th>\n    </tr>\n    <tr>\n      <th>key1</th>\n      <th></th>\n      <th></th>\n    </tr>\n  </thead>\n  <tbody>\n    <tr>\n      <th>a</th>\n      <td>-0.755487</td>\n      <td>-0.415958</td>\n    </tr>\n    <tr>\n      <th>b</th>\n      <td>-0.247963</td>\n      <td>-1.151620</td>\n    </tr>\n  </tbody>\n</table>\n</div>"
     },
     "metadata": {},
     "execution_count": 47
    }
   ],
   "source": [
    "df.groupby('key1').mean()"
   ]
  },
  {
   "cell_type": "code",
   "execution_count": 48,
   "metadata": {},
   "outputs": [
    {
     "output_type": "execute_result",
     "data": {
      "text/plain": "              data1     data2\nkey1 key2                    \na    one  -1.105097 -0.875377\n     two  -0.056267  0.502881\nb    one  -2.136196 -1.245288\n     two   1.640271 -1.057952",
      "text/html": "<div>\n<style scoped>\n    .dataframe tbody tr th:only-of-type {\n        vertical-align: middle;\n    }\n\n    .dataframe tbody tr th {\n        vertical-align: top;\n    }\n\n    .dataframe thead th {\n        text-align: right;\n    }\n</style>\n<table border=\"1\" class=\"dataframe\">\n  <thead>\n    <tr style=\"text-align: right;\">\n      <th></th>\n      <th></th>\n      <th>data1</th>\n      <th>data2</th>\n    </tr>\n    <tr>\n      <th>key1</th>\n      <th>key2</th>\n      <th></th>\n      <th></th>\n    </tr>\n  </thead>\n  <tbody>\n    <tr>\n      <th rowspan=\"2\" valign=\"top\">a</th>\n      <th>one</th>\n      <td>-1.105097</td>\n      <td>-0.875377</td>\n    </tr>\n    <tr>\n      <th>two</th>\n      <td>-0.056267</td>\n      <td>0.502881</td>\n    </tr>\n    <tr>\n      <th rowspan=\"2\" valign=\"top\">b</th>\n      <th>one</th>\n      <td>-2.136196</td>\n      <td>-1.245288</td>\n    </tr>\n    <tr>\n      <th>two</th>\n      <td>1.640271</td>\n      <td>-1.057952</td>\n    </tr>\n  </tbody>\n</table>\n</div>"
     },
     "metadata": {},
     "execution_count": 48
    }
   ],
   "source": [
    "df.groupby(['key1', 'key2']).mean()"
   ]
  },
  {
   "source": [
    "### Iterating over groups\n",
    "\n",
    "The Groupby object supports iteration, generating a sequence of 2-tuples containing the group name along with the chunk of data. Consider the following:"
   ],
   "cell_type": "markdown",
   "metadata": {}
  },
  {
   "cell_type": "code",
   "execution_count": 49,
   "metadata": {
    "tags": []
   },
   "outputs": [
    {
     "output_type": "stream",
     "name": "stdout",
     "text": "a\n  key1 key2     data1     data2\n0    a  one -0.416758 -0.841747\n1    a  two -0.056267  0.502881\n4    a  one -1.793436 -0.909008\nb\n  key1 key2     data1     data2\n2    b  one -2.136196 -1.245288\n3    b  two  1.640271 -1.057952\n"
    }
   ],
   "source": [
    "for name, group in df.groupby('key1'):\n",
    "    print(name)\n",
    "    print(group)"
   ]
  },
  {
   "source": [
    "In the case of multiple keys, the first element in the tuple will be a tuple of key values:"
   ],
   "cell_type": "markdown",
   "metadata": {}
  },
  {
   "cell_type": "code",
   "execution_count": 50,
   "metadata": {
    "tags": []
   },
   "outputs": [
    {
     "output_type": "stream",
     "name": "stdout",
     "text": "('a', 'one')\n  key1 key2     data1     data2\n0    a  one -0.416758 -0.841747\n4    a  one -1.793436 -0.909008\n('a', 'two')\n  key1 key2     data1     data2\n1    a  two -0.056267  0.502881\n('b', 'one')\n  key1 key2     data1     data2\n2    b  one -2.136196 -1.245288\n('b', 'two')\n  key1 key2     data1     data2\n3    b  two  1.640271 -1.057952\n"
    }
   ],
   "source": [
    "for (k1, k2), group in df.groupby(['key1', 'key2']):\n",
    "    print((k1, k2))\n",
    "    print(group)"
   ]
  },
  {
   "source": [
    "Of course, you can choose to do whatever you want with the pieces of data. A recipe you may find useful is computing a dict of the data pieces as a one-liner:"
   ],
   "cell_type": "markdown",
   "metadata": {}
  },
  {
   "cell_type": "code",
   "execution_count": 51,
   "metadata": {},
   "outputs": [
    {
     "output_type": "execute_result",
     "data": {
      "text/plain": "  key1 key2     data1     data2\n2    b  one -2.136196 -1.245288\n3    b  two  1.640271 -1.057952",
      "text/html": "<div>\n<style scoped>\n    .dataframe tbody tr th:only-of-type {\n        vertical-align: middle;\n    }\n\n    .dataframe tbody tr th {\n        vertical-align: top;\n    }\n\n    .dataframe thead th {\n        text-align: right;\n    }\n</style>\n<table border=\"1\" class=\"dataframe\">\n  <thead>\n    <tr style=\"text-align: right;\">\n      <th></th>\n      <th>key1</th>\n      <th>key2</th>\n      <th>data1</th>\n      <th>data2</th>\n    </tr>\n  </thead>\n  <tbody>\n    <tr>\n      <th>2</th>\n      <td>b</td>\n      <td>one</td>\n      <td>-2.136196</td>\n      <td>-1.245288</td>\n    </tr>\n    <tr>\n      <th>3</th>\n      <td>b</td>\n      <td>two</td>\n      <td>1.640271</td>\n      <td>-1.057952</td>\n    </tr>\n  </tbody>\n</table>\n</div>"
     },
     "metadata": {},
     "execution_count": 51
    }
   ],
   "source": [
    "pieces = dict(list(df.groupby('key1')))\n",
    "pieces['b']"
   ]
  },
  {
   "source": [
    "By default, groupby groups on axis=0, but you can group on any of the other axes. For example, we could group the columns of our example df here by *dtype* like so: "
   ],
   "cell_type": "markdown",
   "metadata": {}
  },
  {
   "cell_type": "code",
   "execution_count": 52,
   "metadata": {},
   "outputs": [
    {
     "output_type": "execute_result",
     "data": {
      "text/plain": "key1      object\nkey2      object\ndata1    float64\ndata2    float64\ndtype: object"
     },
     "metadata": {},
     "execution_count": 52
    }
   ],
   "source": [
    "df.dtypes"
   ]
  },
  {
   "cell_type": "code",
   "execution_count": 53,
   "metadata": {
    "tags": []
   },
   "outputs": [
    {
     "output_type": "stream",
     "name": "stdout",
     "text": "float64\n      data1     data2\n0 -0.416758 -0.841747\n1 -0.056267  0.502881\n2 -2.136196 -1.245288\n3  1.640271 -1.057952\n4 -1.793436 -0.909008\nobject\n  key1 key2\n0    a  one\n1    a  two\n2    b  one\n3    b  two\n4    a  one\n"
    }
   ],
   "source": [
    "grouped = df.groupby(df.dtypes, axis = 1)\n",
    "for dtype, group in grouped:\n",
    "    print(dtype)\n",
    "    print(group)"
   ]
  },
  {
   "source": [
    "### Selecting a Column or Subset of Columns\n",
    "\n",
    "Indexing a GroypBy object created from a DataFrame with a column name or array of column names has the effect of column subsetting for aggreagation. This means that:"
   ],
   "cell_type": "markdown",
   "metadata": {}
  },
  {
   "cell_type": "code",
   "execution_count": 54,
   "metadata": {},
   "outputs": [
    {
     "output_type": "execute_result",
     "data": {
      "text/plain": "<pandas.core.groupby.generic.DataFrameGroupBy object at 0x000001E3AE33C6A0>"
     },
     "metadata": {},
     "execution_count": 54
    }
   ],
   "source": [
    "df.groupby('key1')['data1']\n",
    "df.groupby('key1')[['data2']]"
   ]
  },
  {
   "source": [
    "are syntactic sugar for:"
   ],
   "cell_type": "markdown",
   "metadata": {}
  },
  {
   "cell_type": "code",
   "execution_count": 55,
   "metadata": {},
   "outputs": [
    {
     "output_type": "execute_result",
     "data": {
      "text/plain": "<pandas.core.groupby.generic.DataFrameGroupBy object at 0x000001E3AE0EAC70>"
     },
     "metadata": {},
     "execution_count": 55
    }
   ],
   "source": [
    "df['data1'].groupby(df['key1'])\n",
    "df[['data2']].groupby(df['key1'])"
   ]
  },
  {
   "source": [
    "Especially for large datasets, it may be desirable to aggregate only a few columns. For example, in the preceding dataset, to compute means for just the data2 column and get the result as a DataFrame, we could write:"
   ],
   "cell_type": "markdown",
   "metadata": {}
  },
  {
   "cell_type": "code",
   "execution_count": 56,
   "metadata": {},
   "outputs": [
    {
     "output_type": "execute_result",
     "data": {
      "text/plain": "              data2\nkey1 key2          \na    one  -0.875377\n     two   0.502881\nb    one  -1.245288\n     two  -1.057952",
      "text/html": "<div>\n<style scoped>\n    .dataframe tbody tr th:only-of-type {\n        vertical-align: middle;\n    }\n\n    .dataframe tbody tr th {\n        vertical-align: top;\n    }\n\n    .dataframe thead th {\n        text-align: right;\n    }\n</style>\n<table border=\"1\" class=\"dataframe\">\n  <thead>\n    <tr style=\"text-align: right;\">\n      <th></th>\n      <th></th>\n      <th>data2</th>\n    </tr>\n    <tr>\n      <th>key1</th>\n      <th>key2</th>\n      <th></th>\n    </tr>\n  </thead>\n  <tbody>\n    <tr>\n      <th rowspan=\"2\" valign=\"top\">a</th>\n      <th>one</th>\n      <td>-0.875377</td>\n    </tr>\n    <tr>\n      <th>two</th>\n      <td>0.502881</td>\n    </tr>\n    <tr>\n      <th rowspan=\"2\" valign=\"top\">b</th>\n      <th>one</th>\n      <td>-1.245288</td>\n    </tr>\n    <tr>\n      <th>two</th>\n      <td>-1.057952</td>\n    </tr>\n  </tbody>\n</table>\n</div>"
     },
     "metadata": {},
     "execution_count": 56
    }
   ],
   "source": [
    "df.groupby(['key1', 'key2'])[['data2']].mean()"
   ]
  },
  {
   "source": [
    "The object returned by this indexing operation is a grouped DataFrame if a list or array is passed or grouped Series if only a single column name is passed as a scalar:"
   ],
   "cell_type": "markdown",
   "metadata": {}
  },
  {
   "cell_type": "code",
   "execution_count": 60,
   "metadata": {},
   "outputs": [
    {
     "output_type": "execute_result",
     "data": {
      "text/plain": "key1  key2\na     one    -0.875377\n      two     0.502881\nb     one    -1.245288\n      two    -1.057952\nName: data2, dtype: float64"
     },
     "metadata": {},
     "execution_count": 60
    }
   ],
   "source": [
    "s_grouped = df.groupby(['key1', 'key2',])['data2']\n",
    "s_grouped.mean()"
   ]
  },
  {
   "source": [
    "### Grouping with Dicts and Series\n",
    "\n",
    "Grouping information may exist in a form other than an array. Let's condiser another example DataFrame:"
   ],
   "cell_type": "markdown",
   "metadata": {}
  },
  {
   "cell_type": "code",
   "execution_count": 61,
   "metadata": {},
   "outputs": [
    {
     "output_type": "execute_result",
     "data": {
      "text/plain": "               a         b         c         d         e\nJoe     0.551454  2.292208  0.041539 -1.117925  0.539058\nSteve  -0.596160 -0.019130  1.175001 -0.747871  0.009025\nWes    -0.878108       NaN       NaN -0.988779 -0.338822\nJim    -0.236184 -0.637655 -1.187612 -1.421217 -0.153495\nTravis -0.269057  2.231367 -2.434768  0.112727  0.370445",
      "text/html": "<div>\n<style scoped>\n    .dataframe tbody tr th:only-of-type {\n        vertical-align: middle;\n    }\n\n    .dataframe tbody tr th {\n        vertical-align: top;\n    }\n\n    .dataframe thead th {\n        text-align: right;\n    }\n</style>\n<table border=\"1\" class=\"dataframe\">\n  <thead>\n    <tr style=\"text-align: right;\">\n      <th></th>\n      <th>a</th>\n      <th>b</th>\n      <th>c</th>\n      <th>d</th>\n      <th>e</th>\n    </tr>\n  </thead>\n  <tbody>\n    <tr>\n      <th>Joe</th>\n      <td>0.551454</td>\n      <td>2.292208</td>\n      <td>0.041539</td>\n      <td>-1.117925</td>\n      <td>0.539058</td>\n    </tr>\n    <tr>\n      <th>Steve</th>\n      <td>-0.596160</td>\n      <td>-0.019130</td>\n      <td>1.175001</td>\n      <td>-0.747871</td>\n      <td>0.009025</td>\n    </tr>\n    <tr>\n      <th>Wes</th>\n      <td>-0.878108</td>\n      <td>NaN</td>\n      <td>NaN</td>\n      <td>-0.988779</td>\n      <td>-0.338822</td>\n    </tr>\n    <tr>\n      <th>Jim</th>\n      <td>-0.236184</td>\n      <td>-0.637655</td>\n      <td>-1.187612</td>\n      <td>-1.421217</td>\n      <td>-0.153495</td>\n    </tr>\n    <tr>\n      <th>Travis</th>\n      <td>-0.269057</td>\n      <td>2.231367</td>\n      <td>-2.434768</td>\n      <td>0.112727</td>\n      <td>0.370445</td>\n    </tr>\n  </tbody>\n</table>\n</div>"
     },
     "metadata": {},
     "execution_count": 61
    }
   ],
   "source": [
    "people = pd.DataFrame(np.random.randn(5, 5),\n",
    "                      columns=['a', 'b', 'c', 'd', 'e'],\n",
    "                      index = ['Joe', 'Steve', 'Wes', 'Jim', 'Travis'])\n",
    "people.iloc[2:3, [1, 2]] = np.nan\n",
    "people"
   ]
  },
  {
   "source": [
    "Now suppose i have a group correspondence for the columns and i want to sum together the columns by group:"
   ],
   "cell_type": "markdown",
   "metadata": {}
  },
  {
   "cell_type": "code",
   "execution_count": 62,
   "metadata": {},
   "outputs": [],
   "source": [
    "mapping = {'a' : 'red', 'b' : 'red', 'c' : 'blue',\n",
    "           'd' : 'blue', 'e' : 'red', 'f' : 'orange'}"
   ]
  },
  {
   "source": [
    "Now, you could construct an array from this dict to pass to groupby, but instead we can just pass the dict (I included the key 'f' to highlight that unused groupings keys are OK):"
   ],
   "cell_type": "markdown",
   "metadata": {}
  },
  {
   "cell_type": "code",
   "execution_count": 63,
   "metadata": {},
   "outputs": [
    {
     "output_type": "execute_result",
     "data": {
      "text/plain": "            blue       red\nJoe    -1.076386  3.382720\nSteve   0.427130 -0.606265\nWes    -0.988779 -1.216930\nJim    -2.608830 -1.027334\nTravis -2.322041  2.332754",
      "text/html": "<div>\n<style scoped>\n    .dataframe tbody tr th:only-of-type {\n        vertical-align: middle;\n    }\n\n    .dataframe tbody tr th {\n        vertical-align: top;\n    }\n\n    .dataframe thead th {\n        text-align: right;\n    }\n</style>\n<table border=\"1\" class=\"dataframe\">\n  <thead>\n    <tr style=\"text-align: right;\">\n      <th></th>\n      <th>blue</th>\n      <th>red</th>\n    </tr>\n  </thead>\n  <tbody>\n    <tr>\n      <th>Joe</th>\n      <td>-1.076386</td>\n      <td>3.382720</td>\n    </tr>\n    <tr>\n      <th>Steve</th>\n      <td>0.427130</td>\n      <td>-0.606265</td>\n    </tr>\n    <tr>\n      <th>Wes</th>\n      <td>-0.988779</td>\n      <td>-1.216930</td>\n    </tr>\n    <tr>\n      <th>Jim</th>\n      <td>-2.608830</td>\n      <td>-1.027334</td>\n    </tr>\n    <tr>\n      <th>Travis</th>\n      <td>-2.322041</td>\n      <td>2.332754</td>\n    </tr>\n  </tbody>\n</table>\n</div>"
     },
     "metadata": {},
     "execution_count": 63
    }
   ],
   "source": [
    "by_column = people.groupby(mapping, axis=1)\n",
    "by_column.sum()"
   ]
  },
  {
   "source": [
    "### Grouping with functions\n",
    "\n",
    "Using Python functions is a more generic way of defining a group mapping compared with a dict or Series. Any function passed as a group key will be called once per index value, with the return values being used as the group names."
   ],
   "cell_type": "markdown",
   "metadata": {}
  },
  {
   "cell_type": "code",
   "execution_count": 64,
   "metadata": {},
   "outputs": [
    {
     "output_type": "execute_result",
     "data": {
      "text/plain": "          a         b         c         d         e\n3 -0.562838  1.654553 -1.146073 -3.527922  0.046741\n5 -0.596160 -0.019130  1.175001 -0.747871  0.009025\n6 -0.269057  2.231367 -2.434768  0.112727  0.370445",
      "text/html": "<div>\n<style scoped>\n    .dataframe tbody tr th:only-of-type {\n        vertical-align: middle;\n    }\n\n    .dataframe tbody tr th {\n        vertical-align: top;\n    }\n\n    .dataframe thead th {\n        text-align: right;\n    }\n</style>\n<table border=\"1\" class=\"dataframe\">\n  <thead>\n    <tr style=\"text-align: right;\">\n      <th></th>\n      <th>a</th>\n      <th>b</th>\n      <th>c</th>\n      <th>d</th>\n      <th>e</th>\n    </tr>\n  </thead>\n  <tbody>\n    <tr>\n      <th>3</th>\n      <td>-0.562838</td>\n      <td>1.654553</td>\n      <td>-1.146073</td>\n      <td>-3.527922</td>\n      <td>0.046741</td>\n    </tr>\n    <tr>\n      <th>5</th>\n      <td>-0.596160</td>\n      <td>-0.019130</td>\n      <td>1.175001</td>\n      <td>-0.747871</td>\n      <td>0.009025</td>\n    </tr>\n    <tr>\n      <th>6</th>\n      <td>-0.269057</td>\n      <td>2.231367</td>\n      <td>-2.434768</td>\n      <td>0.112727</td>\n      <td>0.370445</td>\n    </tr>\n  </tbody>\n</table>\n</div>"
     },
     "metadata": {},
     "execution_count": 64
    }
   ],
   "source": [
    "people.groupby(len).sum()"
   ]
  },
  {
   "source": [
    "Mixing functions with arrays, dicts, or Series is not a problem as everything gets converted to arrays internally:"
   ],
   "cell_type": "markdown",
   "metadata": {}
  },
  {
   "cell_type": "code",
   "execution_count": 66,
   "metadata": {},
   "outputs": [
    {
     "output_type": "execute_result",
     "data": {
      "text/plain": "              a         b         c         d         e\n3 one -0.878108  2.292208  0.041539 -1.117925 -0.338822\n  two -0.236184 -0.637655 -1.187612 -1.421217 -0.153495\n5 one -0.596160 -0.019130  1.175001 -0.747871  0.009025\n6 two -0.269057  2.231367 -2.434768  0.112727  0.370445",
      "text/html": "<div>\n<style scoped>\n    .dataframe tbody tr th:only-of-type {\n        vertical-align: middle;\n    }\n\n    .dataframe tbody tr th {\n        vertical-align: top;\n    }\n\n    .dataframe thead th {\n        text-align: right;\n    }\n</style>\n<table border=\"1\" class=\"dataframe\">\n  <thead>\n    <tr style=\"text-align: right;\">\n      <th></th>\n      <th></th>\n      <th>a</th>\n      <th>b</th>\n      <th>c</th>\n      <th>d</th>\n      <th>e</th>\n    </tr>\n  </thead>\n  <tbody>\n    <tr>\n      <th rowspan=\"2\" valign=\"top\">3</th>\n      <th>one</th>\n      <td>-0.878108</td>\n      <td>2.292208</td>\n      <td>0.041539</td>\n      <td>-1.117925</td>\n      <td>-0.338822</td>\n    </tr>\n    <tr>\n      <th>two</th>\n      <td>-0.236184</td>\n      <td>-0.637655</td>\n      <td>-1.187612</td>\n      <td>-1.421217</td>\n      <td>-0.153495</td>\n    </tr>\n    <tr>\n      <th>5</th>\n      <th>one</th>\n      <td>-0.596160</td>\n      <td>-0.019130</td>\n      <td>1.175001</td>\n      <td>-0.747871</td>\n      <td>0.009025</td>\n    </tr>\n    <tr>\n      <th>6</th>\n      <th>two</th>\n      <td>-0.269057</td>\n      <td>2.231367</td>\n      <td>-2.434768</td>\n      <td>0.112727</td>\n      <td>0.370445</td>\n    </tr>\n  </tbody>\n</table>\n</div>"
     },
     "metadata": {},
     "execution_count": 66
    }
   ],
   "source": [
    "key_list = ['one', 'one', 'one', 'two', 'two']\n",
    "people.groupby([len, key_list]).min()"
   ]
  },
  {
   "source": [
    "### Grouping by Index Levels\n",
    "\n",
    "A final convenience for hierarchically indexed datasets is the ability to aggregate using one of the levels of an axis index. Let's look at an example:"
   ],
   "cell_type": "markdown",
   "metadata": {}
  },
  {
   "cell_type": "code",
   "execution_count": 69,
   "metadata": {},
   "outputs": [
    {
     "output_type": "execute_result",
     "data": {
      "text/plain": "cty          US                            JP          \ntenor         1         3         5         1         3\n0      1.278379 -0.634679  0.508396  0.216116 -1.858612\n1     -0.419316 -0.132329 -0.039570  0.326003 -2.040323\n2      0.046256 -0.677676 -1.439439  0.524296  0.735280\n3     -0.653250  0.842456 -0.381516  0.066489 -1.098739",
      "text/html": "<div>\n<style scoped>\n    .dataframe tbody tr th:only-of-type {\n        vertical-align: middle;\n    }\n\n    .dataframe tbody tr th {\n        vertical-align: top;\n    }\n\n    .dataframe thead tr th {\n        text-align: left;\n    }\n</style>\n<table border=\"1\" class=\"dataframe\">\n  <thead>\n    <tr>\n      <th>cty</th>\n      <th colspan=\"3\" halign=\"left\">US</th>\n      <th colspan=\"2\" halign=\"left\">JP</th>\n    </tr>\n    <tr>\n      <th>tenor</th>\n      <th>1</th>\n      <th>3</th>\n      <th>5</th>\n      <th>1</th>\n      <th>3</th>\n    </tr>\n  </thead>\n  <tbody>\n    <tr>\n      <th>0</th>\n      <td>1.278379</td>\n      <td>-0.634679</td>\n      <td>0.508396</td>\n      <td>0.216116</td>\n      <td>-1.858612</td>\n    </tr>\n    <tr>\n      <th>1</th>\n      <td>-0.419316</td>\n      <td>-0.132329</td>\n      <td>-0.039570</td>\n      <td>0.326003</td>\n      <td>-2.040323</td>\n    </tr>\n    <tr>\n      <th>2</th>\n      <td>0.046256</td>\n      <td>-0.677676</td>\n      <td>-1.439439</td>\n      <td>0.524296</td>\n      <td>0.735280</td>\n    </tr>\n    <tr>\n      <th>3</th>\n      <td>-0.653250</td>\n      <td>0.842456</td>\n      <td>-0.381516</td>\n      <td>0.066489</td>\n      <td>-1.098739</td>\n    </tr>\n  </tbody>\n</table>\n</div>"
     },
     "metadata": {},
     "execution_count": 69
    }
   ],
   "source": [
    "columns = pd.MultiIndex.from_arrays([['US', 'US', 'US', 'JP', 'JP'],\n",
    "                                     [1, 3, 5, 1, 3]],\n",
    "                                     names=['cty', 'tenor'])\n",
    "hier_df = pd.DataFrame(np.random.randn(4, 5), columns=columns)\n",
    "hier_df"
   ]
  },
  {
   "source": [
    "## Data Aggregation\n",
    "\n",
    "Aggregations refer to any data transformation that produces scalar values from arrays. The preceding examples have used several of them, including mean, count, min and sum. You may wonder what is going on when you invoke *mean* on a groupby object. Many common aggregations have optimized implementations. However, you are not limited to only this set of methods,\n",
    "\n",
    "You can use aggregations of your own devising and additionally call any method that is also defined on the grouped object. For example, you might recall that quantile computes sample quatiles of a Seres or a DataFrame's columns.\n",
    "\n",
    "While quantile is not explicitly implemented for GroypBy, it is a Series method and thus available for use."
   ],
   "cell_type": "markdown",
   "metadata": {}
  },
  {
   "cell_type": "code",
   "execution_count": 70,
   "metadata": {},
   "outputs": [
    {
     "output_type": "execute_result",
     "data": {
      "text/plain": "  key1 key2     data1     data2\n0    a  one -0.416758 -0.841747\n1    a  two -0.056267  0.502881\n2    b  one -2.136196 -1.245288\n3    b  two  1.640271 -1.057952\n4    a  one -1.793436 -0.909008",
      "text/html": "<div>\n<style scoped>\n    .dataframe tbody tr th:only-of-type {\n        vertical-align: middle;\n    }\n\n    .dataframe tbody tr th {\n        vertical-align: top;\n    }\n\n    .dataframe thead th {\n        text-align: right;\n    }\n</style>\n<table border=\"1\" class=\"dataframe\">\n  <thead>\n    <tr style=\"text-align: right;\">\n      <th></th>\n      <th>key1</th>\n      <th>key2</th>\n      <th>data1</th>\n      <th>data2</th>\n    </tr>\n  </thead>\n  <tbody>\n    <tr>\n      <th>0</th>\n      <td>a</td>\n      <td>one</td>\n      <td>-0.416758</td>\n      <td>-0.841747</td>\n    </tr>\n    <tr>\n      <th>1</th>\n      <td>a</td>\n      <td>two</td>\n      <td>-0.056267</td>\n      <td>0.502881</td>\n    </tr>\n    <tr>\n      <th>2</th>\n      <td>b</td>\n      <td>one</td>\n      <td>-2.136196</td>\n      <td>-1.245288</td>\n    </tr>\n    <tr>\n      <th>3</th>\n      <td>b</td>\n      <td>two</td>\n      <td>1.640271</td>\n      <td>-1.057952</td>\n    </tr>\n    <tr>\n      <th>4</th>\n      <td>a</td>\n      <td>one</td>\n      <td>-1.793436</td>\n      <td>-0.909008</td>\n    </tr>\n  </tbody>\n</table>\n</div>"
     },
     "metadata": {},
     "execution_count": 70
    }
   ],
   "source": [
    "df"
   ]
  },
  {
   "cell_type": "code",
   "execution_count": 71,
   "metadata": {},
   "outputs": [
    {
     "output_type": "execute_result",
     "data": {
      "text/plain": "key1\na   -0.128365\nb    1.262624\nName: data1, dtype: float64"
     },
     "metadata": {},
     "execution_count": 71
    }
   ],
   "source": [
    "grouped = df.groupby('key1')\n",
    "grouped['data1'].quantile(0.9)"
   ]
  },
  {
   "source": [
    "To use your own aggregation fucntions, pass any function that aggregates an array to the aggregate or agg method:"
   ],
   "cell_type": "markdown",
   "metadata": {}
  },
  {
   "cell_type": "code",
   "execution_count": 72,
   "metadata": {},
   "outputs": [
    {
     "output_type": "execute_result",
     "data": {
      "text/plain": "         data1     data2\nkey1                    \na     1.737169  1.411889\nb     3.776467  0.187336",
      "text/html": "<div>\n<style scoped>\n    .dataframe tbody tr th:only-of-type {\n        vertical-align: middle;\n    }\n\n    .dataframe tbody tr th {\n        vertical-align: top;\n    }\n\n    .dataframe thead th {\n        text-align: right;\n    }\n</style>\n<table border=\"1\" class=\"dataframe\">\n  <thead>\n    <tr style=\"text-align: right;\">\n      <th></th>\n      <th>data1</th>\n      <th>data2</th>\n    </tr>\n    <tr>\n      <th>key1</th>\n      <th></th>\n      <th></th>\n    </tr>\n  </thead>\n  <tbody>\n    <tr>\n      <th>a</th>\n      <td>1.737169</td>\n      <td>1.411889</td>\n    </tr>\n    <tr>\n      <th>b</th>\n      <td>3.776467</td>\n      <td>0.187336</td>\n    </tr>\n  </tbody>\n</table>\n</div>"
     },
     "metadata": {},
     "execution_count": 72
    }
   ],
   "source": [
    "def peak_to_peak(arr):\n",
    "    return arr.max() - arr.min()\n",
    "\n",
    "grouped.agg(peak_to_peak)"
   ]
  },
  {
   "cell_type": "code",
   "execution_count": null,
   "metadata": {},
   "outputs": [],
   "source": [
    "### Column-wise and multiple function application"
   ]
  }
 ]
}