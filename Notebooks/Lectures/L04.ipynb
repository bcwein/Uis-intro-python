{
 "cells": [
  {
   "cell_type": "markdown",
   "metadata": {
    "slideshow": {
     "slide_type": "slide"
    }
   },
   "source": [
    "# NumPy: Arrays and Vectorized Computations\n",
    "## DAT540 Introduction to Data Science\n",
    "## University of Stavanger\n",
    "### L04\n",
    "#### Antorweep Chakravorty (antorweep.chakravorty@uis.no)"
   ]
  },
  {
   "cell_type": "markdown",
   "metadata": {},
   "source": [
    "- **NumPy** or *Numerical Python*, is one of the most important foundational package for numerical computing in python\n",
    " - *ndarray*, an efficient multidimensional array provides fast array-oriented arithmetic operations and flexible *broadcasting* capabilities\n",
    " - Mathematical functions for fast operations on entire array of data without having to write loops\n",
    " - Tools for reading/writing array data to disk and working with memory-mapped files\n",
    " - Linear algebra, random number generation and Fourier transform capabilities\n",
    " - A C-API for connecting NumPy with libraries written in C, C++, or FORTRAN\n",
    " - NumPy C-API allows data to be easily passed to external libraries written in a low-level language and for external libraries to return data to python as NumPy arrays"
   ]
  },
  {
   "cell_type": "markdown",
   "metadata": {},
   "source": [
    "  - The main areas of functionality for the use of NumPy arrays for data analysis:\n",
    "    - Fast vectorized array operations for data mugging and cleaning, sub-setting, and filtering, transformation, and any kinds of computations\n",
    "    - Common array algorithms like sorting, unique, and set operations\n",
    "    - Efficient descriptive statistics and aggregating/summarizing data\n",
    "    - Data alignment and relational data manipulation for merging and joining heterogeneous datasets\n",
    "    - Expressing conditional logic as array expressions instead of loops \n",
    "    - Group-wise data manipulations (aggregation, transformation, function application)"
   ]
  },
  {
   "cell_type": "markdown",
   "metadata": {},
   "source": [
    "- NumPy based algorithms are generally 10 to 100 times faster than their pure python counterparts and use significantly less memory"
   ]
  },
  {
   "cell_type": "code",
   "execution_count": 2,
   "metadata": {},
   "outputs": [],
   "source": [
    "import numpy as np\n",
    "#million numbers\n",
    "n = 1000000\n",
    "my_arr = np.arange(n)\n",
    "my_list = list(range(n))\n",
    "# Now let us multipy each sequence by 2"
   ]
  },
  {
   "cell_type": "code",
   "execution_count": 3,
   "metadata": {},
   "outputs": [
    {
     "name": "stdout",
     "output_type": "stream",
     "text": [
      "8000096\n",
      "956 µs ± 67.8 µs per loop (mean ± std. dev. of 7 runs, 1000 loops each)\n"
     ]
    }
   ],
   "source": [
    "import sys\n",
    "print(sys.getsizeof(my_arr)) #bytes\n",
    "%timeit my_arr * 2"
   ]
  },
  {
   "cell_type": "code",
   "execution_count": 4,
   "metadata": {},
   "outputs": [
    {
     "name": "stdout",
     "output_type": "stream",
     "text": [
      "9000112\n",
      "50.6 ms ± 1.4 ms per loop (mean ± std. dev. of 7 runs, 10 loops each)\n"
     ]
    }
   ],
   "source": [
    "print(sys.getsizeof(my_list)) #bytes\n",
    "%timeit [x * 2 for x in my_list]"
   ]
  },
  {
   "cell_type": "markdown",
   "metadata": {},
   "source": [
    "- **ndarray** a multidimensional array object that provides a fast and flexible container for large homogeneous datasets"
   ]
  },
  {
   "cell_type": "code",
   "execution_count": 5,
   "metadata": {},
   "outputs": [
    {
     "data": {
      "text/plain": [
       "array([[-1.15222223,  0.99230019,  0.18427945],\n",
       "       [ 0.47449334,  0.21408703, -2.81126005]])"
      ]
     },
     "execution_count": 5,
     "metadata": {},
     "output_type": "execute_result"
    }
   ],
   "source": [
    "import numpy as np\n",
    "data = np.random.randn(2,3)\n",
    "data"
   ]
  },
  {
   "cell_type": "markdown",
   "metadata": {},
   "source": [
    " - ndarrays also allows direct scalar and matrix operations "
   ]
  },
  {
   "cell_type": "code",
   "execution_count": 6,
   "metadata": {},
   "outputs": [
    {
     "name": "stdout",
     "output_type": "stream",
     "text": [
      "[[-11.52222227   9.92300192   1.84279452]\n",
      " [  4.74493337   2.14087026 -28.11260048]]\n",
      "----------------------------------------------------------------------------------------------------\n",
      "[[-2.30444445  1.98460038  0.3685589 ]\n",
      " [ 0.94898667  0.42817405 -5.6225201 ]]\n"
     ]
    }
   ],
   "source": [
    "print(data * 10)\n",
    "print('-' * 100)\n",
    "print(data + data)"
   ]
  },
  {
   "cell_type": "markdown",
   "metadata": {},
   "source": [
    " - Each ndarray has a *shape* tuple describing the size dimensions, and  *dtype*, object describing the data type "
   ]
  },
  {
   "cell_type": "code",
   "execution_count": 7,
   "metadata": {},
   "outputs": [
    {
     "name": "stdout",
     "output_type": "stream",
     "text": [
      "(2, 3)\n",
      "float64\n"
     ]
    }
   ],
   "source": [
    "print(data.shape)\n",
    "print(data.dtype)"
   ]
  },
  {
   "cell_type": "markdown",
   "metadata": {},
   "source": [
    " - ndarray can be created using the **array** function\n",
    " - It accepts any sequence-like object (including other arrays) and produces a new numpy array containing the passed data\n",
    "\n",
    "```python\n",
    "data1 = [6,7.5,8,0,1]\n",
    "arr1 = np.array(data)\n",
    "```\n",
    " - Nested sequences, like a list of equal-length list, will also be converted into a multidimensional array\n",
    "\n",
    "```python\n",
    "data2 = [[1,2,3,4], [5,6,7,8]]\n",
    "arr2 = np.array(data2)\n",
    "```\n",
    " - What will be shape of arr2?\n",
    " - Additionally to *np.array*, there are other functions for creating new arrays.\n",
    " - **zeros** and **ones** create arrays of 0s or 1s respectively\n",
    " - **empty** would create an array that contains zeros, ones or garbage values"
   ]
  },
  {
   "cell_type": "code",
   "execution_count": 9,
   "metadata": {},
   "outputs": [
    {
     "name": "stdout",
     "output_type": "stream",
     "text": [
      "[0. 0. 0. 0. 0. 0. 0. 0. 0. 0.]\n",
      "----------------------------------------------------------------------------------------------------\n",
      "[[0. 0. 0. 0.]\n",
      " [0. 0. 0. 0.]]\n",
      "----------------------------------------------------------------------------------------------------\n",
      "[1. 1. 1. 1. 1. 1. 1. 1. 1. 1.]\n",
      "----------------------------------------------------------------------------------------------------\n",
      "[1. 1. 1. 1. 1. 1. 1. 1. 1. 1.]\n"
     ]
    }
   ],
   "source": [
    "print(np.zeros(10))\n",
    "print('-' * 100)\n",
    "print(np.zeros((2,4))) # multidimentional\n",
    "print('-' * 100)\n",
    "print(np.ones(10))\n",
    "print('-' * 100)\n",
    "print(np.empty(10))"
   ]
  },
  {
   "cell_type": "markdown",
   "metadata": {},
   "source": [
    "  - **arange** is an array-valued version of built-in python *range* function"
   ]
  },
  {
   "cell_type": "code",
   "execution_count": 10,
   "metadata": {},
   "outputs": [
    {
     "data": {
      "text/plain": [
       "array([ 0,  1,  2,  3,  4,  5,  6,  7,  8,  9, 10, 11, 12, 13, 14])"
      ]
     },
     "execution_count": 10,
     "metadata": {},
     "output_type": "execute_result"
    }
   ],
   "source": [
    "np.arange(15)"
   ]
  },
  {
   "cell_type": "markdown",
   "metadata": {},
   "source": [
    "  - Array creation functions\n",
    "  <img src='arr_creation_func.png'>"
   ]
  },
  {
   "cell_type": "markdown",
   "metadata": {
    "slideshow": {
     "slide_type": "slide"
    }
   },
   "source": [
    "- *NumPy* - a multidimensional array object\n",
    "  - **Data Types**\n",
    "    - *dtype* is a special object containing the information / meta-data about the objects stored in a ndarray\n",
    "    - dtypes provide mapping directly onto an underlying disk or memory representation\n",
    "    - Allows easy read and write of binary stream of data to disk and to connect to code written in a low level language like C\n",
    "    <img src='numpy_datatypes.png'>"
   ]
  },
  {
   "cell_type": "markdown",
   "metadata": {
    "slideshow": {
     "slide_type": "subslide"
    }
   },
   "source": [
    "  - A NumPy array can be converted or casted from one dtype to another using the ndarray's **astype** method\n",
    "  - astype accepts a NumPy data type or the dtype of an existing ndarray\n",
    "  - Calling astype always creates a new array (a copy of the data), even if the new dtype is the same as the old dtype"
   ]
  },
  {
   "cell_type": "code",
   "execution_count": 1,
   "metadata": {
    "ExecuteTime": {
     "end_time": "2019-08-29T16:57:47.545602Z",
     "start_time": "2019-08-29T16:57:47.464615Z"
    },
    "slideshow": {
     "slide_type": "fragment"
    }
   },
   "outputs": [
    {
     "name": "stdout",
     "output_type": "stream",
     "text": [
      "int64\n",
      "float64\n"
     ]
    }
   ],
   "source": [
    "import numpy as np\n",
    "arr = np.arange(5)\n",
    "print(arr.dtype)\n",
    "arr = arr.astype(np.float64)\n",
    "print(arr.dtype)"
   ]
  },
  {
   "cell_type": "markdown",
   "metadata": {
    "slideshow": {
     "slide_type": "subslide"
    }
   },
   "source": [
    "- **Pseudorandom Number Generator**\n",
    "  - The numpy.random module supplements the build-in python random with functions for efficiency generating whole arrays of sample values from many kinds of probability distributions\n",
    "  - They are termed as pseudorandom numbers because they are generated by an algorithm with deterministic behavior based on the *seed* of the random number generator\n",
    "  - The data generation functions in numpy.random use a global random seed\n",
    "  \n",
    "  ```python\n",
    "  import numpy as np\n",
    "  np.random.seed(123)\n",
    "  np.random.normal(size=(4,4))\n",
    "  ```\n",
    "  - To avoid global state, *numpy.random.RandomState* can be used to create a random number generator isolated from other\n",
    "  \n",
    "  ```python\n",
    "  import numpy as np\n",
    "  rgn = np.random.RandomState(1234)\n",
    "  rgn.normal(size=(4,4))\n",
    "  ```\n",
    "<img src='np_random.png' width='450'>\n",
    "  "
   ]
  },
  {
   "cell_type": "markdown",
   "metadata": {
    "slideshow": {
     "slide_type": "subslide"
    }
   },
   "source": [
    " - Arithmetic Operations\n",
    "   - ndarray offers *vectorization*, that is allow batch operation on data without writing any for loops\n",
    "   - Any arithmetic operations between equal size arrays applies the operation element wise\n",
    "   - Operations with scalars propagate the scalar argument to each element in the array\n",
    "   - Comparisons between arrays of same size yields boolean arrays\n",
    "   - Operations between different sized arrays is called broadcasting"
   ]
  },
  {
   "cell_type": "code",
   "execution_count": 2,
   "metadata": {
    "ExecuteTime": {
     "end_time": "2019-08-29T16:57:47.555030Z",
     "start_time": "2019-08-29T16:57:47.547766Z"
    },
    "slideshow": {
     "slide_type": "subslide"
    }
   },
   "outputs": [
    {
     "name": "stdout",
     "output_type": "stream",
     "text": [
      "arr1 shape: (2, 2)\n",
      "arr2 shape: (2, 2)\n",
      "op: arr1 * arr2\n",
      "[[ 0  5]\n",
      " [12 21]]\n",
      "op: arr1 - arr2\n",
      "[[-4 -4]\n",
      " [-4 -4]]\n"
     ]
    }
   ],
   "source": [
    "# Operation between two equally sized arrays\n",
    "arr1 = np.arange(4).reshape(2,2) # reshape shapes the array into the given share\n",
    "arr2 = np.arange(4, 8).reshape(2,2) # Here arange is generating numbers from 4 until 8\n",
    "print('arr1 shape:', arr1.shape)\n",
    "print('arr2 shape:', arr2.shape)\n",
    "\n",
    "# Operation between equal sized arrays are applied element wise\n",
    "result1 = arr1 * arr2\n",
    "print('op: arr1 * arr2')\n",
    "print(result1)\n",
    "print('op: arr1 - arr2')\n",
    "result2 = arr1 - arr2\n",
    "print(result2)"
   ]
  },
  {
   "cell_type": "code",
   "execution_count": 3,
   "metadata": {
    "ExecuteTime": {
     "end_time": "2019-08-29T16:57:47.564470Z",
     "start_time": "2019-08-29T16:57:47.557216Z"
    },
    "slideshow": {
     "slide_type": "subslide"
    }
   },
   "outputs": [
    {
     "name": "stdout",
     "output_type": "stream",
     "text": [
      "op: arr1 / 10\n",
      "[[0.  0.1]\n",
      " [0.2 0.3]]\n",
      "op: arr4 > arr3\n",
      "[[ True False]\n",
      " [False False]]\n"
     ]
    }
   ],
   "source": [
    "# Operation with scalars propagate the scalar argument to each element in the array\n",
    "result3 = arr1 / 10\n",
    "print('op: arr1 / 10')\n",
    "print(result3)\n",
    "\n",
    "# Comparisions between arrays of same size yields a boolean array\n",
    "np.random.seed(12345) # A random seed is a number used to initialize a pseudorandom number generator. \n",
    "arr3 = np.random.randint(-100, 100, size=4).reshape(2,2) # randint is used to generate random ints. args are low, high and size\n",
    "arr4 = np.random.randint(-100, 100, size=4).reshape(2,2) # reshape is used to structure a sequence on number into a shape\n",
    "result4 = arr4 > arr3\n",
    "print('op: arr4 > arr3')\n",
    "print(result4)"
   ]
  },
  {
   "cell_type": "markdown",
   "metadata": {
    "slideshow": {
     "slide_type": "subslide"
    }
   },
   "source": [
    " - **Basic Indexing and Slicing**\n",
    "   - Indexing and slicing on one dimensional ndarrays are similar to python lists on the surface\n",
    "   - If an scalar value is assigned to a slice, arr[5:8] = 12, the value is propagated (or broadcasted) to the entire section\n",
    "   - What happens if you do a bare slice assignment: arr[:] = 12 \n",
    "   - Array slice on ndarrays are views on the original array. The data does not get replicated or copied and any changes to the slice or view gets reflected to the original array\n",
    "   - A copy of a array slice can be created using *copy.copy* or directly the **copy** method of any dnarray   "
   ]
  },
  {
   "cell_type": "code",
   "execution_count": 4,
   "metadata": {
    "ExecuteTime": {
     "end_time": "2019-08-29T16:57:47.572428Z",
     "start_time": "2019-08-29T16:57:47.567105Z"
    },
    "slideshow": {
     "slide_type": "subslide"
    }
   },
   "outputs": [
    {
     "name": "stdout",
     "output_type": "stream",
     "text": [
      "arr:  [0 1 2 3 4 5 6 7 8 9]\n",
      "arr:  [ 0  1  2  3  4 12 12 12  8  9]\n"
     ]
    }
   ],
   "source": [
    "#Basic Indexing and Slicing\n",
    "arr = np.arange(10)\n",
    "print('arr: ', arr)\n",
    "arr[5:8] = 12\n",
    "print('arr: ', arr)"
   ]
  },
  {
   "cell_type": "code",
   "execution_count": 5,
   "metadata": {
    "ExecuteTime": {
     "end_time": "2019-08-29T16:57:47.581443Z",
     "start_time": "2019-08-29T16:57:47.574979Z"
    },
    "slideshow": {
     "slide_type": "fragment"
    }
   },
   "outputs": [
    {
     "name": "stdout",
     "output_type": "stream",
     "text": [
      "arr1:  [99  2  3]\n",
      "arr2:  [100 100 100]\n",
      "arr:  [ 0  1  2  3  4 12 12 12  8  9]\n"
     ]
    }
   ],
   "source": [
    "import copy\n",
    "arr1 = copy.copy(arr[1:4])\n",
    "arr1[0] = 99\n",
    "arr2 = arr[7:10].copy()\n",
    "arr2[:] = 100\n",
    "print('arr1: ', arr1)\n",
    "print('arr2: ', arr2)\n",
    "print('arr: ', arr)"
   ]
  },
  {
   "cell_type": "markdown",
   "metadata": {
    "slideshow": {
     "slide_type": "subslide"
    }
   },
   "source": [
    "   - Elements in a multidimensional ndarray can be accessed directly by passing a comma separated list of indices to select individual elements\n",
    "<img src='numpy_indexing.png' width='250'>"
   ]
  },
  {
   "cell_type": "code",
   "execution_count": 6,
   "metadata": {
    "ExecuteTime": {
     "end_time": "2019-08-29T16:57:47.588462Z",
     "start_time": "2019-08-29T16:57:47.583583Z"
    },
    "slideshow": {
     "slide_type": "subslide"
    }
   },
   "outputs": [
    {
     "name": "stdout",
     "output_type": "stream",
     "text": [
      "arr2d[0][1]= 59  is same as arr2d[0,1]= 59\n"
     ]
    }
   ],
   "source": [
    "# accessing multidimentional arrays\n",
    "arr2d = np.random.randint(0, 100, 4).reshape(2,2)\n",
    "print('arr2d[0][1]=', arr2d[0][1], ' is same as arr2d[0,1]=', arr2d[0,1])"
   ]
  },
  {
   "cell_type": "code",
   "execution_count": 7,
   "metadata": {
    "ExecuteTime": {
     "end_time": "2019-08-29T16:57:47.597839Z",
     "start_time": "2019-08-29T16:57:47.590337Z"
    },
    "slideshow": {
     "slide_type": "fragment"
    }
   },
   "outputs": [
    {
     "name": "stdout",
     "output_type": "stream",
     "text": [
      "arr3d:\n",
      " [[[80 73]\n",
      "  [11 77]]\n",
      "\n",
      " [[10 81]\n",
      "  [82 38]]]\n",
      "2x2 array:\n",
      " [[80 73]\n",
      " [11 77]]\n",
      "1x2 array:\n",
      " [11 77]\n",
      "indivisual element: 77\n"
     ]
    }
   ],
   "source": [
    "arr3d = np.random.randint(0, 100, 8).reshape(2,2,2)\n",
    "print('arr3d:\\n', arr3d)\n",
    "print('2x2 array:\\n', arr3d[0])\n",
    "print('1x2 array:\\n', arr3d[0, 1])\n",
    "print('indivisual element:', arr3d[0, 1, 1])"
   ]
  },
  {
   "cell_type": "markdown",
   "metadata": {
    "slideshow": {
     "slide_type": "subslide"
    }
   },
   "source": [
    "   - Modifying and copying slices in a multidimensional array"
   ]
  },
  {
   "cell_type": "markdown",
   "metadata": {
    "slideshow": {
     "slide_type": "fragment"
    }
   },
   "source": [
    "   - **Indexing with slices**'\n",
    "    - 1d ndarrays can be slices in similar fashion to that of normal python lists\n",
    "    - multi-dimensional arrays can be sliced on each **axis** generating a view on a sub-array or element\n",
    "    - *axis* are the dimensions on a ndarray. For example a 3d array has 3 axes. "
   ]
  },
  {
   "cell_type": "code",
   "execution_count": 8,
   "metadata": {
    "ExecuteTime": {
     "end_time": "2019-08-29T16:57:47.604106Z",
     "start_time": "2019-08-29T16:57:47.600236Z"
    },
    "slideshow": {
     "slide_type": "fragment"
    }
   },
   "outputs": [
    {
     "name": "stdout",
     "output_type": "stream",
     "text": [
      "[92 98 17]\n"
     ]
    }
   ],
   "source": [
    "np.random.seed(123)\n",
    "arr1d = np.random.randint(0, 100, 5)\n",
    "print(arr1d[1:4]) # get all elements from index 1 until index 4"
   ]
  },
  {
   "cell_type": "code",
   "execution_count": 9,
   "metadata": {
    "ExecuteTime": {
     "end_time": "2019-08-29T16:57:47.610720Z",
     "start_time": "2019-08-29T16:57:47.606126Z"
    },
    "slideshow": {
     "slide_type": "subslide"
    }
   },
   "outputs": [
    {
     "name": "stdout",
     "output_type": "stream",
     "text": [
      "complete arr2d:\n",
      " [[57 86 97]\n",
      " [96 47 73]\n",
      " [32 46 96]]\n",
      "sliced arr2d[:2]\n",
      " [[57 86 97]\n",
      " [96 47 73]]\n"
     ]
    }
   ],
   "source": [
    "# Two dimentional array slicing\n",
    "arr2d = np.random.randint(0, 100, 9).reshape(3,3)\n",
    "print('complete arr2d:\\n', arr2d)\n",
    "print('sliced arr2d[:2]\\n', arr2d[:2]) # get all sub-arrays from index 0 until index 2 on axis 0"
   ]
  },
  {
   "cell_type": "code",
   "execution_count": 10,
   "metadata": {
    "ExecuteTime": {
     "end_time": "2019-08-29T16:57:47.616683Z",
     "start_time": "2019-08-29T16:57:47.612544Z"
    },
    "slideshow": {
     "slide_type": "fragment"
    }
   },
   "outputs": [
    {
     "name": "stdout",
     "output_type": "stream",
     "text": [
      "sliced arr2d[:2, 1:3]\n",
      " [[86 97]\n",
      " [47 73]]\n"
     ]
    }
   ],
   "source": [
    "# get all sub-arrays from index 0 until index 2 on axis 0 and from index 1 until index 3 on axis 1\n",
    "print('sliced arr2d[:2, 1:3]\\n', arr2d[:2, 1:3]) "
   ]
  },
  {
   "cell_type": "markdown",
   "metadata": {
    "slideshow": {
     "slide_type": "fragment"
    }
   },
   "source": [
    "<img src='2darray_slicing.png' width='150'>"
   ]
  },
  {
   "cell_type": "code",
   "execution_count": 11,
   "metadata": {
    "ExecuteTime": {
     "end_time": "2019-08-29T16:57:47.624074Z",
     "start_time": "2019-08-29T16:57:47.618572Z"
    },
    "slideshow": {
     "slide_type": "subslide"
    }
   },
   "outputs": [
    {
     "name": "stdout",
     "output_type": "stream",
     "text": [
      "arr3d (original):\n",
      " [[[66 92]\n",
      "  [98 17]]\n",
      "\n",
      " [[83 57]\n",
      "  [86 97]]]\n"
     ]
    }
   ],
   "source": [
    "#Swapping Values\n",
    "np.random.seed(123)\n",
    "arr3d = np.random.randint(0, 100, 8).reshape(2,2,2)\n",
    "print('arr3d (original):\\n', arr3d)\n",
    "# Swapping values at arr3d[0,0] with arr3d[1,1]\n",
    "temp = arr3d[0,0]\n",
    "arr3d[0,0] = arr3d[1,1] # assigning a multi-dimentional sequence\n",
    "arr3d[1,1] = temp # is it a success?"
   ]
  },
  {
   "cell_type": "code",
   "execution_count": 12,
   "metadata": {
    "ExecuteTime": {
     "end_time": "2019-08-29T16:57:47.631067Z",
     "start_time": "2019-08-29T16:57:47.625960Z"
    },
    "slideshow": {
     "slide_type": "fragment"
    }
   },
   "outputs": [
    {
     "name": "stdout",
     "output_type": "stream",
     "text": [
      "arr3d (swapped):\n",
      " [[[86 97]\n",
      "  [98 17]]\n",
      "\n",
      " [[83 57]\n",
      "  [86 97]]]\n"
     ]
    }
   ],
   "source": [
    "print('arr3d (swapped):\\n', arr3d) # Why?"
   ]
  },
  {
   "cell_type": "code",
   "execution_count": 13,
   "metadata": {
    "ExecuteTime": {
     "end_time": "2019-08-29T16:57:47.639339Z",
     "start_time": "2019-08-29T16:57:47.633440Z"
    },
    "slideshow": {
     "slide_type": "subslide"
    }
   },
   "outputs": [
    {
     "name": "stdout",
     "output_type": "stream",
     "text": [
      "arr3d (original):\n",
      " [[[66 92]\n",
      "  [98 17]]\n",
      "\n",
      " [[83 57]\n",
      "  [86 97]]]\n",
      "arr3d (swapped):\n",
      " [[[86 97]\n",
      "  [98 17]]\n",
      "\n",
      " [[83 57]\n",
      "  [66 92]]]\n"
     ]
    }
   ],
   "source": [
    "#Swapping Values\n",
    "np.random.seed(123)\n",
    "arr3d = np.random.randint(0, 100, 8).reshape(2,2,2)\n",
    "print('arr3d (original):\\n', arr3d)\n",
    "# Swapping values at arr3d[0,0] with arr3d[1,1]. The right way\n",
    "temp = arr3d[0,0].copy() # store a copy\n",
    "arr3d[0,0] = arr3d[1,1] # assigning a multi-dimentional sequence\n",
    "arr3d[1,1] = temp \n",
    "print('arr3d (swapped):\\n', arr3d)"
   ]
  },
  {
   "cell_type": "code",
   "execution_count": 14,
   "metadata": {
    "ExecuteTime": {
     "end_time": "2019-08-29T16:57:47.646688Z",
     "start_time": "2019-08-29T16:57:47.641462Z"
    },
    "slideshow": {
     "slide_type": "subslide"
    }
   },
   "outputs": [
    {
     "name": "stdout",
     "output_type": "stream",
     "text": [
      "arr3d (original):\n",
      " [[[66 92]\n",
      "  [98 17]]\n",
      "\n",
      " [[83 57]\n",
      "  [86 97]]]\n"
     ]
    }
   ],
   "source": [
    "# What happens when we only swap a single element\n",
    "# Swapping values at arr3d[0,0,0] with arr3d[1,1,1] and vice versa\n",
    "np.random.seed(123)\n",
    "arr3d = np.random.randint(0, 100, 8).reshape(2,2,2)\n",
    "print('arr3d (original):\\n', arr3d)\n",
    "\n",
    "temp = arr3d[0,0,0]\n",
    "arr3d[0,0,0] = arr3d[1,1,1] # assigning a single element\n",
    "arr3d[1,1,1] = temp"
   ]
  },
  {
   "cell_type": "code",
   "execution_count": 15,
   "metadata": {
    "ExecuteTime": {
     "end_time": "2019-08-29T16:57:47.652730Z",
     "start_time": "2019-08-29T16:57:47.648956Z"
    },
    "slideshow": {
     "slide_type": "fragment"
    }
   },
   "outputs": [
    {
     "name": "stdout",
     "output_type": "stream",
     "text": [
      "arr3d (swapped):\n",
      " [[[97 92]\n",
      "  [98 17]]\n",
      "\n",
      " [[83 57]\n",
      "  [86 66]]]\n"
     ]
    }
   ],
   "source": [
    "print('arr3d (swapped):\\n', arr3d)"
   ]
  },
  {
   "cell_type": "markdown",
   "metadata": {
    "slideshow": {
     "slide_type": "subslide"
    }
   },
   "source": [
    "  - **Boolean Indexing**\n",
    "  "
   ]
  },
  {
   "cell_type": "code",
   "execution_count": 6,
   "metadata": {
    "ExecuteTime": {
     "end_time": "2019-08-30T11:49:08.321254Z",
     "start_time": "2019-08-30T11:49:08.304249Z"
    },
    "slideshow": {
     "slide_type": "fragment"
    }
   },
   "outputs": [
    {
     "data": {
      "text/plain": [
       "array(['Bob', 'Bob', 'Will', 'Joe', 'Will', 'Joe', 'Joe'], dtype='<U4')"
      ]
     },
     "execution_count": 6,
     "metadata": {},
     "output_type": "execute_result"
    }
   ],
   "source": [
    "np.random.seed(123)\n",
    "data = np.random.randn(7, 4) # randn function generates some random normally distributed data. args: d1, d2, ... describes the shape of the returned array\n",
    "names = np.array(['Bob', 'Bob', 'Will', 'Joe', 'Will', 'Joe', 'Joe'])\n",
    "names"
   ]
  },
  {
   "cell_type": "code",
   "execution_count": 7,
   "metadata": {
    "ExecuteTime": {
     "end_time": "2019-08-30T11:49:08.848717Z",
     "start_time": "2019-08-30T11:49:08.840648Z"
    },
    "slideshow": {
     "slide_type": "fragment"
    }
   },
   "outputs": [
    {
     "data": {
      "text/plain": [
       "array([[-1.0856306 ,  0.99734545,  0.2829785 , -1.50629471],\n",
       "       [-0.57860025,  1.65143654, -2.42667924, -0.42891263],\n",
       "       [ 1.26593626, -0.8667404 , -0.67888615, -0.09470897],\n",
       "       [ 1.49138963, -0.638902  , -0.44398196, -0.43435128],\n",
       "       [ 2.20593008,  2.18678609,  1.0040539 ,  0.3861864 ],\n",
       "       [ 0.73736858,  1.49073203, -0.93583387,  1.17582904],\n",
       "       [-1.25388067, -0.6377515 ,  0.9071052 , -1.4286807 ]])"
      ]
     },
     "execution_count": 7,
     "metadata": {},
     "output_type": "execute_result"
    }
   ],
   "source": [
    "data"
   ]
  },
  {
   "cell_type": "markdown",
   "metadata": {
    "slideshow": {
     "slide_type": "fragment"
    }
   },
   "source": [
    "   - Let each name corresponds to a row in the data array\n",
    "   - We want to select all rows with corresponding name 'Bob'\n",
    "   - Like arithmetic operations, comparisons (eg. ==) with arrays are also vectorized, returning a boolean array"
   ]
  },
  {
   "cell_type": "code",
   "execution_count": 8,
   "metadata": {
    "ExecuteTime": {
     "end_time": "2019-08-30T11:49:09.725919Z",
     "start_time": "2019-08-30T11:49:09.718147Z"
    },
    "slideshow": {
     "slide_type": "subslide"
    }
   },
   "outputs": [
    {
     "data": {
      "text/plain": [
       "array([ True,  True, False, False, False, False, False])"
      ]
     },
     "execution_count": 8,
     "metadata": {},
     "output_type": "execute_result"
    }
   ],
   "source": [
    "names == 'Bob'"
   ]
  },
  {
   "cell_type": "markdown",
   "metadata": {
    "slideshow": {
     "slide_type": "fragment"
    }
   },
   "source": [
    "   - The boolean array can be passed when indexing the array"
   ]
  },
  {
   "cell_type": "code",
   "execution_count": 9,
   "metadata": {
    "ExecuteTime": {
     "end_time": "2019-08-30T11:49:10.481452Z",
     "start_time": "2019-08-30T11:49:10.475180Z"
    },
    "slideshow": {
     "slide_type": "fragment"
    }
   },
   "outputs": [
    {
     "data": {
      "text/plain": [
       "array([[-1.0856306 ,  0.99734545,  0.2829785 , -1.50629471],\n",
       "       [-0.57860025,  1.65143654, -2.42667924, -0.42891263]])"
      ]
     },
     "execution_count": 9,
     "metadata": {},
     "output_type": "execute_result"
    }
   ],
   "source": [
    "data[names == 'Bob']"
   ]
  },
  {
   "cell_type": "markdown",
   "metadata": {
    "slideshow": {
     "slide_type": "fragment"
    }
   },
   "source": [
    "   - The boolean array must be of the same length as the array axis it's indexing\n",
    "   - Boolean array for indexing can be also combined with other boolean arrays or even other sequences for slicing an array on different axis"
   ]
  },
  {
   "cell_type": "code",
   "execution_count": 10,
   "metadata": {
    "ExecuteTime": {
     "end_time": "2019-08-30T11:49:11.683653Z",
     "start_time": "2019-08-30T11:49:11.678163Z"
    },
    "slideshow": {
     "slide_type": "fragment"
    }
   },
   "outputs": [
    {
     "data": {
      "text/plain": [
       "array([[ 0.2829785 ],\n",
       "       [-2.42667924]])"
      ]
     },
     "execution_count": 10,
     "metadata": {},
     "output_type": "execute_result"
    }
   ],
   "source": [
    "data[names == 'Bob', 2:3]"
   ]
  },
  {
   "cell_type": "markdown",
   "metadata": {
    "slideshow": {
     "slide_type": "subslide"
    }
   },
   "source": [
    "   - To select everything but 'Bob', we can use the operators **\\~**  or **!**"
   ]
  },
  {
   "cell_type": "code",
   "execution_count": 11,
   "metadata": {
    "ExecuteTime": {
     "end_time": "2019-08-30T11:49:13.370578Z",
     "start_time": "2019-08-30T11:49:13.362247Z"
    },
    "slideshow": {
     "slide_type": "fragment"
    }
   },
   "outputs": [
    {
     "name": "stdout",
     "output_type": "stream",
     "text": [
      "[[ 1.26593626 -0.8667404  -0.67888615 -0.09470897]\n",
      " [ 1.49138963 -0.638902   -0.44398196 -0.43435128]\n",
      " [ 2.20593008  2.18678609  1.0040539   0.3861864 ]\n",
      " [ 0.73736858  1.49073203 -0.93583387  1.17582904]\n",
      " [-1.25388067 -0.6377515   0.9071052  -1.4286807 ]]\n",
      " \n",
      "[[ 1.26593626 -0.8667404  -0.67888615 -0.09470897]\n",
      " [ 1.49138963 -0.638902   -0.44398196 -0.43435128]\n",
      " [ 2.20593008  2.18678609  1.0040539   0.3861864 ]\n",
      " [ 0.73736858  1.49073203 -0.93583387  1.17582904]\n",
      " [-1.25388067 -0.6377515   0.9071052  -1.4286807 ]]\n"
     ]
    }
   ],
   "source": [
    "print(data[names != 'Bob'])\n",
    "print(' ')\n",
    "print(data[~ (names == 'Bob')])"
   ]
  },
  {
   "cell_type": "markdown",
   "metadata": {
    "slideshow": {
     "slide_type": "fragment"
    }
   },
   "source": [
    "   - Multiple boolean conditions can be combined using the **&** (and) or **|** (or) symbols"
   ]
  },
  {
   "cell_type": "code",
   "execution_count": 12,
   "metadata": {
    "ExecuteTime": {
     "end_time": "2019-08-30T11:49:14.663464Z",
     "start_time": "2019-08-30T11:49:14.658615Z"
    },
    "slideshow": {
     "slide_type": "fragment"
    }
   },
   "outputs": [
    {
     "name": "stdout",
     "output_type": "stream",
     "text": [
      "[[-1.0856306   0.99734545  0.2829785  -1.50629471]\n",
      " [-0.57860025  1.65143654 -2.42667924 -0.42891263]\n",
      " [ 1.26593626 -0.8667404  -0.67888615 -0.09470897]\n",
      " [ 2.20593008  2.18678609  1.0040539   0.3861864 ]]\n"
     ]
    }
   ],
   "source": [
    "print(data[(names == 'Bob') | (names == 'Will')])"
   ]
  },
  {
   "cell_type": "code",
   "execution_count": 13,
   "metadata": {
    "ExecuteTime": {
     "end_time": "2019-08-30T11:49:16.136260Z",
     "start_time": "2019-08-30T11:49:16.131804Z"
    },
    "slideshow": {
     "slide_type": "subslide"
    }
   },
   "outputs": [
    {
     "name": "stdout",
     "output_type": "stream",
     "text": [
      "[ True  True False False False False False]\n"
     ]
    }
   ],
   "source": [
    "np.random.seed(123)\n",
    "data = np.random.randn(7, 4)\n",
    "print(names == 'Bob')\n",
    "data1 = data[0:2, 1:3] #Bob is present on axis=0 indices 0 and 1. Using basic indexing here\n",
    "data1[:] = -1"
   ]
  },
  {
   "cell_type": "code",
   "execution_count": 14,
   "metadata": {
    "ExecuteTime": {
     "end_time": "2019-08-30T11:49:18.093388Z",
     "start_time": "2019-08-30T11:49:18.087712Z"
    },
    "slideshow": {
     "slide_type": "fragment"
    }
   },
   "outputs": [
    {
     "name": "stdout",
     "output_type": "stream",
     "text": [
      "data:\n",
      " [[-1.0856306  -1.         -1.         -1.50629471]\n",
      " [-0.57860025 -1.         -1.         -0.42891263]\n",
      " [ 1.26593626 -0.8667404  -0.67888615 -0.09470897]\n",
      " [ 1.49138963 -0.638902   -0.44398196 -0.43435128]\n",
      " [ 2.20593008  2.18678609  1.0040539   0.3861864 ]\n",
      " [ 0.73736858  1.49073203 -0.93583387  1.17582904]\n",
      " [-1.25388067 -0.6377515   0.9071052  -1.4286807 ]]\n",
      "data1:\n",
      " [[-1. -1.]\n",
      " [-1. -1.]]\n"
     ]
    }
   ],
   "source": [
    "print('data:\\n', data)\n",
    "print('data1:\\n', data1)"
   ]
  },
  {
   "cell_type": "code",
   "execution_count": 15,
   "metadata": {
    "ExecuteTime": {
     "end_time": "2019-08-30T11:49:21.737105Z",
     "start_time": "2019-08-30T11:49:21.730956Z"
    },
    "slideshow": {
     "slide_type": "subslide"
    }
   },
   "outputs": [],
   "source": [
    "data2 = data[names == 'Bob', 1:3]\n",
    "data2[:] = 0"
   ]
  },
  {
   "cell_type": "code",
   "execution_count": 16,
   "metadata": {
    "ExecuteTime": {
     "end_time": "2019-08-30T11:49:23.140464Z",
     "start_time": "2019-08-30T11:49:23.132244Z"
    },
    "slideshow": {
     "slide_type": "fragment"
    }
   },
   "outputs": [
    {
     "name": "stdout",
     "output_type": "stream",
     "text": [
      "data:\n",
      " [[-1.0856306  -1.         -1.         -1.50629471]\n",
      " [-0.57860025 -1.         -1.         -0.42891263]\n",
      " [ 1.26593626 -0.8667404  -0.67888615 -0.09470897]\n",
      " [ 1.49138963 -0.638902   -0.44398196 -0.43435128]\n",
      " [ 2.20593008  2.18678609  1.0040539   0.3861864 ]\n",
      " [ 0.73736858  1.49073203 -0.93583387  1.17582904]\n",
      " [-1.25388067 -0.6377515   0.9071052  -1.4286807 ]]\n",
      "data2:\n",
      " [[0. 0.]\n",
      " [0. 0.]]\n"
     ]
    }
   ],
   "source": [
    "print('data:\\n', data)\n",
    "print('data2:\\n', data2)"
   ]
  },
  {
   "cell_type": "markdown",
   "metadata": {
    "slideshow": {
     "slide_type": "fragment"
    }
   },
   "source": [
    "   - Selecting data from an array by boolean indexing always creates a **copy** of the data even if the array is unchanged"
   ]
  },
  {
   "cell_type": "markdown",
   "metadata": {
    "slideshow": {
     "slide_type": "subslide"
    }
   },
   "source": [
    " - **Fancy Indexing**\n",
    "    - Fancy indexing is used to describe indexing using integers arrays"
   ]
  },
  {
   "cell_type": "code",
   "execution_count": 27,
   "metadata": {
    "ExecuteTime": {
     "end_time": "2019-08-29T16:57:47.756279Z",
     "start_time": "2019-08-29T16:57:47.746250Z"
    },
    "slideshow": {
     "slide_type": "fragment"
    }
   },
   "outputs": [
    {
     "data": {
      "text/plain": [
       "array([[0., 0., 0., 0.],\n",
       "       [1., 1., 1., 1.],\n",
       "       [2., 2., 2., 2.],\n",
       "       [3., 3., 3., 3.],\n",
       "       [4., 4., 4., 4.],\n",
       "       [5., 5., 5., 5.],\n",
       "       [6., 6., 6., 6.],\n",
       "       [7., 7., 7., 7.]])"
      ]
     },
     "execution_count": 27,
     "metadata": {},
     "output_type": "execute_result"
    }
   ],
   "source": [
    "# Creating a 8x4 array where each row has the index number as value for all its columns\n",
    "arr = np.empty((8, 4))\n",
    "for i in range(8):\n",
    "    arr[i] = i\n",
    "arr"
   ]
  },
  {
   "cell_type": "code",
   "execution_count": 28,
   "metadata": {
    "ExecuteTime": {
     "end_time": "2019-08-29T16:57:47.765965Z",
     "start_time": "2019-08-29T16:57:47.759351Z"
    },
    "slideshow": {
     "slide_type": "fragment"
    }
   },
   "outputs": [
    {
     "data": {
      "text/plain": [
       "array([[1., 1., 1., 1.],\n",
       "       [3., 3., 3., 3.],\n",
       "       [2., 2., 2., 2.]])"
      ]
     },
     "execution_count": 28,
     "metadata": {},
     "output_type": "execute_result"
    }
   ],
   "source": [
    "# Slicing using fancy indexing on axis=0\n",
    "arr[[1,3,2]] # What do you observe here?"
   ]
  },
  {
   "cell_type": "code",
   "execution_count": 29,
   "metadata": {
    "ExecuteTime": {
     "end_time": "2019-08-29T16:57:47.775744Z",
     "start_time": "2019-08-29T16:57:47.769527Z"
    },
    "slideshow": {
     "slide_type": "fragment"
    }
   },
   "outputs": [
    {
     "data": {
      "text/plain": [
       "array([[7., 7., 7., 7.],\n",
       "       [5., 5., 5., 5.],\n",
       "       [6., 6., 6., 6.]])"
      ]
     },
     "execution_count": 29,
     "metadata": {},
     "output_type": "execute_result"
    }
   ],
   "source": [
    "# Using negative indices\n",
    "arr[[-1,-3,-2]]"
   ]
  },
  {
   "cell_type": "markdown",
   "metadata": {
    "slideshow": {
     "slide_type": "subslide"
    }
   },
   "source": [
    "   - Passing a multidimensional array to slice on multiple axis results in a one dimensional array of elements corresponding to each tuple of indices\n",
    "   - the shape of the arrays for each axis needs to be the same or scalar for all but array on axis=0"
   ]
  },
  {
   "cell_type": "code",
   "execution_count": 30,
   "metadata": {
    "ExecuteTime": {
     "end_time": "2019-08-29T16:57:47.784116Z",
     "start_time": "2019-08-29T16:57:47.778126Z"
    },
    "slideshow": {
     "slide_type": "fragment"
    }
   },
   "outputs": [
    {
     "data": {
      "text/plain": [
       "array([[ 0,  1,  2,  3],\n",
       "       [ 4,  5,  6,  7],\n",
       "       [ 8,  9, 10, 11],\n",
       "       [12, 13, 14, 15]])"
      ]
     },
     "execution_count": 30,
     "metadata": {},
     "output_type": "execute_result"
    }
   ],
   "source": [
    "arr = np.arange(16).reshape(4,4)\n",
    "arr"
   ]
  },
  {
   "cell_type": "code",
   "execution_count": 31,
   "metadata": {
    "ExecuteTime": {
     "end_time": "2019-08-29T16:57:47.791624Z",
     "start_time": "2019-08-29T16:57:47.786378Z"
    },
    "slideshow": {
     "slide_type": "fragment"
    }
   },
   "outputs": [
    {
     "data": {
      "text/plain": [
       "array([ 4, 15, 10])"
      ]
     },
     "execution_count": 31,
     "metadata": {},
     "output_type": "execute_result"
    }
   ],
   "source": [
    "arr[[1,3,2], [0,3,2]]"
   ]
  },
  {
   "cell_type": "markdown",
   "metadata": {
    "slideshow": {
     "slide_type": "fragment"
    }
   },
   "source": [
    "   - In order to get the slice on each axis using multidimensional arrays, first select the rows(axis=0) and for those rows do indexing on the columns(axis=1) and so forth, it can be done as follows:"
   ]
  },
  {
   "cell_type": "code",
   "execution_count": 32,
   "metadata": {
    "ExecuteTime": {
     "end_time": "2019-08-29T16:57:47.799564Z",
     "start_time": "2019-08-29T16:57:47.794303Z"
    },
    "slideshow": {
     "slide_type": "fragment"
    }
   },
   "outputs": [
    {
     "data": {
      "text/plain": [
       "array([[ 4,  7,  6],\n",
       "       [12, 15, 14],\n",
       "       [ 8, 11, 10]])"
      ]
     },
     "execution_count": 32,
     "metadata": {},
     "output_type": "execute_result"
    }
   ],
   "source": [
    "arr[[1,3,2]][:,[0,3,2]]"
   ]
  },
  {
   "cell_type": "markdown",
   "metadata": {
    "slideshow": {
     "slide_type": "fragment"
    }
   },
   "source": [
    "   - Like **boolean indexing**, **fancy indexing** also creates a *copy* of the array"
   ]
  },
  {
   "cell_type": "markdown",
   "metadata": {
    "slideshow": {
     "slide_type": "subslide"
    }
   },
   "source": [
    " - **Transposing Arrays and Swapping Axes**\n",
    "   - Transposing is a form of reshaping that returns a view on the underlying data without copying.\n",
    "   - Arrays have the *transpose* method and also the special attribute *T*"
   ]
  },
  {
   "cell_type": "code",
   "execution_count": 33,
   "metadata": {
    "ExecuteTime": {
     "end_time": "2019-08-29T16:57:47.808058Z",
     "start_time": "2019-08-29T16:57:47.802719Z"
    },
    "slideshow": {
     "slide_type": "fragment"
    }
   },
   "outputs": [
    {
     "name": "stdout",
     "output_type": "stream",
     "text": [
      "arr:\n",
      " [[ 0  1  2  3  4]\n",
      " [ 5  6  7  8  9]\n",
      " [10 11 12 13 14]]\n",
      "arr.T:\n",
      " [[ 0  5 10]\n",
      " [ 1  6 11]\n",
      " [ 2  7 12]\n",
      " [ 3  8 13]\n",
      " [ 4  9 14]]\n"
     ]
    }
   ],
   "source": [
    "arr = np.arange(15).reshape(3,5)\n",
    "print('arr:\\n', arr)\n",
    "print('arr.T:\\n', arr.T) # rows become cols and cols become rows. The shape also changes"
   ]
  },
  {
   "cell_type": "markdown",
   "metadata": {
    "slideshow": {
     "slide_type": "fragment"
    }
   },
   "source": [
    "   - Transposing is useful while performing matrix computations.\n",
    "   - For example, the inner matrix product can be computed using np.dot"
   ]
  },
  {
   "cell_type": "code",
   "execution_count": 34,
   "metadata": {
    "ExecuteTime": {
     "end_time": "2019-08-29T16:57:47.863878Z",
     "start_time": "2019-08-29T16:57:47.811010Z"
    },
    "slideshow": {
     "slide_type": "fragment"
    }
   },
   "outputs": [
    {
     "data": {
      "text/plain": [
       "array([[0.76224075, 2.44750214],\n",
       "       [2.44750214, 7.89744224]])"
      ]
     },
     "execution_count": 34,
     "metadata": {},
     "output_type": "execute_result"
    }
   ],
   "source": [
    "arr = np.random.randn(2,2)\n",
    "np.dot(arr, arr.T)"
   ]
  },
  {
   "cell_type": "markdown",
   "metadata": {
    "slideshow": {
     "slide_type": "subslide"
    }
   },
   "source": [
    "   - For higher dimensional arrays, *transpose* might also accept a tuple of axis numbers to permute the axes\n",
    "   "
   ]
  },
  {
   "cell_type": "code",
   "execution_count": 35,
   "metadata": {
    "ExecuteTime": {
     "end_time": "2019-08-29T16:57:47.870947Z",
     "start_time": "2019-08-29T16:57:47.865893Z"
    },
    "slideshow": {
     "slide_type": "fragment"
    }
   },
   "outputs": [
    {
     "data": {
      "text/plain": [
       "array([[[ 0,  1,  2,  3],\n",
       "        [ 4,  5,  6,  7],\n",
       "        [ 8,  9, 10, 11]],\n",
       "\n",
       "       [[12, 13, 14, 15],\n",
       "        [16, 17, 18, 19],\n",
       "        [20, 21, 22, 23]]])"
      ]
     },
     "execution_count": 35,
     "metadata": {},
     "output_type": "execute_result"
    }
   ],
   "source": [
    "arr = np.arange(24).reshape(2,3,4)\n",
    "arr"
   ]
  },
  {
   "cell_type": "code",
   "execution_count": 36,
   "metadata": {
    "ExecuteTime": {
     "end_time": "2019-08-29T16:57:47.881238Z",
     "start_time": "2019-08-29T16:57:47.875070Z"
    },
    "slideshow": {
     "slide_type": "fragment"
    }
   },
   "outputs": [
    {
     "data": {
      "text/plain": [
       "array([[[ 0, 12],\n",
       "        [ 4, 16],\n",
       "        [ 8, 20]],\n",
       "\n",
       "       [[ 1, 13],\n",
       "        [ 5, 17],\n",
       "        [ 9, 21]],\n",
       "\n",
       "       [[ 2, 14],\n",
       "        [ 6, 18],\n",
       "        [10, 22]],\n",
       "\n",
       "       [[ 3, 15],\n",
       "        [ 7, 19],\n",
       "        [11, 23]]])"
      ]
     },
     "execution_count": 36,
     "metadata": {},
     "output_type": "execute_result"
    }
   ],
   "source": [
    "# Transpose without any arguments acts the same way as T. It also means that we are transposing on all axis\n",
    "arr.transpose()"
   ]
  },
  {
   "cell_type": "code",
   "execution_count": 37,
   "metadata": {
    "ExecuteTime": {
     "end_time": "2019-08-29T16:57:47.891096Z",
     "start_time": "2019-08-29T16:57:47.884061Z"
    },
    "slideshow": {
     "slide_type": "subslide"
    }
   },
   "outputs": [
    {
     "name": "stdout",
     "output_type": "stream",
     "text": [
      "arr:\n",
      " [[[ 0  1  2  3]\n",
      "  [ 4  5  6  7]\n",
      "  [ 8  9 10 11]]\n",
      "\n",
      " [[12 13 14 15]\n",
      "  [16 17 18 19]\n",
      "  [20 21 22 23]]]\n"
     ]
    },
    {
     "data": {
      "text/plain": [
       "array([[[ 0,  1,  2,  3],\n",
       "        [12, 13, 14, 15]],\n",
       "\n",
       "       [[ 4,  5,  6,  7],\n",
       "        [16, 17, 18, 19]],\n",
       "\n",
       "       [[ 8,  9, 10, 11],\n",
       "        [20, 21, 22, 23]]])"
      ]
     },
     "execution_count": 37,
     "metadata": {},
     "output_type": "execute_result"
    }
   ],
   "source": [
    "print('arr:\\n', arr)\n",
    "# If we want to transpose on only certain axis\n",
    "arr.transpose((1,0,2)) # Here we transpose only axis 0 and 1 and keep 2 unchanged"
   ]
  },
  {
   "cell_type": "markdown",
   "metadata": {
    "slideshow": {
     "slide_type": "subslide"
    }
   },
   "source": [
    "   - **swapaxes** is a method that takes a pair of axis numbers and switches the indicated axes to rearrange the data"
   ]
  },
  {
   "cell_type": "code",
   "execution_count": 38,
   "metadata": {
    "ExecuteTime": {
     "end_time": "2019-08-29T16:57:47.899857Z",
     "start_time": "2019-08-29T16:57:47.893539Z"
    },
    "slideshow": {
     "slide_type": "fragment"
    }
   },
   "outputs": [
    {
     "data": {
      "text/plain": [
       "array([[[ 0,  1,  2,  3],\n",
       "        [ 4,  5,  6,  7],\n",
       "        [ 8,  9, 10, 11]],\n",
       "\n",
       "       [[12, 13, 14, 15],\n",
       "        [16, 17, 18, 19],\n",
       "        [20, 21, 22, 23]]])"
      ]
     },
     "execution_count": 38,
     "metadata": {},
     "output_type": "execute_result"
    }
   ],
   "source": [
    "arr"
   ]
  },
  {
   "cell_type": "code",
   "execution_count": 39,
   "metadata": {
    "ExecuteTime": {
     "end_time": "2019-08-29T16:57:47.908664Z",
     "start_time": "2019-08-29T16:57:47.902024Z"
    },
    "slideshow": {
     "slide_type": "fragment"
    }
   },
   "outputs": [
    {
     "data": {
      "text/plain": [
       "array([[[ 0,  1,  2,  3],\n",
       "        [12, 13, 14, 15]],\n",
       "\n",
       "       [[ 4,  5,  6,  7],\n",
       "        [16, 17, 18, 19]],\n",
       "\n",
       "       [[ 8,  9, 10, 11],\n",
       "        [20, 21, 22, 23]]])"
      ]
     },
     "execution_count": 39,
     "metadata": {},
     "output_type": "execute_result"
    }
   ],
   "source": [
    "arr.swapaxes(0,1) # same as arr.transpose((1,0,2))"
   ]
  },
  {
   "cell_type": "markdown",
   "metadata": {
    "slideshow": {
     "slide_type": "slide"
    }
   },
   "source": [
    "- Universal Functions (*ufunc*): Fast Element Wise Array Functions\n",
    "  - Performs element wise operations on data in ndarrays\n",
    "  - They act as vectorized wrappers for simple functions that take one or more scalar values and produce one or more scalar results\n",
    "  - Most ufuncs are simple element wise transformations on an array, like sqrt or exp and are called as *unary* ufuncs\n",
    "<img src='unary_ufuncs.png' width='400'>"
   ]
  },
  {
   "cell_type": "code",
   "execution_count": 40,
   "metadata": {
    "ExecuteTime": {
     "end_time": "2019-08-29T16:57:47.918160Z",
     "start_time": "2019-08-29T16:57:47.911575Z"
    },
    "slideshow": {
     "slide_type": "fragment"
    }
   },
   "outputs": [
    {
     "name": "stdout",
     "output_type": "stream",
     "text": [
      "arr:  [0 1 2 3 4]\n",
      "np.sqrt:  [0.         1.         1.41421356 1.73205081 2.        ]\n",
      "np.exp:  [ 1.          2.71828183  7.3890561  20.08553692 54.59815003]\n"
     ]
    }
   ],
   "source": [
    "arr = np.arange(5)\n",
    "print('arr: ', arr)\n",
    "print('np.sqrt: ', np.sqrt(arr))\n",
    "print('np.exp: ', np.exp(arr))\n"
   ]
  },
  {
   "cell_type": "markdown",
   "metadata": {
    "slideshow": {
     "slide_type": "subslide"
    }
   },
   "source": [
    "   - *binary* ufuncs take two arrays and return a single array as result, like maximum or add\n",
    "<img src='binary_ufuncs.png' width='250'>"
   ]
  },
  {
   "cell_type": "code",
   "execution_count": 41,
   "metadata": {
    "ExecuteTime": {
     "end_time": "2019-08-29T16:57:47.927177Z",
     "start_time": "2019-08-29T16:57:47.920512Z"
    },
    "slideshow": {
     "slide_type": "fragment"
    }
   },
   "outputs": [
    {
     "data": {
      "text/plain": [
       "array([-0.80536652, -0.69987723,  0.92746243,  0.57380586,  0.33858905,\n",
       "        0.68822271,  2.39236527,  0.41291216])"
      ]
     },
     "execution_count": 41,
     "metadata": {},
     "output_type": "execute_result"
    }
   ],
   "source": [
    "x = np.random.randn(8)\n",
    "y = np.random.randn(8)\n",
    "np.maximum(x,y)"
   ]
  },
  {
   "cell_type": "markdown",
   "metadata": {
    "slideshow": {
     "slide_type": "subslide"
    }
   },
   "source": [
    "   - There are also ufuncs that can return multiple arrays, like modf that returns fractional and integral parts of a floating point array"
   ]
  },
  {
   "cell_type": "code",
   "execution_count": 42,
   "metadata": {
    "ExecuteTime": {
     "end_time": "2019-08-29T16:57:47.937402Z",
     "start_time": "2019-08-29T16:57:47.929849Z"
    },
    "slideshow": {
     "slide_type": "fragment"
    }
   },
   "outputs": [
    {
     "name": "stdout",
     "output_type": "stream",
     "text": [
      "arr:  [11.4 17.1 11.4 11.4 22.8 34.2  5.7 51.3 11.4 39.9]\n",
      "remainder:  [0.4 0.1 0.4 0.4 0.8 0.2 0.7 0.3 0.4 0.9]\n",
      "whole_part:  [11. 17. 11. 11. 22. 34.  5. 51. 11. 39.]\n"
     ]
    }
   ],
   "source": [
    "arr = np.random.randint(1, 10, 10) * 5.7\n",
    "remainder, whole_part = np.modf(arr)\n",
    "print('arr: ', arr)\n",
    "print('remainder: ', remainder)\n",
    "print('whole_part: ', whole_part)"
   ]
  },
  {
   "cell_type": "markdown",
   "metadata": {
    "slideshow": {
     "slide_type": "subslide"
    }
   },
   "source": [
    "  - ufunc instance methods\n",
    "    - Each NumPy binary ufuncs has special methods for performing certain kinds of special vectorized operations\n",
    "<img src='ufuncs_instance_methods.png'>"
   ]
  },
  {
   "cell_type": "code",
   "execution_count": 43,
   "metadata": {
    "ExecuteTime": {
     "end_time": "2019-08-29T16:57:47.946557Z",
     "start_time": "2019-08-29T16:57:47.939800Z"
    },
    "slideshow": {
     "slide_type": "subslide"
    }
   },
   "outputs": [
    {
     "data": {
      "text/plain": [
       "45"
      ]
     },
     "execution_count": 43,
     "metadata": {},
     "output_type": "execute_result"
    }
   ],
   "source": [
    "# reduce takes a single array and aggregates its values, optionally along an axis, by performing a sequence of binary operations\n",
    "# sum elements in an array\n",
    "arr = np.arange(10)\n",
    "np.add.reduce(arr)"
   ]
  },
  {
   "cell_type": "code",
   "execution_count": 17,
   "metadata": {
    "ExecuteTime": {
     "end_time": "2019-08-30T12:04:14.191903Z",
     "start_time": "2019-08-30T12:04:14.185103Z"
    },
    "slideshow": {
     "slide_type": "fragment"
    }
   },
   "outputs": [
    {
     "data": {
      "text/plain": [
       "array([[107, 419, 577, 838, 844],\n",
       "       [827, 395, 791, 718, 147],\n",
       "       [159, 272, 412, 485, 766],\n",
       "       [181, 583, 366, 372, 155],\n",
       "       [245, 256, 391, 721, 783],\n",
       "       [360, 972, 951, 968, 130],\n",
       "       [187, 358, 538, 556, 696],\n",
       "       [435, 981, 825, 306, 781]])"
      ]
     },
     "execution_count": 17,
     "metadata": {},
     "output_type": "execute_result"
    }
   ],
   "source": [
    "import numpy as np\n",
    "# A trivial use case would be to check whether the values in each row of an array are sorted\n",
    "arr = np.random.randint(1,1000, 40).reshape(8,5)\n",
    "# array[::y] gets every yth element from the array\n",
    "# array[x::y] gets every yth element starting at position x\n",
    "arr[::2].sort() # sort few rows\n",
    "arr"
   ]
  },
  {
   "cell_type": "code",
   "execution_count": 18,
   "metadata": {
    "ExecuteTime": {
     "end_time": "2019-08-30T12:04:16.594382Z",
     "start_time": "2019-08-30T12:04:16.588797Z"
    },
    "slideshow": {
     "slide_type": "subslide"
    }
   },
   "outputs": [
    {
     "data": {
      "text/plain": [
       "array([[ True,  True,  True,  True],\n",
       "       [False,  True, False, False],\n",
       "       [ True,  True,  True,  True],\n",
       "       [ True, False,  True, False],\n",
       "       [ True,  True,  True,  True],\n",
       "       [ True, False,  True, False],\n",
       "       [ True,  True,  True,  True],\n",
       "       [ True, False, False,  True]])"
      ]
     },
     "execution_count": 18,
     "metadata": {},
     "output_type": "execute_result"
    }
   ],
   "source": [
    "arr[:, :-1] <= arr[:, 1:]"
   ]
  },
  {
   "cell_type": "code",
   "execution_count": 47,
   "metadata": {
    "ExecuteTime": {
     "end_time": "2019-08-29T16:57:47.984318Z",
     "start_time": "2019-08-29T16:57:47.976976Z"
    },
    "slideshow": {
     "slide_type": "subslide"
    }
   },
   "outputs": [
    {
     "name": "stdout",
     "output_type": "stream",
     "text": [
      "arr:\n",
      " [[0 1]\n",
      " [2 3]]\n",
      "np.add.accumulate(arr)\n",
      ": [[0 1]\n",
      " [2 4]]\n",
      "np.add.accumulate(arr, axis=1)\n",
      ": [[0 1]\n",
      " [2 5]]\n"
     ]
    }
   ],
   "source": [
    "# accumulate produces an array of same size with the intermediate accumulated or cumulative sum values\n",
    "arr = np.arange(4).reshape(2,2)\n",
    "print('arr:\\n', arr)\n",
    "print('np.add.accumulate(arr)\\n:', np.add.accumulate(arr)) \n",
    "print('np.add.accumulate(arr, axis=1)\\n:', np.add.accumulate(arr, axis=1)) "
   ]
  },
  {
   "cell_type": "code",
   "execution_count": 20,
   "metadata": {
    "ExecuteTime": {
     "end_time": "2019-08-30T12:06:29.850407Z",
     "start_time": "2019-08-30T12:06:29.844231Z"
    },
    "slideshow": {
     "slide_type": "fragment"
    }
   },
   "outputs": [
    {
     "data": {
      "text/plain": [
       "array([0, 1, 1, 2, 2])"
      ]
     },
     "execution_count": 20,
     "metadata": {},
     "output_type": "execute_result"
    }
   ],
   "source": [
    "# repeate duplicates values on specified indices and axis\n",
    "arr = np.arange(3).repeat([1,2,2])\n",
    "arr"
   ]
  },
  {
   "cell_type": "code",
   "execution_count": 21,
   "metadata": {
    "ExecuteTime": {
     "end_time": "2019-08-30T12:09:03.320732Z",
     "start_time": "2019-08-30T12:09:03.314287Z"
    },
    "slideshow": {
     "slide_type": "subslide"
    }
   },
   "outputs": [
    {
     "data": {
      "text/plain": [
       "array([0, 1, 1, 2, 2])"
      ]
     },
     "execution_count": 21,
     "metadata": {},
     "output_type": "execute_result"
    }
   ],
   "source": [
    "arr"
   ]
  },
  {
   "cell_type": "code",
   "execution_count": 49,
   "metadata": {
    "ExecuteTime": {
     "end_time": "2019-08-29T16:57:48.004423Z",
     "start_time": "2019-08-29T16:57:47.998125Z"
    },
    "slideshow": {
     "slide_type": "fragment"
    }
   },
   "outputs": [
    {
     "data": {
      "text/plain": [
       "array([[0, 0, 0],\n",
       "       [0, 1, 2],\n",
       "       [0, 1, 2],\n",
       "       [0, 2, 4],\n",
       "       [0, 2, 4]])"
      ]
     },
     "execution_count": 49,
     "metadata": {},
     "output_type": "execute_result"
    }
   ],
   "source": [
    "# outer performs a pairwise cross-product between two arrays\n",
    "arr1 = np.arange(3)\n",
    "np.multiply.outer(arr, arr1) # outer will have a dimension that is the sum of the dimensions of the inputs"
   ]
  },
  {
   "cell_type": "code",
   "execution_count": 50,
   "metadata": {
    "ExecuteTime": {
     "end_time": "2019-08-29T16:57:48.014335Z",
     "start_time": "2019-08-29T16:57:48.007247Z"
    },
    "slideshow": {
     "slide_type": "fragment"
    }
   },
   "outputs": [
    {
     "data": {
      "text/plain": [
       "array([10, 18, 17])"
      ]
     },
     "execution_count": 50,
     "metadata": {},
     "output_type": "execute_result"
    }
   ],
   "source": [
    "# reduceat performs local reduce, in essence an array groupby operation in which slices of the array are aggregated together\n",
    "# it accepts a sequence of \"bin edges\" that indicates how to split and aggrregate the values\n",
    "arr = np.arange(10)\n",
    "# The results are the reductions performed over arr[0:5], arr[5:8], and arr[8:]\n",
    "# As with other methods, the axis argument can also be passed\n",
    "np.add.reduceat(arr, [0, 5, 8])"
   ]
  },
  {
   "cell_type": "markdown",
   "metadata": {
    "slideshow": {
     "slide_type": "subslide"
    }
   },
   "source": [
    "  - Writing new ufuncs in python\n",
    "    - **numpy.frompyfunc** accepts a python function along with a specification for number of inputs and outputs"
   ]
  },
  {
   "cell_type": "code",
   "execution_count": 51,
   "metadata": {
    "ExecuteTime": {
     "end_time": "2019-08-29T16:57:48.023841Z",
     "start_time": "2019-08-29T16:57:48.016865Z"
    },
    "slideshow": {
     "slide_type": "fragment"
    }
   },
   "outputs": [
    {
     "data": {
      "text/plain": [
       "array([0, 2, 4, 6, 8, 10, 12, 14], dtype=object)"
      ]
     },
     "execution_count": 51,
     "metadata": {},
     "output_type": "execute_result"
    }
   ],
   "source": [
    "# Creating a add element-wise function\n",
    "def add_elements(x, y):\n",
    "    return x + y\n",
    "\n",
    "add_them = np.frompyfunc(add_elements, 2, 1) # we could also use a lambda function instead of add_elements\n",
    "add_them(np.arange(8), np.arange(8))"
   ]
  },
  {
   "cell_type": "markdown",
   "metadata": {
    "slideshow": {
     "slide_type": "fragment"
    }
   },
   "source": [
    "    - The function provide a way to create ufunc like functions\n",
    "    - However, in reality, they are very slow as they require a python function call to compute each element rather than NumPy's C-based ufunc loops\n",
    "    - Alternatively, we could utilize NumPy C API to create such ufuncs aswell."
   ]
  },
  {
   "cell_type": "code",
   "execution_count": 52,
   "metadata": {
    "ExecuteTime": {
     "end_time": "2019-08-29T16:57:52.498242Z",
     "start_time": "2019-08-29T16:57:48.026221Z"
    },
    "slideshow": {
     "slide_type": "fragment"
    }
   },
   "outputs": [
    {
     "name": "stdout",
     "output_type": "stream",
     "text": [
      "1.82 ms ± 19.1 µs per loop (mean ± std. dev. of 7 runs, 100 loops each)\n",
      "3.63 µs ± 43.8 ns per loop (mean ± std. dev. of 7 runs, 100000 loops each)\n"
     ]
    }
   ],
   "source": [
    "arr = np.random.randn(10000)\n",
    "%timeit add_them(arr, arr)\n",
    "%timeit np.add(arr, arr)"
   ]
  },
  {
   "cell_type": "markdown",
   "metadata": {
    "slideshow": {
     "slide_type": "slide"
    }
   },
   "source": [
    "- [The **Numba** project ](http://numba.pydata.org)\n",
    "  - Write fast NumPy functions using CPUs and GPUs\n",
    "  - It uses the [LLVM](http://llvm.org) to translate python code into compiled machine code\n",
    "  - In order to convert a python function to numba we have to use a decorator\n",
    "  - The resulting function in many cases can run faster than vectorized NumPy versions\n",
    "  - However, Numba cannot compile arbitrary python code, but it supports a significant subset of pure python"
   ]
  },
  {
   "cell_type": "code",
   "execution_count": 53,
   "metadata": {
    "ExecuteTime": {
     "end_time": "2019-08-29T16:58:08.164915Z",
     "start_time": "2019-08-29T16:57:52.500959Z"
    },
    "slideshow": {
     "slide_type": "subslide"
    }
   },
   "outputs": [
    {
     "name": "stdout",
     "output_type": "stream",
     "text": [
      "405 ms ± 5.6 ms per loop (mean ± std. dev. of 7 runs, 1 loop each)\n",
      "1.52 ms ± 103 µs per loop (mean ± std. dev. of 7 runs, 1000 loops each)\n"
     ]
    }
   ],
   "source": [
    "def mean_distance(x, y):\n",
    "    nx = len(x)\n",
    "    result = 0.0\n",
    "    count = 0\n",
    "    for i in range(nx):\n",
    "        result += x[i] - y[i]\n",
    "        count += 1\n",
    "    return result / count\n",
    "x = np.random.randn(1000000)\n",
    "y = np.random.randn(1000000)\n",
    "%timeit mean_distance(x, y)\n",
    "%timeit (x - y).mean()"
   ]
  },
  {
   "cell_type": "markdown",
   "metadata": {
    "slideshow": {
     "slide_type": "subslide"
    }
   },
   "source": [
    "    - The NumPy version is over 100 times faster\n",
    "    - Using **numba.jit** function we can turn the *mean_distance* function into a compiled Numba function"
   ]
  },
  {
   "cell_type": "code",
   "execution_count": 54,
   "metadata": {
    "ExecuteTime": {
     "end_time": "2019-08-29T16:58:31.300615Z",
     "start_time": "2019-08-29T16:58:08.168260Z"
    },
    "slideshow": {
     "slide_type": "fragment"
    }
   },
   "outputs": [
    {
     "name": "stdout",
     "output_type": "stream",
     "text": [
      "1.11 ms ± 69 µs per loop (mean ± std. dev. of 7 runs, 1000 loops each)\n",
      "1.65 ms ± 90.3 µs per loop (mean ± std. dev. of 7 runs, 1000 loops each)\n"
     ]
    }
   ],
   "source": [
    "from numba import jit\n",
    "\n",
    "# We use a  decorator here to convert the function to jit\n",
    "# Alternatively, an existing python function can be converted to jit using jit function, then we do not have to use the decorator to define the function\n",
    "#  eg.: numba_mean_distance = jit(mean_distance)\n",
    "@jit \n",
    "def mean_distance(x, y):\n",
    "    nx = len(x)\n",
    "    result = 0.0\n",
    "    count = 0\n",
    "    for i in range(nx):\n",
    "        result += x[i] - y[i]\n",
    "        count += 1\n",
    "    return result / count\n",
    "x = np.random.randn(1000000)\n",
    "y = np.random.randn(1000000)\n",
    "%timeit mean_distance(x, y)\n",
    "%timeit (x - y).mean()"
   ]
  },
  {
   "cell_type": "markdown",
   "metadata": {
    "slideshow": {
     "slide_type": "subslide"
    }
   },
   "source": [
    "  - Numba can also be used to create custom numpy.ufuncs using **numba.vectorize** function\n",
    "  - Transforming: ufunc add_elements to Numba"
   ]
  },
  {
   "cell_type": "code",
   "execution_count": 55,
   "metadata": {
    "ExecuteTime": {
     "end_time": "2019-08-29T16:58:31.308818Z",
     "start_time": "2019-08-29T16:58:31.304181Z"
    },
    "slideshow": {
     "slide_type": "fragment"
    }
   },
   "outputs": [],
   "source": [
    "from numba import vectorize\n",
    "@vectorize\n",
    "def add_elements(x, y):\n",
    "    return x + y"
   ]
  },
  {
   "cell_type": "code",
   "execution_count": 56,
   "metadata": {
    "ExecuteTime": {
     "end_time": "2019-08-29T16:58:40.682221Z",
     "start_time": "2019-08-29T16:58:31.313176Z"
    },
    "slideshow": {
     "slide_type": "fragment"
    }
   },
   "outputs": [
    {
     "name": "stdout",
     "output_type": "stream",
     "text": [
      "673 µs ± 36.9 µs per loop (mean ± std. dev. of 7 runs, 1000 loops each)\n",
      "470 µs ± 32.6 µs per loop (mean ± std. dev. of 7 runs, 1000 loops each)\n"
     ]
    }
   ],
   "source": [
    "arr = np.random.randn(1000000)\n",
    "%timeit add_elements(arr, arr)\n",
    "%timeit np.add(arr, arr)"
   ]
  }
 ],
 "metadata": {
  "celltoolbar": "Slideshow",
  "kernelspec": {
   "display_name": "Python 3",
   "language": "python",
   "name": "python3"
  },
  "language_info": {
   "codemirror_mode": {
    "name": "ipython",
    "version": 3
   },
   "file_extension": ".py",
   "mimetype": "text/x-python",
   "name": "python",
   "nbconvert_exporter": "python",
   "pygments_lexer": "ipython3",
   "version": "3.6.5"
  },
  "toc": {
   "base_numbering": 1,
   "nav_menu": {},
   "number_sections": true,
   "sideBar": true,
   "skip_h1_title": false,
   "title_cell": "Table of Contents",
   "title_sidebar": "Contents",
   "toc_cell": false,
   "toc_position": {},
   "toc_section_display": true,
   "toc_window_display": false
  },
  "varInspector": {
   "cols": {
    "lenName": 16,
    "lenType": 16,
    "lenVar": 40
   },
   "kernels_config": {
    "python": {
     "delete_cmd_postfix": "",
     "delete_cmd_prefix": "del ",
     "library": "var_list.py",
     "varRefreshCmd": "print(var_dic_list())"
    },
    "r": {
     "delete_cmd_postfix": ") ",
     "delete_cmd_prefix": "rm(",
     "library": "var_list.r",
     "varRefreshCmd": "cat(var_dic_list()) "
    }
   },
   "types_to_exclude": [
    "module",
    "function",
    "builtin_function_or_method",
    "instance",
    "_Feature"
   ],
   "window_display": false
  }
 },
 "nbformat": 4,
 "nbformat_minor": 2
}
