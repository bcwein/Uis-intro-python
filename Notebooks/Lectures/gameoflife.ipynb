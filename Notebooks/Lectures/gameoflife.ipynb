{
 "cells": [
  {
   "cell_type": "code",
   "execution_count": 1,
   "metadata": {},
   "outputs": [],
   "source": [
    "import matplotlib.pyplot as plt\n",
    "from matplotlib.patches import Rectangle \n",
    "import numpy as np\n",
    "import time\n",
    "import copy"
   ]
  },
  {
   "cell_type": "code",
   "execution_count": 2,
   "metadata": {},
   "outputs": [],
   "source": [
    "%matplotlib notebook"
   ]
  },
  {
   "cell_type": "markdown",
   "metadata": {},
   "source": [
    "Conway chose his rules carefully, after considerable experimentation, to meet these criteria:\n",
    "\n",
    "There should be no explosive growth.\n",
    "There should exist small initial patterns with chaotic, unpredictable outcomes.\n",
    "There should be potential for von Neumann universal constructors.\n",
    "The rules should be as simple as possible, whilst adhering to the above constraints.\n",
    "\n",
    "It is summarized as follows:\n",
    "1. Any live cell with fewer than two live neighbours dies, as if by underpopulation.\n",
    "2. Any live cell with two or three live neighbours lives on to the next generation.\n",
    "3. Any live cell with more than three live neighbours dies, as if by overpopulation.\n",
    "4. Any dead cell with exactly three live neighbours becomes a live cell, as if by reproduction.\n",
    "\n",
    "This implies that a\n",
    "- cell with value 0 become 1, if its neighborhood had 3 live cells\n",
    "- cell with value 1 becomes 0, if its neighborhood has less than 2 or greater than 3 live cells"
   ]
  },
  {
   "cell_type": "code",
   "execution_count": 3,
   "metadata": {},
   "outputs": [],
   "source": [
    "# Adds a patch, in this case a rectangle to a matplotlib graph at the specified coordinates and with the stated with and height\n",
    "def plt_dynamic(x, y, col, ax):     \n",
    "    ax.add_patch( Rectangle(xy=(x, y), width=1, height=1, angle=0.0, color = col) ) "
   ]
  },
  {
   "cell_type": "code",
   "execution_count": 4,
   "metadata": {},
   "outputs": [],
   "source": [
    "# Draws a grid of rectangles that represent the each index of an ndarray\n",
    "def draw(data, nm, fig, ax):\n",
    "    # this is any loop for which you want to plot dynamic updates.\n",
    "    for y in range(nm[1]):    \n",
    "        for x in range(nm[0]):    \n",
    "            plt_dynamic(x=x, y=y, col= 'black' if data[x,y] == 1 else 'white', ax=ax)\n",
    "    fig.canvas.draw()"
   ]
  },
  {
   "cell_type": "code",
   "execution_count": 5,
   "metadata": {
    "scrolled": true
   },
   "outputs": [],
   "source": [
    "# Calculates and generates the next state of an game of life ndarray\n",
    "def next_gen(data, nm):\n",
    "    change_map = {}\n",
    "#     _data = copy.copy(data)\n",
    "    for i in range(nm[0]):\n",
    "        for j in range(nm[1]):\n",
    "            current_val = data[i][j]\n",
    "            new_val = -1            \n",
    "            si = i - 1 if i != 0 else 0\n",
    "            ei = i + 1 if i < nm[0] - 1 else i\n",
    "            sj = j - 1 if j != 0 else 0\n",
    "            ej = j + 1 if j < nm[1] - 1 else j\n",
    "            neighborhood_rating = data[si:ei+1, sj:ej+1].sum() - current_val            \n",
    "            if data[i][j] == 0:\n",
    "#                 _data[i][j] = 1 if neighborhood_rating == 3 else 0\n",
    "                new_val = 1 if neighborhood_rating == 3 else 0\n",
    "            else:\n",
    "#                 _data[i][j] = 0 if neighborhood_rating < 2 or neighborhood_rating > 3 else 1      \n",
    "                new_val = 0 if neighborhood_rating < 2 or neighborhood_rating > 3 else 1       \n",
    "            \n",
    "            if current_val != new_val:\n",
    "                change_map[i, j] = new_val\n",
    "                \n",
    "    for ki, kj in change_map:\n",
    "        data[ki,kj] = change_map[ki,kj]\n",
    "#     data[:] = _data[:]"
   ]
  },
  {
   "cell_type": "code",
   "execution_count": 6,
   "metadata": {},
   "outputs": [],
   "source": [
    "# Initializes a matplolib graph that will be used to draw a rectangular gird representing conway game of life\n",
    "def init_canvas(nm):\n",
    "    fig, ax = plt.subplots(1,1)\n",
    "    # fig.set_figheight(n)\n",
    "    # fig.set_figwidth(n)\n",
    "    ax.set_xlabel('X') ; ax.set_ylabel('Y')\n",
    "    ax.set_xlim(0,nm[0]) ; ax.set_ylim(0,nm[1])\n",
    "    return fig, ax"
   ]
  },
  {
   "cell_type": "code",
   "execution_count": 7,
   "metadata": {},
   "outputs": [],
   "source": [
    "# A random game of life example\n",
    "nm = (30,30)\n",
    "data = np.random.randint(low=0, high=2, size=nm)"
   ]
  },
  {
   "cell_type": "code",
   "execution_count": null,
   "metadata": {},
   "outputs": [],
   "source": [
    "try:\n",
    "    fig, ax = init_canvas(nm)\n",
    "    while True:    \n",
    "        draw(data, nm, fig, ax)\n",
    "        next_gen(data, nm)\n",
    "        time.sleep(0.1)\n",
    "except KeyboardInterrupt:\n",
    "    pass"
   ]
  },
  {
   "cell_type": "code",
   "execution_count": null,
   "metadata": {},
   "outputs": [],
   "source": [
    "# Game of life example oscillator\n",
    "nm = (5,5)\n",
    "osc = np.zeros(nm)\n",
    "osc[2,1:4] = 1\n",
    "osc"
   ]
  },
  {
   "cell_type": "code",
   "execution_count": null,
   "metadata": {},
   "outputs": [],
   "source": [
    "try:\n",
    "    fig, ax = init_canvas(nm)\n",
    "    while True:    \n",
    "        draw(osc, nm, fig, ax)\n",
    "        next_gen(osc, nm)\n",
    "        time.sleep(0.1)\n",
    "except KeyboardInterrupt:\n",
    "    pass"
   ]
  },
  {
   "cell_type": "code",
   "execution_count": null,
   "metadata": {},
   "outputs": [],
   "source": [
    "# Game of life example pulser\n",
    "nm = (15,15)\n",
    "pulser = np.zeros(nm)\n",
    "pulser"
   ]
  },
  {
   "cell_type": "code",
   "execution_count": null,
   "metadata": {},
   "outputs": [],
   "source": [
    "pulser[1,3:6] = 1\n",
    "pulser[1,9:12] = 1\n",
    "\n",
    "pulser[3:6,1] = 1\n",
    "pulser[3:6,6] = 1\n",
    "pulser[3:6,8] = 1\n",
    "pulser[3:6,13] = 1\n",
    "\n",
    "pulser[6,3:6] = 1\n",
    "pulser[6,9:12] = 1\n",
    "\n",
    "pulser[8,3:6] = 1\n",
    "pulser[8,9:12] = 1\n",
    "\n",
    "pulser[9:12,1] = 1\n",
    "pulser[9:12,6] = 1\n",
    "pulser[9:12,8] = 1\n",
    "pulser[9:12,13] = 1\n",
    "\n",
    "pulser[13,3:6] = 1\n",
    "pulser[13,9:12] = 1\n"
   ]
  },
  {
   "cell_type": "code",
   "execution_count": null,
   "metadata": {},
   "outputs": [],
   "source": [
    "try:\n",
    "    fig, ax = init_canvas(nm)\n",
    "    while True:    \n",
    "        draw(pulser, nm, fig, ax)\n",
    "        next_gen(pulser, nm)\n",
    "        time.sleep(0.1)\n",
    "except KeyboardInterrupt:\n",
    "    pass"
   ]
  },
  {
   "cell_type": "code",
   "execution_count": null,
   "metadata": {},
   "outputs": [],
   "source": []
  }
 ],
 "metadata": {
  "kernelspec": {
   "display_name": "Python 3",
   "language": "python",
   "name": "python3"
  },
  "language_info": {
   "codemirror_mode": {
    "name": "ipython",
    "version": 3
   },
   "file_extension": ".py",
   "mimetype": "text/x-python",
   "name": "python",
   "nbconvert_exporter": "python",
   "pygments_lexer": "ipython3",
   "version": "3.7.7-final"
  }
 },
 "nbformat": 4,
 "nbformat_minor": 2
}