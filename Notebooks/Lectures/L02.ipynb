{
 "cells": [
  {
   "cell_type": "markdown",
   "metadata": {
    "colab_type": "text",
    "id": "jjL_R2ySfL2B",
    "slideshow": {
     "slide_type": "slide"
    }
   },
   "source": [
    "# Python Essentials\n",
    "## DAT540 Introduction to Data Science\n",
    "## University of Stavanger\n",
    "### L02\n",
    "### 28/08/2020\n",
    "\n",
    "#### Antorweep Chakravorty (antorweep.chakravorty@uis.no)"
   ]
  },
  {
   "cell_type": "markdown",
   "metadata": {
    "colab_type": "text",
    "id": "hunN5_N_fL2D",
    "slideshow": {
     "slide_type": "slide"
    }
   },
   "source": [
    "## Python Language Basic\n",
    "- **Indentation, not braces**\n",
    " - Python uses white spaces (tabs or spaces) to structure code\n",
    " - a colon **:** denotes the start of an indented code block\n",
    " - all statements that follow the colon must be indented by the same amount of spaces until the end of the block\n",
    "```python\n",
    "    if x < pivot:\n",
    "        less.append(x)\n",
    "    else:\n",
    "        greater.append(x)\n",
    "```\n",
    "- Python statements doesnot need to be termininated by a semi-colon or any other markers\n",
    "- All varibles, numbers, string, data structures, functions, classes and modules are refered to as a object\n",
    "- Each object has a *type* and can be retrived using *type(object_name)* (e.g.: string, function)\n",
    "- Commenting a statement in python is done by using the pound **#** sign \n",
    "- Often functionalities in python are grouped in file with a *.py* extention. They are refered to as *modules* and can be imported or used by another file using the **import module_name** command\n",
    "```python\n",
    "# This is a comment\n",
    "a = 10\n",
    "print(a) # printing \"a\"\n",
    "```"
   ]
  },
  {
   "cell_type": "markdown",
   "metadata": {
    "colab_type": "text",
    "id": "4-fWoNF3fL2D",
    "slideshow": {
     "slide_type": "subslide"
    }
   },
   "source": [
    "- **Variables and argument passing**\n",
    " - When assigning a variable (or name) *\"a\"* in python, a reference to the object on the righthand side of the equal sign is created\n",
    "- If *\"a\"* is now assigned to a new variable *\"b\"*, then *\"b\"* will also start to refer to the same object rather than maintaining a copy of the object that *\"a\"* refered to.\n",
    "<img src=\"object_ref.png\" alt=\"either local or remote\" width=150>"
   ]
  },
  {
   "cell_type": "code",
   "execution_count": 1,
   "metadata": {
    "colab": {},
    "colab_type": "code",
    "id": "3yYpgf5AfL2E",
    "outputId": "5e2d6b3c-6a0a-421f-bb5d-57f1cd4cbf79",
    "slideshow": {
     "slide_type": "fragment"
    }
   },
   "outputs": [],
   "source": [
    "a = [1, 2, 3]\n",
    "b = a\n",
    "a.append(4)"
   ]
  },
  {
   "cell_type": "markdown",
   "metadata": {
    "colab_type": "text",
    "id": "ankh5LEsfL2I",
    "slideshow": {
     "slide_type": "fragment"
    }
   },
   "source": [
    "```python\n",
    "print(b)\n",
    "```"
   ]
  },
  {
   "cell_type": "code",
   "execution_count": 2,
   "metadata": {
    "colab": {},
    "colab_type": "code",
    "id": "eEv530MifL2J",
    "outputId": "7a0b5534-d264-4c37-876e-a66ee1683e9e",
    "slideshow": {
     "slide_type": "fragment"
    }
   },
   "outputs": [
    {
     "name": "stdout",
     "output_type": "stream",
     "text": [
      "[1, 2, 3, 4]\n"
     ]
    }
   ],
   "source": [
    "print(b)"
   ]
  },
  {
   "cell_type": "markdown",
   "metadata": {
    "colab_type": "text",
    "id": "Fj5eyzZQfL2L",
    "slideshow": {
     "slide_type": "subslide"
    }
   },
   "source": [
    "- In order to create a copy of an object, we use the *copy* method from the *copy module*"
   ]
  },
  {
   "cell_type": "code",
   "execution_count": 3,
   "metadata": {
    "colab": {},
    "colab_type": "code",
    "id": "MkDvDfqZfL2M",
    "outputId": "d116bc1a-f19a-49e2-943e-4f46d2dd12ec",
    "slideshow": {
     "slide_type": "fragment"
    }
   },
   "outputs": [
    {
     "name": "stdout",
     "output_type": "stream",
     "text": [
      "c: [1, 2, 3, 4]\n",
      "a: [1, 2, 3, 4, 7]\n"
     ]
    }
   ],
   "source": [
    "import copy\n",
    "c = copy.copy(a)\n",
    "a.append(7)\n",
    "print('c:', c)\n",
    "print('a:', a)"
   ]
  },
  {
   "cell_type": "markdown",
   "metadata": {
    "colab_type": "text",
    "id": "ajTFUWN1fL2O",
    "slideshow": {
     "slide_type": "fragment"
    }
   },
   "source": [
    "- Objects passed as arguments to a functions are reference to the original objects"
   ]
  },
  {
   "cell_type": "code",
   "execution_count": 4,
   "metadata": {
    "colab": {},
    "colab_type": "code",
    "id": "LTf_4bC8fL2O",
    "outputId": "e9a53ecc-264e-4d0b-91f3-afd81c4b48a7",
    "slideshow": {
     "slide_type": "fragment"
    }
   },
   "outputs": [
    {
     "name": "stdout",
     "output_type": "stream",
     "text": [
      "my_list: [1, 2, 3, 4]\n",
      "data:  [1, 2, 3, 4]\n"
     ]
    }
   ],
   "source": [
    "def append_an_element(my_list, element):\n",
    "    my_list.append(element)\n",
    "    print('my_list:', my_list)\n",
    "\n",
    "data = [1, 2, 3]\n",
    "append_an_element(data, 4)\n",
    "print('data: ', data)"
   ]
  },
  {
   "cell_type": "markdown",
   "metadata": {
    "colab_type": "text",
    "id": "RDbaurWAfL2R",
    "slideshow": {
     "slide_type": "subslide"
    }
   },
   "source": [
    "- **Objects**\n",
    " - Object references in python have no type associated with them\n",
    " - Therefore, the same variable can be used sequentially to refer to objects of different types"
   ]
  },
  {
   "cell_type": "code",
   "execution_count": 5,
   "metadata": {
    "colab": {},
    "colab_type": "code",
    "id": "hTD2Rh8_fL2R",
    "outputId": "54f735f3-93b5-4ebe-a43d-58500a17b185",
    "slideshow": {
     "slide_type": "fragment"
    }
   },
   "outputs": [
    {
     "name": "stdout",
     "output_type": "stream",
     "text": [
      "<class 'int'>\n",
      "<class 'str'>\n"
     ]
    }
   ],
   "source": [
    "a = 5\n",
    "print(type(a))\n",
    "a = '5'\n",
    "print(type(a))"
   ]
  },
  {
   "cell_type": "markdown",
   "metadata": {
    "colab_type": "text",
    "id": "-uZVJMkYfL2T",
    "slideshow": {
     "slide_type": "fragment"
    }
   },
   "source": [
    " - The *type* of an object  can be verified using the *isinstance* function \n",
    " - The *isinstance* function also accepts a tuple of types, if a check needs to be made on whether a object is amoung those present in the tuple"
   ]
  },
  {
   "cell_type": "code",
   "execution_count": 6,
   "metadata": {
    "colab": {},
    "colab_type": "code",
    "id": "5OEa9jrzfL2U",
    "outputId": "f589e69a-ff0f-45e2-d262-bafe881afb3d",
    "slideshow": {
     "slide_type": "fragment"
    }
   },
   "outputs": [
    {
     "name": "stdout",
     "output_type": "stream",
     "text": [
      "True\n",
      "True\n"
     ]
    }
   ],
   "source": [
    "a = 5\n",
    "print(isinstance(a, int))\n",
    "print(isinstance(a, (int, float)))"
   ]
  },
  {
   "cell_type": "markdown",
   "metadata": {
    "colab_type": "text",
    "id": "Qd8XP9HjfL2W",
    "slideshow": {
     "slide_type": "fragment"
    }
   },
   "source": [
    " - Objects in python have both attribute and methods that can be access by following the object reference with a dot **.** sign"
   ]
  },
  {
   "cell_type": "markdown",
   "metadata": {
    "colab_type": "text",
    "id": "pyctqXtPfL2X",
    "slideshow": {
     "slide_type": "subslide"
    }
   },
   "source": [
    "- **Binary Operations**\n",
    "<img src=\"binary_ops.png\" alt=\"either local or remote\" width=400>"
   ]
  },
  {
   "cell_type": "code",
   "execution_count": 7,
   "metadata": {
    "colab": {},
    "colab_type": "code",
    "id": "s7RCtTTFfL2X",
    "outputId": "6a1ebd3e-7c06-408c-addb-34fdfff6dd3b",
    "slideshow": {
     "slide_type": "fragment"
    }
   },
   "outputs": [
    {
     "name": "stdout",
     "output_type": "stream",
     "text": [
      "Floor Divide: 3\n",
      "Raise a to the power of b 100\n",
      "Bitwise Ops.\n",
      "AND:  2\n",
      "EXOR:  9\n"
     ]
    }
   ],
   "source": [
    "a = 10\n",
    "b = 3\n",
    "print('Floor Divide:', a // b)\n",
    "print('Raise a to the power of b', a ** 2)\n",
    "print('Bitwise Ops.')\n",
    "print('AND: ', a & b)\n",
    "print('EXOR: ', a ^ b)"
   ]
  },
  {
   "cell_type": "markdown",
   "metadata": {
    "colab_type": "text",
    "id": "JKHNpIgafL2a",
    "slideshow": {
     "slide_type": "slide"
    }
   },
   "source": [
    "## Scalar Type\n",
    "- single value objects such as numericals, stirngs, boolean, dates and times are refered to as scalar types\n",
    "<img src=\"scalar_obj.png\" alt=\"either local or remote\" width=400>"
   ]
  },
  {
   "cell_type": "markdown",
   "metadata": {
    "colab_type": "text",
    "id": "9WF0AZKmfL2a",
    "slideshow": {
     "slide_type": "subslide"
    }
   },
   "source": [
    "- **Strings**\n",
    " - *string* type objects in python can be expressed using a single or a double quote\n",
    " - multiline strings with line breaks can be represented using triple quotes, either ''' or \"\"\"\n",
    " - strings are immutable\n",
    " - sequence of unicode characters\n",
    " - The backslash character **\\\\** is an escape charecter and can be used to specify special charecters such as *\\\\n**\n",
    " - Strings with escape charecters can be interpreted in their raw format by leading it with the **r** char\n",
    " ```python\n",
    "s = r'\\this has no\\n \\\\special char\\.'\n",
    "```\n",
    " - string objects also have a *format* method that can be used to substitute formatted arguments into the string, producing a new string\n",
    "```python\n",
    "# {0: 2f} first argument is formated as float with two decimal places\n",
    "# {1:s} second argument is formated as a string\n",
    "# {2:d} thrid argument is formated as an int\n",
    "```\n",
    " - substituting arguments for these format parameter, we pass a sequence of args. to the *format* method"
   ]
  },
  {
   "cell_type": "code",
   "execution_count": 8,
   "metadata": {
    "colab": {},
    "colab_type": "code",
    "id": "SFR5BB_rfL2b",
    "outputId": "45497716-62d5-47f0-a1a8-41da073e58b5",
    "slideshow": {
     "slide_type": "fragment"
    }
   },
   "outputs": [
    {
     "data": {
      "text/plain": [
       "' 4.556000 Argentine Pesos are worth US$1'"
      ]
     },
     "execution_count": 8,
     "metadata": {},
     "output_type": "execute_result"
    }
   ],
   "source": [
    "template = '{0: 2f} {1:s} are worth US${2:d}'\n",
    "template.format(4.5560, 'Argentine Pesos', 1)"
   ]
  },
  {
   "cell_type": "markdown",
   "metadata": {
    "colab_type": "text",
    "id": "-Jp5XnjxfL2d",
    "slideshow": {
     "slide_type": "subslide"
    }
   },
   "source": [
    "- **Bytes, Unicode and Type casting**\n",
    " - Unicode has become the default class of string type for more consistent handling of ASCII and non-ASCII text from python 3.0+\n",
    " - It is common to encounter bytes objects in context of working with files, wherein it is important to know their proper encoding scheme so as to be able to decode them to the right format"
   ]
  },
  {
   "cell_type": "code",
   "execution_count": 9,
   "metadata": {
    "colab": {},
    "colab_type": "code",
    "id": "pOKVLx9wfL2d",
    "outputId": "f9050647-d2a2-415d-d32d-9cf54fc0c4dc",
    "slideshow": {
     "slide_type": "fragment"
    }
   },
   "outputs": [
    {
     "name": "stdout",
     "output_type": "stream",
     "text": [
      "språk\n",
      "b'spr\\xc3\\xa5k'\n",
      "<class 'bytes'>\n",
      "språk\n"
     ]
    }
   ],
   "source": [
    "val = 'språk'\n",
    "print(val)\n",
    "val_utf8 = val.encode('utf8')\n",
    "print(val_utf8)\n",
    "print(type(val_utf8))\n",
    "print(val_utf8.decode())"
   ]
  },
  {
   "cell_type": "markdown",
   "metadata": {
    "colab_type": "text",
    "id": "Dma2_DxUfL2f",
    "slideshow": {
     "slide_type": "fragment"
    }
   },
   "source": [
    "- str, bool, int, and float are also functions that can be used to cast values to those types"
   ]
  },
  {
   "cell_type": "markdown",
   "metadata": {
    "colab_type": "text",
    "id": "yZeEfi97fL2g",
    "slideshow": {
     "slide_type": "subslide"
    }
   },
   "source": [
    "- **Dates and Times**\n",
    " - The *datetime* module provides *datetime*, *date*, and *time* types\n",
    " - *datetime* combines both *date* and *time*\n",
    " - These objects are immutable"
   ]
  },
  {
   "cell_type": "code",
   "execution_count": 10,
   "metadata": {
    "colab": {},
    "colab_type": "code",
    "id": "P2GottbzfL2g",
    "outputId": "d9d16dd5-b361-4b19-d09b-17042b6b4577",
    "slideshow": {
     "slide_type": "fragment"
    }
   },
   "outputs": [
    {
     "name": "stdout",
     "output_type": "stream",
     "text": [
      "day: 23\n",
      "minute: 15\n"
     ]
    }
   ],
   "source": [
    "from datetime import datetime, date, time\n",
    "dt = datetime(2019, 8, 23, 14, 15, 0)\n",
    "print('day:', dt.day)\n",
    "print('minute:', dt.minute)"
   ]
  },
  {
   "cell_type": "markdown",
   "metadata": {
    "colab_type": "text",
    "id": "tXGFy3QqfL2i",
    "slideshow": {
     "slide_type": "fragment"
    }
   },
   "source": [
    " - The *date* and *time* objects can be extracted from *datetime* as well"
   ]
  },
  {
   "cell_type": "code",
   "execution_count": 11,
   "metadata": {
    "colab": {},
    "colab_type": "code",
    "id": "VPe5fjJEfL2j",
    "outputId": "3a7d4b53-ddf9-4a39-a2ed-e91140d0f232",
    "slideshow": {
     "slide_type": "fragment"
    }
   },
   "outputs": [
    {
     "name": "stdout",
     "output_type": "stream",
     "text": [
      "date:  2019-08-23\n",
      "<class 'datetime.date'>\n"
     ]
    }
   ],
   "source": [
    "print('date: ', dt.date())\n",
    "print(type(dt.date()))"
   ]
  },
  {
   "cell_type": "markdown",
   "metadata": {
    "colab_type": "text",
    "id": "tmA8Q7zDfL2k",
    "slideshow": {
     "slide_type": "subslide"
    }
   },
   "source": [
    " - **Datetime Formatting**\n",
    "  - the *strftime* method formats a datetime as string\n",
    " \n",
    " Further details can be found at: [Python Datetime Format reference](http://strftime.org/)"
   ]
  },
  {
   "cell_type": "code",
   "execution_count": 12,
   "metadata": {
    "colab": {},
    "colab_type": "code",
    "id": "Fz_k_gUUfL2l",
    "outputId": "a6e748f4-bc3e-4da9-c253-67b3c2da4786",
    "slideshow": {
     "slide_type": "fragment"
    }
   },
   "outputs": [
    {
     "name": "stdout",
     "output_type": "stream",
     "text": [
      "23/08/2019 14:15\n"
     ]
    }
   ],
   "source": [
    "print(dt.strftime('%d/%m/%Y %H:%M'))"
   ]
  },
  {
   "cell_type": "markdown",
   "metadata": {
    "colab_type": "text",
    "id": "84NuKQe5fL2n",
    "slideshow": {
     "slide_type": "fragment"
    }
   },
   "source": [
    "  - Strings can be converted (parsed) into datetime objects using *strptime* method of datetime"
   ]
  },
  {
   "cell_type": "code",
   "execution_count": 13,
   "metadata": {
    "colab": {},
    "colab_type": "code",
    "id": "HGfaNzjSfL2n",
    "outputId": "d4908dde-524b-43e3-89cb-46926db66d20",
    "slideshow": {
     "slide_type": "fragment"
    }
   },
   "outputs": [
    {
     "name": "stdout",
     "output_type": "stream",
     "text": [
      "2019-01-01 00:00:00\n",
      "2019-01-01 10:30:00\n"
     ]
    }
   ],
   "source": [
    "print(datetime.strptime('01012019', '%d%m%Y'))\n",
    "print(datetime.strptime('01/01/2019 10:30', '%d/%m/%Y %H:%M'))"
   ]
  },
  {
   "cell_type": "markdown",
   "metadata": {
    "colab_type": "text",
    "id": "vgm8wmJjfL2p",
    "slideshow": {
     "slide_type": "subslide"
    }
   },
   "source": [
    " - **Datetime Operations**\n",
    "  - The attibutes in an datetime object can be changes using the *replace* method resulting in a copy of the object"
   ]
  },
  {
   "cell_type": "code",
   "execution_count": 14,
   "metadata": {
    "colab": {},
    "colab_type": "code",
    "id": "olXbskYhfL2q",
    "outputId": "2e389bf7-6aec-4ca1-931e-d9467c544e71",
    "slideshow": {
     "slide_type": "fragment"
    }
   },
   "outputs": [
    {
     "name": "stdout",
     "output_type": "stream",
     "text": [
      "2019-08-23 14:15:00\n",
      "2019-08-21 14:15:00\n"
     ]
    }
   ],
   "source": [
    "print(dt)\n",
    "print(dt.replace(day=21))"
   ]
  },
  {
   "cell_type": "markdown",
   "metadata": {
    "colab_type": "text",
    "id": "vr1zSXLkfL2s",
    "slideshow": {
     "slide_type": "fragment"
    }
   },
   "source": [
    "  - The difference of two date time objects produces a datetime.timedelta object type"
   ]
  },
  {
   "cell_type": "code",
   "execution_count": 15,
   "metadata": {
    "colab": {},
    "colab_type": "code",
    "id": "WlvuRzGmfL2t",
    "outputId": "3f96d742-241e-4e07-a0e3-de90dc7d10a4",
    "slideshow": {
     "slide_type": "fragment"
    }
   },
   "outputs": [
    {
     "name": "stdout",
     "output_type": "stream",
     "text": [
      "6890 days, 14:15:00\n"
     ]
    }
   ],
   "source": [
    "dt2 = datetime(2000, 10, 11)\n",
    "print(dt - dt2)"
   ]
  },
  {
   "cell_type": "markdown",
   "metadata": {
    "colab_type": "text",
    "id": "ZS8j5US4fL2w",
    "slideshow": {
     "slide_type": "slide"
    }
   },
   "source": [
    "## Control Flow\n",
    "- Control flow statements are used in python for conditional logic, loops and other standards flow concepts\n",
    "- **if, elsif, and else**\n",
    "```python\n",
    "if x < 0:\n",
    "    print('it is negative')\n",
    "elif x == 0:\n",
    "    print('it is zero')\n",
    "else:\n",
    "    print('it is positive')\n",
    "```"
   ]
  },
  {
   "cell_type": "markdown",
   "metadata": {
    "colab_type": "text",
    "id": "o9mr7fDofL2x",
    "slideshow": {
     "slide_type": "fragment"
    }
   },
   "source": [
    "  - Compound conditon are created using **or** or **and** keywords.\n",
    "  - Such compound conditional statements are evaluated left to right and will short-circuit\n",
    "  - In the following example the comparison *c > d* never gets evaluated because the first comparison was True\n",
    "```python\n",
    "a, b, c, d = 5,7,8,4\n",
    "if a < b or c > d:\n",
    "      print('Made it!')\n",
    "```"
   ]
  },
  {
   "cell_type": "markdown",
   "metadata": {
    "colab_type": "text",
    "id": "d76QQoM2fL2x",
    "slideshow": {
     "slide_type": "subslide"
    }
   },
   "source": [
    "- **for loops**\n",
    " - iterates over a collection or an iterater\n",
    "```python\n",
    "for value in collection:\n",
    "      # do someting with value\n",
    "```\n",
    " - A *for loop* can be advanced to the next iteration, skipping the remainder of the block, using the **continue** keyword\n",
    " - A *for loop* can be exited altogether with the **break** keyword. The **break** keyword exits only the most inner most *for loop*    \n",
    " - If elements in the collection or iterator are sequences (tuple or list), they can be *unpacked* into variables in the *for loop* statements itself\n",
    "```python\n",
    "for a, b, c in iterator:\n",
    "      # do something\n",
    "```"
   ]
  },
  {
   "cell_type": "markdown",
   "metadata": {
    "colab_type": "text",
    "id": "X-8fIBpQfL2y",
    "slideshow": {
     "slide_type": "subslide"
    }
   },
   "source": [
    "- **while loops**\n",
    " - a *while loop* specified a condition and a block of code that is to be executed until the condition evaluates to *False* or is explicitly ended with *break* statement\n",
    "```python\n",
    "x = 256\n",
    "total = 0\n",
    "while x > 0:\n",
    "    if total > 500:\n",
    "        break\n",
    "    total += x\n",
    "    x = x // 2\n",
    "```"
   ]
  },
  {
   "cell_type": "markdown",
   "metadata": {
    "colab_type": "text",
    "id": "uRzNSMtvfL21",
    "slideshow": {
     "slide_type": "subslide"
    }
   },
   "source": [
    "- **pass**\n",
    " - *pass* is *\"no-op\"* statement that is used in blocks where no action is to be taken. This is used as a placeholder for code not yet implementd, as python uses whitespace to delimit block\n",
    "- **range**\n",
    " - The *range* function runs an iterator that yeilds a sequence of evenly spaced integers\n",
    "```python\n",
    "range(10) # Range from 0 upto 10 (not including 10). Each number is incremented by one step\n",
    "range (1, 10) # Starting of the range is provided\n",
    "range(0, 10, 2) # Each number is incremented by two step\n",
    "range(10, 0, -2) # Step can be negative as well to create a reverse list/iteration\n",
    "```\n",
    "- **Ternary expressions**\n",
    " - A *ternary expression* combines an if-else block into as single statement\n",
    "```python\n",
    "value = true-expr if condition else false-expr\n",
    "a, b = 21, 74\n",
    "flag = 'Negative' if a - b < 0 else 'Positive'\n",
    "```\n"
   ]
  },
  {
   "cell_type": "markdown",
   "metadata": {
    "colab_type": "text",
    "id": "kY2aWOkefL21",
    "slideshow": {
     "slide_type": "slide"
    }
   },
   "source": [
    "## Data Structures and Sequences\n",
    "- **Tuple**\n",
    " - A tuple is a fixed length, immutable squence of python object\n",
    " - The straight forward way to create a tuple is with a comma seperated sequences of values enclodes within parenthesis **()**\n",
    " - Any sequence or iterator can be converted to a tuple by using the *tuple()* method\n",
    " - Elements can be access with square brackets [ ]\n",
    " - Tuples can also store other objects that may be themselves mutable\n",
    " - Tuples are light weight have limited instance methods. **.count(*value*)** counts the number of occurences of a value\n",
    "  ```python\n",
    "tup = (4, 5, 6)\n",
    "tup2 = ( (4, 5, 6), (7, 8) )\n",
    "tup3 = ( (1, 2, 3), [1, 'foo', False], 'bar')\n",
    "```"
   ]
  },
  {
   "cell_type": "code",
   "execution_count": 16,
   "metadata": {
    "colab": {},
    "colab_type": "code",
    "id": "x5njlarxfL22",
    "outputId": "372de199-d92d-49ab-d320-2e3eb8bc3af0",
    "slideshow": {
     "slide_type": "subslide"
    }
   },
   "outputs": [
    {
     "name": "stdout",
     "output_type": "stream",
     "text": [
      "((1, 2, 3), [1, 'foo', False, '123'], 'bar')\n"
     ]
    }
   ],
   "source": [
    "tup3 = ( (1, 2, 3), [1, 'foo', False], 'bar')\n",
    "tup3[1].append('123') # Mutable\n",
    "print(tup3)"
   ]
  },
  {
   "cell_type": "markdown",
   "metadata": {
    "colab_type": "text",
    "id": "cFQAJAbRfL23",
    "slideshow": {
     "slide_type": "fragment"
    }
   },
   "source": [
    " - Multiple tuples can be concatenated using the **+** sign producing a new tuple\n",
    " - Multiplying **\\*** a tuple by an integer has the effect of concatenating together that many copies of the tuple"
   ]
  },
  {
   "cell_type": "code",
   "execution_count": 17,
   "metadata": {
    "colab": {},
    "colab_type": "code",
    "id": "DX6IpTy0fL24",
    "outputId": "c087250d-a9dc-4471-ed8c-ea16f4a9f39e",
    "slideshow": {
     "slide_type": "fragment"
    }
   },
   "outputs": [
    {
     "name": "stdout",
     "output_type": "stream",
     "text": [
      "(4, 5, 6, 4, 5, 6, 4, 5, 6)\n",
      "((4, 5, 6), (7, 8), (4, 5, 6), (7, 8))\n"
     ]
    }
   ],
   "source": [
    "tup = (4, 5, 6)\n",
    "tup2 = ( (4, 5, 6), (7, 8) )\n",
    "print(tup * 3)\n",
    "print(tup2 * 2)"
   ]
  },
  {
   "cell_type": "markdown",
   "metadata": {
    "colab_type": "text",
    "id": "T89BC31XfL26",
    "slideshow": {
     "slide_type": "fragment"
    }
   },
   "source": [
    " - Tuples can be unpacked and each value can be assigned to multiple variables, if the assignement schema on the left hand side of the assignment is the same as to the schema of the tuple\n",
    " - Unpacking is a convinient way of handly data in for loops\n",
    "```python\n",
    "a, b, c = (1, 2, 3)\n",
    "a, b, (c, d) = (1, 2, (3, 4))\n",
    "```"
   ]
  },
  {
   "cell_type": "markdown",
   "metadata": {
    "colab_type": "text",
    "id": "ylexSrF3fL27",
    "slideshow": {
     "slide_type": "subslide"
    }
   },
   "source": [
    " - **\\*rest** syntax provides an advaces way of unpacking by allowing us to select or pluck few elements from the beginning or the end of a tuple"
   ]
  },
  {
   "cell_type": "code",
   "execution_count": 18,
   "metadata": {
    "colab": {},
    "colab_type": "code",
    "id": "34dJty83fL27",
    "outputId": "3cf4705c-cd81-4d68-b805-4d841a86547b",
    "slideshow": {
     "slide_type": "fragment"
    }
   },
   "outputs": [
    {
     "name": "stdout",
     "output_type": "stream",
     "text": [
      "id: 25 |flag: False |data: [1, 'alice', 29, 'f']\n"
     ]
    }
   ],
   "source": [
    "tup3 = (False, 25, [1, 'alice', 29, 'f'])\n",
    "flag, id, *data = tup3\n",
    "print('id:', id, '|flag:', flag, '|data:', *data)"
   ]
  },
  {
   "cell_type": "code",
   "execution_count": 19,
   "metadata": {
    "colab": {},
    "colab_type": "code",
    "id": "kpA6gCa_fL29",
    "outputId": "c105f896-9029-440a-a925-93f76e73ea84",
    "slideshow": {
     "slide_type": "fragment"
    }
   },
   "outputs": [
    {
     "name": "stdout",
     "output_type": "stream",
     "text": [
      "id: 25 |flag: False |data: [1, 'alice', 29, 'f']\n"
     ]
    }
   ],
   "source": [
    "tup4 = ([1, 'alice', 29, 'f'], False, 25)\n",
    "*data, flag, id  = tup4\n",
    "print('id:', id, '|flag:', flag, '|data:', *data)"
   ]
  },
  {
   "cell_type": "markdown",
   "metadata": {
    "colab_type": "text",
    "id": "tW1E-1lLfL2_",
    "slideshow": {
     "slide_type": "subslide"
    }
   },
   "source": [
    "- **List**\n",
    " - Mutable, variable length data structures\n",
    " - Allows in-place modification of content\n",
    " - Lists are defined using the square brackets **[ ]**\n",
    " - Elements can be appended to the end of the list with the **append(*value*)** method\n",
    " - The **insert(*index*, *value*)** method can be used to insert an element at a specific location in the list\n",
    " - The insertion index must be between 0 and the length of the list\n",
    " - Elements can be removed *by value* with the **remove(*value*)** method. Only the occurrence of the first *value* in the sequence is removed, if there are duplicates \n",
    " - the **in** keyword is used to check if an element is present in a list: **element in list**.\n",
    " - Similarly  **not in** keyword can also be used to check if an element not present in a list\n",
    " - However, such checks are slower than *dict* and *sets*, as linear scan is performed on lists rather than checks using hash tables in constant time\n",
    "```python\n",
    "a_list = [1,2,3]\n",
    "a_list.append('foo')\n",
    "a_list.insert(1, False)\n",
    "a_list.insert(0, 2)\n",
    "a_list.remove(2)\n",
    "print(2 in a_list)\n",
    "```"
   ]
  },
  {
   "cell_type": "markdown",
   "metadata": {
    "colab_type": "text",
    "id": "PW34EwU6fL2_",
    "slideshow": {
     "slide_type": "subslide"
    }
   },
   "source": [
    " - Lists can also be concatenated using the **+** sign or duplicated using the **\\*** sign\n",
    " - Alternatively the **extend(*object*)** method can be used to concatenate a list in place"
   ]
  },
  {
   "cell_type": "code",
   "execution_count": 20,
   "metadata": {
    "colab": {},
    "colab_type": "code",
    "id": "jQlGI4YhfL3A",
    "slideshow": {
     "slide_type": "fragment"
    }
   },
   "outputs": [],
   "source": [
    "a_list = [1,2,3]\n",
    "a_list.extend(['a',0.0, 0 ,False])\n",
    "a_list1 = [1,2,3]\n",
    "a_list1.append(['a',0.0, 0 ,False])"
   ]
  },
  {
   "cell_type": "code",
   "execution_count": 21,
   "metadata": {
    "colab": {},
    "colab_type": "code",
    "id": "NS6WWUpFfL3B",
    "outputId": "24efee57-5419-40f9-814c-cb0c2c8790c6",
    "slideshow": {
     "slide_type": "fragment"
    }
   },
   "outputs": [
    {
     "name": "stdout",
     "output_type": "stream",
     "text": [
      "extend: 7\n",
      "append: 4\n"
     ]
    }
   ],
   "source": [
    "print('extend:', len(a_list))\n",
    "print('append:', len(a_list1))"
   ]
  },
  {
   "cell_type": "code",
   "execution_count": 22,
   "metadata": {},
   "outputs": [
    {
     "data": {
      "text/plain": [
       "(1, 2, '3')"
      ]
     },
     "execution_count": 22,
     "metadata": {},
     "output_type": "execute_result"
    }
   ],
   "source": [
    "(1,2,'3')"
   ]
  },
  {
   "cell_type": "markdown",
   "metadata": {
    "colab_type": "text",
    "id": "otvDrkIDfL3D",
    "slideshow": {
     "slide_type": "subslide"
    }
   },
   "source": [
    " - **Sorting**\n",
    "  - Lists can be sorted in place by calling the **sort()** function\n",
    "  - *sort* also allows the ability to pass a secondary sort key"
   ]
  },
  {
   "cell_type": "code",
   "execution_count": 23,
   "metadata": {
    "colab": {},
    "colab_type": "code",
    "id": "2er_xAEKfL3E",
    "outputId": "cd188512-1c5b-4b82-e93b-7011fcc3c1f1",
    "slideshow": {
     "slide_type": "fragment"
    }
   },
   "outputs": [
    {
     "name": "stdout",
     "output_type": "stream",
     "text": [
      "default ['five', 'four', 'one', 'three', 'two']\n",
      "with s. key ['one', 'two', 'five', 'four', 'three']\n"
     ]
    }
   ],
   "source": [
    "a_list = ['one', 'two', 'three', 'four', 'five']\n",
    "a_list.sort()\n",
    "print('default', a_list)\n",
    "a_list.sort(key=len)\n",
    "print('with s. key', a_list)\n"
   ]
  },
  {
   "cell_type": "markdown",
   "metadata": {
    "colab_type": "text",
    "id": "B-veg_HtfL3F",
    "slideshow": {
     "slide_type": "subslide"
    }
   },
   "source": [
    " - **Slicing**\n",
    "  - Allows us to select sections of most sequence types by using the **slice** notion: *start*:*end* passed to the indexing operator\n",
    "  - Also, allows section of a sequence to be updated\n",
    "  - If either the *start* or *end* indices are omitted, it picks the section from the beginning or until the end of the sequence\n",
    "  - Negative indices slice the sequence relative to the end\n",
    "<img src=\"slicing_eg.png\" alt=\"either local or remote\" width=320>"
   ]
  },
  {
   "cell_type": "code",
   "execution_count": 24,
   "metadata": {
    "colab": {},
    "colab_type": "code",
    "id": "ybN4dTrwfL3F",
    "outputId": "4a3b7e76-8845-4490-bc2f-4988584b045a",
    "slideshow": {
     "slide_type": "fragment"
    }
   },
   "outputs": [
    {
     "name": "stdout",
     "output_type": "stream",
     "text": [
      "[0, 1, 2, 'a', 'b', 4, 5, 6, 7] len:  9\n",
      "[1, 2, 'a']\n",
      "[0, 1, 2]\n",
      "['a', 'b', 4, 5, 6, 7]\n",
      "[5, 6, 7]\n",
      "['a', 'b', 4, 5]\n"
     ]
    }
   ],
   "source": [
    "seq = [0,1,2,3,4,5,6,7]\n",
    "seq[3:4] = ['a','b'] # assigning using slicing\n",
    "print(seq, 'len: ', len(seq))\n",
    "print(seq[1:4]) # slice\n",
    "print(seq[:3])\n",
    "print(seq[3:])\n",
    "print(seq[-3:]) # negative slicing\n",
    "print(seq[-6:-2])"
   ]
  },
  {
   "cell_type": "markdown",
   "metadata": {
    "colab_type": "text",
    "id": "3df7xwl2fL3H",
    "slideshow": {
     "slide_type": "subslide"
    }
   },
   "source": [
    "- **Built-in Sequence Functions**\n",
    " - **enumerate** allows tracking of index of current item when iterating over a sequence\n",
    " ```python\n",
    "for i, value in enumerate(collection):\n",
    "    # do something here\n",
    "```\n",
    " - The **sorted** function returns a new sorted list from the elements of any sequence\n",
    " - Accepts same arguments as *sort* for lists\n",
    "```python\n",
    "sorted([8,5,1,8,3,-1,0])\n",
    "```\n",
    " - **zip** *pairs* up the elements of a number of lists, tuples, or ther sequences to create a list of tuples\n",
    "```python\n",
    "seq1 = ['foo', 'bar', 'baz']\n",
    "seq2 = ('one', 'two', 'three')\n",
    "seq3 = [1, 2, 3]\n",
    "zipped = zip(seq1, seq2)\n",
    "zipped = zip(seq1, seq2, seq3)\n",
    "print(list(zipped))\n",
    "```\n",
    " - How would you unzip a zipped record?\n",
    " - **revered** itterates over the elements of a sequence in reverse order"
   ]
  },
  {
   "cell_type": "markdown",
   "metadata": {
    "colab_type": "text",
    "id": "F-dh8K9nfL3I",
    "slideshow": {
     "slide_type": "subslide"
    }
   },
   "source": [
    "- **dict** also called as *hash map* \n",
    " - flexibly sized *key-value* pairs\n",
    " - uses *curly braces* **{ }** and *colon* seperated keys and values\n",
    " - access, insert and update are perfomed using the same syntax as for accessing elements in a list or tuple\n",
    " - elements accessed through their keys using **[ ]** notion that are not found raises an exception. This can be addressed by using the **get(*key*)** method which returns  *None* if a key is not found\n",
    " - elements can be deleted using the **del** keyword or the **pop(*key*)** method. However, if the key is not found for either of them a exception would be raised\n",
    " - The method **keys()** and **values()** returns all the keys and values respectively\n",
    " - The *keys* of a dict has to be of scalar types or tuples. Since dicts are also known has *hash maps*, the keys needs to be hashable. This can be varified by using the standalone **hash(value)** method"
   ]
  },
  {
   "cell_type": "code",
   "execution_count": 25,
   "metadata": {
    "colab": {},
    "colab_type": "code",
    "id": "9dw1ZvjmfL3I",
    "outputId": "86251cd0-6548-4e61-ba36-2d41ace42b53",
    "slideshow": {
     "slide_type": "subslide"
    }
   },
   "outputs": [
    {
     "name": "stdout",
     "output_type": "stream",
     "text": [
      "xyz\n",
      "[1, 2, 0]\n",
      "2\n",
      "None\n"
     ]
    }
   ],
   "source": [
    "empty_dict = {}\n",
    "a_dict = {'a': 'xyz', 'b': 2, 3:[1,2,3]}\n",
    "a_dict[5] = False # insert new\n",
    "a_dict[3][2] = 0 # update\n",
    "print(a_dict['a']) # access\n",
    "del a_dict['a'] # remove / delete\n",
    "return_val = a_dict.pop(3) # pop returns the deleted value of the key\n",
    "print(return_val)\n",
    "print(a_dict.get('b'))\n",
    "print(a_dict.get('xyz')) # Key not found"
   ]
  },
  {
   "cell_type": "markdown",
   "metadata": {
    "colab_type": "text",
    "id": "gnWNatTyfL3K",
    "slideshow": {
     "slide_type": "subslide"
    }
   },
   "source": [
    " - Example Categorizing a list of words by their first letters as a dict of lists"
   ]
  },
  {
   "cell_type": "code",
   "execution_count": 26,
   "metadata": {
    "colab": {},
    "colab_type": "code",
    "id": "sgr_YGQyfL3K",
    "outputId": "d74da903-4a9a-4af2-a8e1-5f8f3452ca96",
    "slideshow": {
     "slide_type": "fragment"
    }
   },
   "outputs": [
    {
     "name": "stdout",
     "output_type": "stream",
     "text": [
      "{'a': ['apple', 'atom'], 'b': ['bat', 'bar', 'book']}\n"
     ]
    }
   ],
   "source": [
    "words = ['apple', 'bat', 'bar', 'atom', 'book']\n",
    "\n",
    "by_letter = {}\n",
    "\n",
    "for word in words:\n",
    "  letter = word[0]\n",
    "  if letter not in by_letter:\n",
    "    by_letter[letter] = [word]\n",
    "  else:\n",
    "    by_letter[letter].append(word)\n",
    "\n",
    "print(by_letter)"
   ]
  },
  {
   "cell_type": "markdown",
   "metadata": {
    "colab_type": "text",
    "id": "Mkxq3pAofL3M",
    "slideshow": {
     "slide_type": "fragment"
    }
   },
   "source": [
    " - The same can be done using the **setdefault(*value*, *list*)** method of the dict data structure"
   ]
  },
  {
   "cell_type": "code",
   "execution_count": 27,
   "metadata": {
    "colab": {},
    "colab_type": "code",
    "id": "KxZ0d7kifL3M",
    "outputId": "b69f73c8-658b-440c-c8bd-eb6d0cf0a0d9",
    "slideshow": {
     "slide_type": "fragment"
    }
   },
   "outputs": [
    {
     "name": "stdout",
     "output_type": "stream",
     "text": [
      "{'a': ['apple', 'atom'], 'b': ['bat', 'bar', 'book']}\n"
     ]
    }
   ],
   "source": [
    "words = ['apple', 'bat', 'bar', 'atom', 'book']\n",
    "\n",
    "by_letter = {}\n",
    "\n",
    "for word in words:\n",
    "  letter = word[0]\n",
    "  by_letter.setdefault(letter, []).append(word)\n",
    "\n",
    "print(by_letter)"
   ]
  },
  {
   "cell_type": "markdown",
   "metadata": {
    "colab_type": "text",
    "id": "rdLAr9OgfL3O",
    "slideshow": {
     "slide_type": "subslide"
    }
   },
   "source": [
    "- *set* is an unordered collection of unique elements\n",
    " - can be created using the *set function*or the *set literal* with curly braces **{ }**\n",
    "```python\n",
    "set([1,2,3,4])\n",
    "{1,2,3,4}\n",
    "```\n",
    " - sets support multiple mathematical set operations like *union*, *intersection*, *difference*, and *symmetric* difference\n",
    " - it provides both *methods* and *operators* to perform these actions\n",
    "<img src=\"set_opts.png\" alt=\"either local or remote\" width=500>"
   ]
  },
  {
   "cell_type": "markdown",
   "metadata": {
    "colab_type": "text",
    "id": "aFZVZOVufL3P",
    "slideshow": {
     "slide_type": "subslide"
    }
   },
   "source": [
    "\n",
    "- **Comprehensions**\n",
    " - Allows to concisely transform *List*, *Set* and *Dict* and form a new object by filtering and transforming the elements of the collection\n",
    " - **[*expr* for val in collection if condition]**\n",
    " - Also called as flattening\n",
    " - Example: if we have a for loop that does the follow:\n",
    " ```python\n",
    "result = []\n",
    "for val in collection:\n",
    "      if condition:\n",
    "          result.append(expr)\n",
    "```\n",
    " - It can be written as a comprehension:"
   ]
  },
  {
   "cell_type": "code",
   "execution_count": 28,
   "metadata": {
    "colab": {},
    "colab_type": "code",
    "id": "gvCNQLXkfL3P",
    "outputId": "3a3743f9-c65e-4524-db30-54295337fe77",
    "slideshow": {
     "slide_type": "fragment"
    }
   },
   "outputs": [
    {
     "data": {
      "text/plain": [
       "['BAT', 'CAR', 'DOVE', 'PYTHON']"
      ]
     },
     "execution_count": 28,
     "metadata": {},
     "output_type": "execute_result"
    }
   ],
   "source": [
    "strings = ['a', 'as', 'bat', 'car', 'dove', 'python']\n",
    "[x.upper() for x in strings if len(x) > 2]"
   ]
  },
  {
   "cell_type": "markdown",
   "metadata": {
    "colab_type": "text",
    "id": "akCuKwyJfL3R",
    "slideshow": {
     "slide_type": "subslide"
    }
   },
   "source": [
    "  - Nested Comprehensions\n",
    "  - Eg.: We have multi dimentional array with names. We want to get the list of names that have atleast 2 a's"
   ]
  },
  {
   "cell_type": "code",
   "execution_count": 29,
   "metadata": {
    "colab": {},
    "colab_type": "code",
    "id": "BGgNmoxqfL3R",
    "outputId": "7f136b09-d171-431f-aff8-2906e81228dd",
    "slideshow": {
     "slide_type": "fragment"
    }
   },
   "outputs": [
    {
     "name": "stdout",
     "output_type": "stream",
     "text": [
      "['Maria', 'Natalia']\n"
     ]
    }
   ],
   "source": [
    "all_names = [\n",
    "  ['John', 'Emily', 'Michael', 'Mary', 'Steven'],\n",
    "  ['Maria', 'Juan', 'Javier', 'Natalia', 'Pilar']\n",
    "]\n",
    "names_of_interest = []\n",
    "for names in all_names:\n",
    "  for name in names:\n",
    "    if name.count('a') >= 2:\n",
    "      names_of_interest.append(name)\n",
    "print(names_of_interest)"
   ]
  },
  {
   "cell_type": "markdown",
   "metadata": {
    "colab_type": "text",
    "id": "CicF-gDIfL3S",
    "slideshow": {
     "slide_type": "fragment"
    }
   },
   "source": [
    " - How do we do it using *comprehensions*"
   ]
  },
  {
   "cell_type": "code",
   "execution_count": 30,
   "metadata": {
    "colab": {},
    "colab_type": "code",
    "id": "kdocqu8YfL3S",
    "outputId": "2b3bdfcf-e48b-42fc-dc49-729f38f80bd4",
    "slideshow": {
     "slide_type": "fragment"
    }
   },
   "outputs": [
    {
     "name": "stdout",
     "output_type": "stream",
     "text": [
      "['Maria', 'Natalia']\n"
     ]
    }
   ],
   "source": [
    "all_names = [\n",
    "  ['John', 'Emily', 'Michael', 'Mary', 'Steven'],\n",
    "  ['Maria', 'Juan', 'Javier', 'Natalia', 'Pilar']\n",
    "]\n",
    "names_of_interest = [name for names in all_names for name in names if name.count('a') >= 2]\n",
    "print(names_of_interest)"
   ]
  },
  {
   "cell_type": "markdown",
   "metadata": {
    "colab_type": "text",
    "id": "Smr_w08UfL3V",
    "slideshow": {
     "slide_type": "slide"
    }
   },
   "source": [
    "## Markdown and LaTeX for Code documentation\n",
    "- Markdown is a popular markup language to create rich text documents using\n",
    "plaintext\n",
    "- $LaTeX$ is another rich text documentation framework that provides ability for\n",
    "creating expresive mathematical equations as well. LaTeX equations can be\n",
    "directly embedded into markdown, without the need to write or use LaTeX\n",
    "package seperately."
   ]
  },
  {
   "cell_type": "code",
   "execution_count": null,
   "metadata": {
    "colab": {},
    "colab_type": "code",
    "id": "nTEKsrAVfL3V",
    "outputId": "8e83793f-c82b-4f2d-fe00-d64c4a721619",
    "slideshow": {
     "slide_type": "fragment"
    }
   },
   "outputs": [],
   "source": [
    "%%markdown\n",
    "### Markdown Basics\n",
    "- Ways to create **bold**, *italics* and ~~scratched~~ words and charecters. No\n",
    "underline yet"
   ]
  },
  {
   "cell_type": "code",
   "execution_count": 32,
   "metadata": {
    "colab": {},
    "colab_type": "code",
    "id": "9rBMWGIRfL3X",
    "outputId": "d46616da-dfce-44f7-8145-e2b2f2faff0a",
    "slideshow": {
     "slide_type": "subslide"
    }
   },
   "outputs": [
    {
     "data": {
      "text/markdown": [
       "### Lists and Sublists (unordered)\n",
       "- This is a list\n",
       " - This is a sublist\n",
       "  - This is a subsublist\n",
       "- ..."
      ],
      "text/plain": [
       "<IPython.core.display.Markdown object>"
      ]
     },
     "metadata": {},
     "output_type": "display_data"
    }
   ],
   "source": [
    "%%markdown\n",
    "### Lists and Sublists (unordered)\n",
    "- This is a list\n",
    " - This is a sublist\n",
    "  - This is a subsublist\n",
    "- ..."
   ]
  },
  {
   "cell_type": "code",
   "execution_count": 1,
   "metadata": {
    "colab": {},
    "colab_type": "code",
    "id": "mhC0q29gfL3Z",
    "outputId": "a838360d-b79b-4597-dc19-dd5098aac3eb",
    "slideshow": {
     "slide_type": "subslide"
    }
   },
   "outputs": [
    {
     "output_type": "display_data",
     "data": {
      "text/plain": "<IPython.core.display.Markdown object>",
      "text/markdown": "### Lists and Sublists (ordered)\n1. This is a list\n  1. This is a sublist\n  2. This is a subsublist\n2. ...\n"
     },
     "metadata": {}
    }
   ],
   "source": [
    "%%markdown\n",
    "### Lists and Sublists (ordered)\n",
    "1. This is a list\n",
    "  1. This is a sublist\n",
    "  2. This is a subsublist\n",
    "2. ..."
   ]
  },
  {
   "cell_type": "code",
   "execution_count": 34,
   "metadata": {
    "colab": {},
    "colab_type": "code",
    "id": "LQKGhccifL3a",
    "outputId": "2b1c2ab7-68a0-4df2-d4d4-3d8c12208034",
    "slideshow": {
     "slide_type": "subslide"
    }
   },
   "outputs": [
    {
     "data": {
      "text/markdown": [
       "### Quotes\n",
       "> Twenty years from now you will be more disappointed by the things that you didn’t do than by the ones you did do.So throw off the bowlines. Sail away from the\n",
       "safe harbor. Catch the trade winds in your sails\n",
       ">\n",
       "> [Mark Twain](https://en.wikipedia.org/wiki/Mark_Twain)"
      ],
      "text/plain": [
       "<IPython.core.display.Markdown object>"
      ]
     },
     "metadata": {},
     "output_type": "display_data"
    }
   ],
   "source": [
    "%%markdown\n",
    "### Quotes\n",
    "> Twenty years from now you will be more disappointed by the things that you didn’t do than by the ones you did do.So throw off the bowlines. Sail away from the\n",
    "safe harbor. Catch the trade winds in your sails\n",
    ">\n",
    "> [Mark Twain](https://en.wikipedia.org/wiki/Mark_Twain)"
   ]
  },
  {
   "cell_type": "code",
   "execution_count": 35,
   "metadata": {
    "colab": {},
    "colab_type": "code",
    "id": "WinRFsPTfL3b",
    "outputId": "563d4a10-b18b-432c-91ae-1b5452e47b3b",
    "slideshow": {
     "slide_type": "subslide"
    }
   },
   "outputs": [
    {
     "data": {
      "text/markdown": [
       "### Horizontal lines\n",
       "---"
      ],
      "text/plain": [
       "<IPython.core.display.Markdown object>"
      ]
     },
     "metadata": {},
     "output_type": "display_data"
    }
   ],
   "source": [
    "%%markdown\n",
    "### Horizontal lines\n",
    "---"
   ]
  },
  {
   "cell_type": "code",
   "execution_count": 36,
   "metadata": {
    "colab": {},
    "colab_type": "code",
    "id": "oQugJot7fL3c",
    "outputId": "ee393efb-4245-4f39-9398-341af1e63b8c",
    "slideshow": {
     "slide_type": "fragment"
    }
   },
   "outputs": [
    {
     "data": {
      "text/markdown": [
       "### Tables\n",
       "| Name | Age | Gender |\n",
       "|------|:---:|:-------|\n",
       "|a     |30   |m       |\n",
       "|b     |31   |f       |\n",
       "|c     |26   |f       |"
      ],
      "text/plain": [
       "<IPython.core.display.Markdown object>"
      ]
     },
     "metadata": {},
     "output_type": "display_data"
    }
   ],
   "source": [
    "%%markdown\n",
    "### Tables\n",
    "| Name | Age | Gender |\n",
    "|------|:---:|:-------|\n",
    "|a     |30   |m       |\n",
    "|b     |31   |f       |\n",
    "|c     |26   |f       |"
   ]
  },
  {
   "cell_type": "code",
   "execution_count": 37,
   "metadata": {
    "colab": {},
    "colab_type": "code",
    "id": "qFNGAwOlfL3e",
    "outputId": "e4784bbd-5440-4c88-f24d-4eaeca928a85",
    "slideshow": {
     "slide_type": "subslide"
    }
   },
   "outputs": [
    {
     "data": {
      "text/markdown": [
       "### Heading\n",
       "# H1\n",
       "## H2\n",
       "### H3\n",
       "#### H4\n",
       "##### H5\n",
       "###### H6"
      ],
      "text/plain": [
       "<IPython.core.display.Markdown object>"
      ]
     },
     "metadata": {},
     "output_type": "display_data"
    }
   ],
   "source": [
    "%%markdown\n",
    "### Heading\n",
    "# H1\n",
    "## H2\n",
    "### H3\n",
    "#### H4\n",
    "##### H5\n",
    "###### H6"
   ]
  },
  {
   "cell_type": "code",
   "execution_count": 38,
   "metadata": {
    "colab": {},
    "colab_type": "code",
    "id": "8-P6ifjUfL3g",
    "outputId": "8d205541-009d-4961-9301-eb75953adeab",
    "slideshow": {
     "slide_type": "subslide"
    }
   },
   "outputs": [
    {
     "data": {
      "text/markdown": [
       "### Embed Code\n",
       "- Python Code:\n",
       "```python\n",
       "x = 10\n",
       "print(x)\n",
       "```\n",
       "- Javascript:\n",
       "```javascript\n",
       "console.log(\"Hello World\")\n",
       "```"
      ],
      "text/plain": [
       "<IPython.core.display.Markdown object>"
      ]
     },
     "metadata": {},
     "output_type": "display_data"
    }
   ],
   "source": [
    "%%markdown\n",
    "### Embed Code\n",
    "- Python Code:\n",
    "```python\n",
    "x = 10\n",
    "print(x)\n",
    "```\n",
    "- Javascript:\n",
    "```javascript\n",
    "console.log(\"Hello World\")\n",
    "```"
   ]
  },
  {
   "cell_type": "code",
   "execution_count": 39,
   "metadata": {
    "colab": {},
    "colab_type": "code",
    "id": "LGTclzhOfL3h",
    "outputId": "694aca60-497d-4907-9adc-0d51da8496ee",
    "slideshow": {
     "slide_type": "subslide"
    }
   },
   "outputs": [
    {
     "data": {
      "text/markdown": [
       "### Embeded $LaTeX$\n",
       "- Inline expressions can be added by surrounding the latex code with \\\\$: $e^{i\n",
       "\\pi} + 1 = 0$ expression.\n",
       "- Expressions on their own line are surrounded by \\\\$\\\\$:\n",
       "$$e^x=\\sum_{i=0}^\\infty \\frac{1}{i!}x^i$$"
      ],
      "text/plain": [
       "<IPython.core.display.Markdown object>"
      ]
     },
     "metadata": {},
     "output_type": "display_data"
    }
   ],
   "source": [
    "%%markdown\n",
    "### Embeded $LaTeX$\n",
    "- Inline expressions can be added by surrounding the latex code with \\\\$: $e^{i\n",
    "\\pi} + 1 = 0$ expression.\n",
    "- Expressions on their own line are surrounded by \\\\$\\\\$:\n",
    "$$e^x=\\sum_{i=0}^\\infty \\frac{1}{i!}x^i$$"
   ]
  },
  {
   "cell_type": "code",
   "execution_count": 2,
   "metadata": {
    "colab": {},
    "colab_type": "code",
    "id": "_nh90BIYfL3i",
    "outputId": "5b78b4e6-55d1-403c-d74c-148eb1249c58",
    "slideshow": {
     "slide_type": "subslide"
    }
   },
   "outputs": [
    {
     "output_type": "display_data",
     "data": {
      "text/plain": "<IPython.core.display.Markdown object>",
      "text/markdown": "### Local or Remote file rendering (images, audio, video)\n- Image\n<img src=\"https://www.python.org/static/community_logos/python-logo-master-v3-TM.png\" alt=\"either local or remote\" width=100>\n\n- Video \n<video controls src=\"../filesystem/file.mp4\" width=200/>\n\n- Audio \n\n<audio controls src=\"../filesystem/file.mp3\"/>\n"
     },
     "metadata": {}
    }
   ],
   "source": [
    "%%markdown\n",
    "### Local or Remote file rendering (images, audio, video)\n",
    "- Image\n",
    "<img src=\"https://www.python.org/static/community_logos/python-logo-master-v3-TM.png\" alt=\"either local or remote\" width=100>\n",
    "\n",
    "- Video \n",
    "<video controls src=\"../filesystem/file.mp4\" width=200/>\n",
    "\n",
    "- Audio \n",
    "\n",
    "<audio controls src=\"../filesystem/file.mp3\"/>"
   ]
  },
  {
   "cell_type": "code",
   "execution_count": 41,
   "metadata": {
    "colab": {},
    "colab_type": "code",
    "id": "r6xT16qyfL3j",
    "outputId": "cbd9fc6a-5aa2-4c29-9444-97b62fdc621f",
    "slideshow": {
     "slide_type": "subslide"
    }
   },
   "outputs": [
    {
     "data": {
      "text/markdown": [
       "### HTML\n",
       "- Because Markdown is a superset of HTML you can even add things like any HTML tags:\n",
       "- Header:\n",
       "<h2>H2</h2>\n",
       "- Table\n",
       "<table>\n",
       "<tr><td>Name</td><td>Age</td><td>Gender</td></tr>\n",
       "<tr><td>a</td><td>30</td><td>m</td></tr>\n",
       "<tr><td>b</td><td>31</td><td>f</td></tr>\n",
       "<tr><td>c</td><td>26</td><td>f</td></tr>\n",
       "</table>"
      ],
      "text/plain": [
       "<IPython.core.display.Markdown object>"
      ]
     },
     "metadata": {},
     "output_type": "display_data"
    }
   ],
   "source": [
    "%%markdown\n",
    "### HTML\n",
    "- Because Markdown is a superset of HTML you can even add things like any HTML tags:\n",
    "- Header:\n",
    "<h2>H2</h2>\n",
    "- Table\n",
    "<table>\n",
    "<tr><td>Name</td><td>Age</td><td>Gender</td></tr>\n",
    "<tr><td>a</td><td>30</td><td>m</td></tr>\n",
    "<tr><td>b</td><td>31</td><td>f</td></tr>\n",
    "<tr><td>c</td><td>26</td><td>f</td></tr>\n",
    "</table>"
   ]
  },
  {
   "cell_type": "markdown",
   "metadata": {
    "colab_type": "text",
    "id": "xsNuGHArfL3k",
    "slideshow": {
     "slide_type": "subslide"
    }
   },
   "source": [
    "> jupyter nbconvert L02.ipynb --to slides  --post serve\n",
    "  - From local machine\n",
    ">\n",
    "> jupyter nbconvert L02.ipynb --to slides --ServePostProcessor.ip=\"0.0.0.0\" --post serve\n",
    "  - From Container\n",
    ">\n",
    "> Serves jupyter notebooks as slides\n",
    "\n",
    "> Can be accessed at: http://localhost:8000/L02.slides.html\n"
   ]
  }
 ],
 "metadata": {
  "celltoolbar": "Slideshow",
  "colab": {
   "name": "L03.ipynb",
   "provenance": [],
   "version": "0.3.2"
  },
  "kernelspec": {
   "display_name": "Python 3",
   "language": "python",
   "name": "python3"
  },
  "language_info": {
   "codemirror_mode": {
    "name": "ipython",
    "version": 3
   },
   "file_extension": ".py",
   "mimetype": "text/x-python",
   "name": "python",
   "nbconvert_exporter": "python",
   "pygments_lexer": "ipython3",
   "version": "3.7.7-final"
  }
 },
 "nbformat": 4,
 "nbformat_minor": 1
}