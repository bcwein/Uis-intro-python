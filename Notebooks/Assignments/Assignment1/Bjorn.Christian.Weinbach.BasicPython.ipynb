{
 "metadata": {
  "language_info": {
   "codemirror_mode": {
    "name": "ipython",
    "version": 3
   },
   "file_extension": ".py",
   "mimetype": "text/x-python",
   "name": "python",
   "nbconvert_exporter": "python",
   "pygments_lexer": "ipython3",
   "version": "3.8.5-final"
  },
  "orig_nbformat": 2,
  "kernelspec": {
   "name": "Python 3.8.5 64-bit ('uis-intro-python': conda)",
   "display_name": "Python 3.8.5 64-bit ('uis-intro-python': conda)",
   "metadata": {
    "interpreter": {
     "hash": "fdaa3fc899cbdee167de1d7a2de0512f9caa6d812fa9a4ea068abef6baec1531"
    }
   }
  }
 },
 "nbformat": 4,
 "nbformat_minor": 2,
 "cells": [
  {
   "cell_type": "markdown",
   "metadata": {},
   "source": [
    "# Assignment 1 - Basic Python\n",
    "\n",
    "## Problem 1\n",
    " \n",
    "Rock, Paper and Scissors is a very familiar game for all of us. Rules of this game is fairly simple.\n",
    "\n",
    "Write a program ( in python ) which contains a function called RoPaSc( palyer_1_hand, player_2_hand ), which takes inputs from player1 and player2 and returns the winner.  The program should ask for input and display the answer as follows: \n",
    "\n",
    "Player 1: Paper \n",
    "\n",
    "Player 2: Scissors\n",
    "\n",
    "Player 2: Wins.\n",
    "\n",
    "### Import libraries"
   ]
  },
  {
   "cell_type": "code",
   "execution_count": 1,
   "metadata": {},
   "outputs": [],
   "source": [
    "import re\n",
    "import numpy as np\n",
    "from string import ascii_letters as al\n",
    "al = al + ' '"
   ]
  },
  {
   "cell_type": "markdown",
   "metadata": {},
   "source": [
    "### Define helper functions"
   ]
  },
  {
   "cell_type": "code",
   "execution_count": 2,
   "metadata": {},
   "outputs": [],
   "source": [
    "def clean_strings(strings):\n",
    "    \"\"\"\n",
    "    Take a list of strings and cleans them.\n",
    "\n",
    "    This function is a direct implementation of the function\n",
    "    clean_strings found at page 117 in \"Python For Data Analysis\"\n",
    "\n",
    "    Parameters:\n",
    "        strings (list) -  list of strings to be cleaned\n",
    "\n",
    "    Returns:\n",
    "        result (list) -  list of cleaned strings\n",
    "    \"\"\"\n",
    "    result = []\n",
    "\n",
    "    for value in strings:\n",
    "        value = value.strip()\n",
    "        value = re.sub('[!#?.]', '', value)\n",
    "        value = value.title()\n",
    "        result.append(value)\n",
    "    \n",
    "    return result"
   ]
  },
  {
   "cell_type": "markdown",
   "metadata": {},
   "source": [
    "### Rock, Paper, Scissors function"
   ]
  },
  {
   "cell_type": "code",
   "execution_count": 3,
   "metadata": {
    "tags": []
   },
   "outputs": [
    {
     "output_type": "stream",
     "name": "stdout",
     "text": [
      "Invalid input string(s)\n"
     ]
    }
   ],
   "source": [
    "def RoPaSc(player_1, player_2):\n",
    "    \"\"\"\n",
    "    Simulate the all time favorite game \"Rock, Paper, Scissors.\n",
    "\n",
    "    The function takes in two strings as arguments,\n",
    "    cleans them, convert them to integers and performs\n",
    "    logic to identify the outcome and prints it to the\n",
    "    user.\n",
    "\n",
    "    The control sequence of this function is based on the \n",
    "    answer given by Christopher Shroba to the stack overflow\n",
    "    question titled: \"Rock Paper Scissors - get winner mathematically\"\n",
    "\n",
    "    url: https://stackoverflow.com/questions/41457556/rock-paper-scissors-get-winner-mathematically\n",
    "\n",
    "    Input:\n",
    "        player_1 (string) - Player 1's choice\n",
    "        player_2 (string) - Player 2's choice\n",
    "    \"\"\"\n",
    "    try:\n",
    "        cleaned_strings = clean_strings([player_1, player_2])\n",
    "        string_number_dict = {'Rock' : 0, 'Paper' : 1, 'Scissors' : 2}\n",
    "        integer_choices = [string_number_dict[k] for k in cleaned_strings]\n",
    "        p1, p2 = integer_choices\n",
    "\n",
    "        if (p1+1) % 3 == p2:\n",
    "            outcome = \"Player 2: Wins!\"\n",
    "        elif p1 == p2:\n",
    "            outcome = \"We have a draw!\"\n",
    "        else:\n",
    "            outcome = \"Player 1: Wins!\"\n",
    "\n",
    "        print(\"Player 1: \" + cleaned_strings[0])\n",
    "        print(\"Player 2: \" + cleaned_strings[1])\n",
    "        print(outcome)\n",
    "    except:\n",
    "        print(\"Invalid input string(s)\")\n",
    "\n",
    "p1 = input(\"Player 1 choice: \")\n",
    "p2 = input(\"Player 2 choices: \")\n",
    "RoPaSc(p1, p2)"
   ]
  },
  {
   "cell_type": "markdown",
   "metadata": {},
   "source": [
    "## Problem 2\n",
    "\n",
    "Do you know that WhatsApp and other messaging services use end to end encryption of your messages, so that no intruder can make any sense out of it. The caesar cipher is one of the oldest methods to encrypt the messages and was used by Julius Caesar to communicate with his generals.  \n",
    "\n",
    "The key idea is to replace each letter in the text by a letter kth positions down the alphabet. For an example if k=2\n",
    "\n",
    "Plain: data science\n",
    "\n",
    "Cipher: fcvc uekgpeg\n",
    "\n",
    "Write a program which reads a text file ( plain.txt ) and converts the text in the file into cipher text. Write the cipher text into a new text file called as cipher.txt. The value of the k is the last digit of your birth year. For an example:\n",
    "\n",
    "Birthday: 20-11-1995 then k = 5"
   ]
  },
  {
   "cell_type": "markdown",
   "metadata": {},
   "source": [
    "### Define helper functions"
   ]
  },
  {
   "cell_type": "code",
   "execution_count": 4,
   "metadata": {
    "tags": []
   },
   "outputs": [],
   "source": [
    "def read_txt(filename):\n",
    "    \"\"\"Read txt file.\"\"\"\n",
    "    try:\n",
    "        f = open(filename, \"r\")\n",
    "        return f\n",
    "    except:\n",
    "        print(\"Unnable to open file\")"
   ]
  },
  {
   "cell_type": "markdown",
   "metadata": {},
   "source": [
    "### Define cipher function"
   ]
  },
  {
   "cell_type": "code",
   "execution_count": 5,
   "metadata": {
    "tags": []
   },
   "outputs": [],
   "source": [
    "def cipher(filename, k):\n",
    "    \"\"\"\n",
    "    Ciphters string of characters by replacing character with another.\n",
    "\n",
    "    The character that is chosen to replace the original character is the one \n",
    "    on the kth poisition after the original character.\n",
    "    \n",
    "    in this function, the cipher is valid for ascii characters beyond the upper limit\n",
    "    of the alphabeth such that y gets replaced with { and Y with [.\n",
    "\n",
    "    Input:\n",
    "        filename (string) - name of file to cipher\n",
    "        k (int) - number of characters to go down the ascii table\n",
    "    \"\"\"\n",
    "    f = read_txt(filename)\n",
    "    o = open('cipher.txt', 'w')\n",
    "    for line in f:\n",
    "        cipher_line = map(lambda x : al[(al.find(x) + k) % len(al)] if x != ' ' else ' ', line)\n",
    "        o.write(''.join(list(cipher_line)))\n",
    "        o.write('\\n')\n",
    "    f.close()\n",
    "    o.close()"
   ]
  },
  {
   "cell_type": "markdown",
   "metadata": {},
   "source": [
    "### Cipher plain.txt with $k = 6$."
   ]
  },
  {
   "cell_type": "code",
   "execution_count": 6,
   "metadata": {},
   "outputs": [],
   "source": [
    "cipher('plain.txt', 6)"
   ]
  },
  {
   "cell_type": "markdown",
   "metadata": {},
   "source": [
    "Open ciphered text file and dipslay."
   ]
  },
  {
   "cell_type": "code",
   "execution_count": 7,
   "metadata": {
    "tags": []
   },
   "outputs": [
    {
     "output_type": "error",
     "ename": "SyntaxError",
     "evalue": "invalid syntax (<ipython-input-7-514b8ad37ee6>, line 3)",
     "traceback": [
      "\u001b[1;36m  File \u001b[1;32m\"<ipython-input-7-514b8ad37ee6>\"\u001b[1;36m, line \u001b[1;32m3\u001b[0m\n\u001b[1;33m    print(line)S\u001b[0m\n\u001b[1;37m               ^\u001b[0m\n\u001b[1;31mSyntaxError\u001b[0m\u001b[1;31m:\u001b[0m invalid syntax\n"
     ]
    }
   ],
   "source": [
    "f = open('cipher.txt', 'r')\n",
    "for line in f:\n",
    "    print(line)S"
   ]
  },
  {
   "cell_type": "markdown",
   "metadata": {},
   "source": [
    "## Problem 3\n",
    "\n",
    "Write a program which takes a NumPy ndarray  M, as input and finds the longest line of consecutive ones in the ndarray M. The sequence of consecutive ones could be horizontal, vertical, diagonal or anti-diagonal. \n",
    "\n",
    "### Define a ndarray we want to solve"
   ]
  },
  {
   "cell_type": "code",
   "execution_count": 8,
   "metadata": {},
   "outputs": [],
   "source": [
    "a = np.array([[1, 0, 1, 1, 0],\n",
    "              [1, 0, 1, 0, 1],\n",
    "              [0, 1, 0, 0, 1],\n",
    "              [1, 0, 0, 1, 0]])"
   ]
  },
  {
   "cell_type": "markdown",
   "metadata": {},
   "source": []
  },
  {
   "cell_type": "markdown",
   "metadata": {},
   "source": [
    "### Kadane's algorithm\n",
    "\n",
    "Source: https://en.wikipedia.org/wiki/Maximum_subarray_problem"
   ]
  },
  {
   "cell_type": "code",
   "execution_count": 9,
   "metadata": {},
   "outputs": [],
   "source": [
    "def max_subarray(numbers):\n",
    "    \"\"\"Find the largest sum of any contiguous subarray.\"\"\"\n",
    "    best_sum = 0\n",
    "    current_sum = 0\n",
    "    for x in numbers:\n",
    "        current_sum = max(0, current_sum + x)\n",
    "        best_sum = max(best_sum, current_sum)\n",
    "    return best_sum"
   ]
  },
  {
   "cell_type": "markdown",
   "metadata": {},
   "source": [
    "### Define function for finding subarray in matrix with longest line of consecutive ones \n",
    "\n",
    "The problem of finding the longest line of consecutive ones is a new problem that i have not encountered in computer science before. I recall another problem that is quite familiar, which is the [**Maximum Subarray Problem**](https://en.wikipedia.org/wiki/Maximum_subarray_problem). The problem in this task can be translated to a maximum subarray problem by replacing every number that is not equal to one with -1. Then the answer to our problem can be found by using existing algorithms for the maximum subarray problem.\n",
    "\n",
    "The function does this for all subarrays in a 2D matrix, including all diagonals."
   ]
  },
  {
   "cell_type": "code",
   "execution_count": 10,
   "metadata": {},
   "outputs": [],
   "source": [
    "def ndarray_longest_line(arr):\n",
    "    \"\"\"\n",
    "    Find the longest line of consecutive ones in 2D array.\n",
    "\n",
    "    This function takes a 2D numpy.ndarray and finds the length of the longest\n",
    "    line of consecutive ones. This is done by translating this problem to a \n",
    "    maximum subarray problem by replacing all numbers besides 1 to -1.\n",
    "\n",
    "    Then the problem can be answered by iterating over all 1D arrays in the\n",
    "    2D matrix (including all diagonals, anti diagonals offset of the main diagonal\n",
    "    as well as the main digonal itself) and return the highest observed value.\n",
    "\n",
    "    Input:\n",
    "        arr (numpy.ndarray) -  array of zeros and ones.\n",
    "\n",
    "    Output:\n",
    "        longest (int) - length of longest line of consecutive ones.\n",
    "    \"\"\"\n",
    "\n",
    "    # Replace all numbers besides 1 with -1\n",
    "    # This translates our problem to a maximum subarray problem.\n",
    "    arr[arr != 1] = -1\n",
    "    # Flip the array in axis 0 to make anti-diagonals diagonal.\n",
    "    f_arr = np.flip(arr, 0)\n",
    "    longest = 0\n",
    "    v, h = np.shape(arr)\n",
    "\n",
    "    for i in range(v):\n",
    "        longest = max(longest, max_subarray(arr[i, :]))\n",
    "        if i < v-1:\n",
    "            longest = max(longest, max_subarray(np.diagonal(arr, offset=i)))\n",
    "            longest = max(longest, max_subarray(np.diagonal(f_arr, offset=i)))\n",
    "    for j in range(h):\n",
    "        longest = max(longest, max_subarray(arr[:, j]))\n",
    "        if j < h-1:\n",
    "            longest = max(longest, max_subarray(np.diagonal(arr, offset=-j)))\n",
    "            longest = max(longest, max_subarray(np.diagonal(f_arr, offset=i)))\n",
    "\n",
    "    return longest"
   ]
  },
  {
   "cell_type": "code",
   "execution_count": 11,
   "metadata": {},
   "outputs": [
    {
     "output_type": "execute_result",
     "data": {
      "text/plain": "4"
     },
     "metadata": {},
     "execution_count": 11
    }
   ],
   "source": [
    "ndarray_longest_line(a)"
   ]
  },
  {
   "cell_type": "markdown",
   "metadata": {},
   "source": [
    "### Comment to above function\n",
    "\n",
    "The function above was solved iteratively with two for-loops which themselves has a for loop inside and this means that the time complexity increases exponentially as the input matrix grows. In python, instead of iterating, vectorized code should be used. I were not able to find a vectorize my code. Alternatively, the code could have been compiled using numba."
   ]
  }
 ]
}