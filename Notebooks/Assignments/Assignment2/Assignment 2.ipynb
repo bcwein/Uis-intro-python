{
 "cells": [
  {
   "cell_type": "markdown",
   "metadata": {},
   "source": [
    "# Pandas"
   ]
  },
  {
   "cell_type": "markdown",
   "metadata": {},
   "source": [
    "Download the dataset.tsv file from the canvas.\n",
    "### 1. Import the libraries"
   ]
  },
  {
   "source": [
    "import pandas as pd\n",
    "import re\n",
    "import matplotlib.pyplot as plt\n",
    "import seaborn as sns"
   ],
   "cell_type": "code",
   "metadata": {},
   "execution_count": null,
   "outputs": []
  },
  {
   "cell_type": "markdown",
   "metadata": {},
   "source": [
    "### 2. Import the dataset"
   ]
  },
  {
   "cell_type": "code",
   "execution_count": null,
   "metadata": {},
   "outputs": [],
   "source": [
    "df = pd.read_csv('dataset.tsv', sep='\\t')"
   ]
  },
  {
   "cell_type": "markdown",
   "metadata": {},
   "source": [
    "### 3. Print the first 50 entries"
   ]
  },
  {
   "cell_type": "code",
   "execution_count": null,
   "metadata": {},
   "outputs": [],
   "source": [
    "df[:50]"
   ]
  },
  {
   "cell_type": "markdown",
   "metadata": {},
   "source": [
    "### 4. Print the number of datapoints (rows) in the dataset?"
   ]
  },
  {
   "cell_type": "code",
   "execution_count": null,
   "metadata": {},
   "outputs": [],
   "source": [
    "len(df)"
   ]
  },
  {
   "cell_type": "markdown",
   "metadata": {},
   "source": [
    "### 5. Print the number of columns in the dataset?"
   ]
  },
  {
   "cell_type": "code",
   "execution_count": null,
   "metadata": {
    "collapsed": true
   },
   "outputs": [],
   "source": [
    "len(df.columns)"
   ]
  },
  {
   "cell_type": "markdown",
   "metadata": {},
   "source": [
    "###  7. Print the names of columns."
   ]
  },
  {
   "cell_type": "code",
   "execution_count": null,
   "metadata": {},
   "outputs": [],
   "source": [
    "names = list(df.columns)\n",
    "for name in names:\n",
    "    print(name)"
   ]
  },
  {
   "cell_type": "markdown",
   "metadata": {},
   "source": [
    "### 8. Print the most ordered product and it's count?"
   ]
  },
  {
   "cell_type": "code",
   "execution_count": null,
   "metadata": {},
   "outputs": [],
   "source": [
    "orders_by_product = df.groupby('product_name').sum()\n",
    "popular_products_sorted = orders_by_product.sort_values('quantity', ascending = False)\n",
    "popular_products_sorted[:1]"
   ]
  },
  {
   "cell_type": "markdown",
   "metadata": {},
   "source": [
    "### 9. Print the number of products ordered?"
   ]
  },
  {
   "source": [
    "no_orders = sum(orders_by_product.quantity)\n",
    "no_orders"
   ],
   "cell_type": "code",
   "metadata": {},
   "execution_count": null,
   "outputs": []
  },
  {
   "cell_type": "markdown",
   "metadata": {},
   "source": [
    "### 10. Print the most ordered product in the option_description column?"
   ]
  },
  {
   "cell_type": "code",
   "execution_count": null,
   "metadata": {},
   "outputs": [],
   "source": [
    "def dataframe_from_series_of_lists(series):\n",
    "    \"\"\"Convert pandas series of lists to single dataframe.\n",
    "\n",
    "    Algorithm:\n",
    "    1. Loop through every list in series.\n",
    "    2. Remove [ and ] from list.\n",
    "    3. Split list by ,\n",
    "    4. Append values to dataframe.\n",
    "\n",
    "    Args:\n",
    "        series (pandas Series): [desc\n",
    "    \"\"\"\n",
    "    new_df = pd.DataFrame()\n",
    "    for row in series:\n",
    "        a = row.replace('[', '')\n",
    "        b = a.replace(']', '')\n",
    "        c = b.split(', ')\n",
    "        new_df = new_df.append(pd.DataFrame(c))\n",
    "    return(new_df)\n",
    "\n",
    "options = df.option_description.dropna()\n",
    "df_options = dataframe_from_series_of_lists(options)\n",
    "popular_options_sorted = df_options.value_counts()\n",
    "popular_options_sorted[:1]"
   ]
  },
  {
   "cell_type": "markdown",
   "metadata": {},
   "source": [
    "### 11. Print the number of products orderd in total?"
   ]
  },
  {
   "cell_type": "code",
   "execution_count": null,
   "metadata": {},
   "outputs": [],
   "source": [
    "popular_options_sorted.sum()"
   ]
  },
  {
   "cell_type": "markdown",
   "metadata": {},
   "source": [
    "### 12. Cast the product price to float type"
   ]
  },
  {
   "cell_type": "code",
   "execution_count": null,
   "metadata": {
    "collapsed": true
   },
   "outputs": [],
   "source": [
    "df.product_price = df.product_price.replace('[\\$,]', '', regex=True).astype(float)"
   ]
  },
  {
   "cell_type": "markdown",
   "metadata": {},
   "source": [
    "### 13. Print the quantity of the costliest product ordered?\n"
   ]
  },
  {
   "cell_type": "code",
   "execution_count": null,
   "metadata": {},
   "outputs": [],
   "source": [
    "price_sorted_df = df.sort_values('product_price', ascending=False)\n",
    "price_sorted_df[:1].quantity"
   ]
  },
  {
   "cell_type": "markdown",
   "metadata": {},
   "source": [
    "### 14. What was the revenue for the whole period in the dataset?"
   ]
  },
  {
   "cell_type": "code",
   "execution_count": null,
   "metadata": {},
   "outputs": [],
   "source": [
    "# multiply price with quantitiy and sum for every datapoint.\n",
    "sum(df.quantity * df.product_price)"
   ]
  },
  {
   "cell_type": "markdown",
   "metadata": {},
   "source": [
    "### 15. Print the total no of orders in the whole period?"
   ]
  },
  {
   "cell_type": "code",
   "execution_count": null,
   "metadata": {},
   "outputs": [],
   "source": [
    "df.order_id.value_counts().size"
   ]
  },
  {
   "cell_type": "markdown",
   "metadata": {},
   "source": [
    "### 16. Print the average price per order?"
   ]
  },
  {
   "cell_type": "code",
   "execution_count": null,
   "metadata": {},
   "outputs": [],
   "source": [
    "mean_order_price = df.groupby('order_id').mean()\n",
    "mean_order_price.drop('quantity', axis=1)"
   ]
  },
  {
   "cell_type": "markdown",
   "metadata": {},
   "source": [
    "### 17. How many unique products were sold?"
   ]
  },
  {
   "cell_type": "code",
   "execution_count": null,
   "metadata": {},
   "outputs": [],
   "source": [
    "df.product_name.value_counts().size"
   ]
  },
  {
   "cell_type": "markdown",
   "metadata": {},
   "source": [
    "### 18. Print the number of time Veggie Burrito was ordered?"
   ]
  },
  {
   "cell_type": "code",
   "execution_count": null,
   "metadata": {},
   "outputs": [],
   "source": [
    "# Extract datapoints whose name is 'Veggie Burrito'\n",
    "veggie_df = df[df.product_name == 'Veggie Burrito']\n",
    "# Extract order id Series. Count occurences of order id and return length.\n",
    "veggie_df.order_id.value_counts().size"
   ]
  },
  {
   "cell_type": "markdown",
   "metadata": {},
   "source": [
    "### 19. Print the products cost more than $20.00?\n"
   ]
  },
  {
   "cell_type": "code",
   "execution_count": null,
   "metadata": {},
   "outputs": [],
   "source": [
    "df[df.product_price > 20.00]"
   ]
  },
  {
   "cell_type": "markdown",
   "metadata": {},
   "source": [
    "### 20. Plot a histogram for the prices of top 7 products bought"
   ]
  },
  {
   "cell_type": "code",
   "execution_count": null,
   "metadata": {},
   "outputs": [],
   "source": [
    "tmp = popular_products_sorted.reset_index()\n",
    "\n",
    "fig = plt.figure(figsize=(15, 12))\n",
    "i = 1\n",
    "for product in tmp.product_name[:7]:\n",
    "    ax = fig.add_subplot(3, 3, i)\n",
    "    ax.title.set_text(product)\n",
    "    plt.hist(df[df.product_name == product].product_price)\n",
    "    i = i + 1"
   ]
  },
  {
   "cell_type": "markdown",
   "metadata": {},
   "source": [
    "### 21. Draw a scatterplot with the number of products orderered per transaction price\n",
    "#### Tips: Price should be in the X-axis and products ordered in the Y-axis"
   ]
  },
  {
   "source": [
    "sns.set_style(\"darkgrid\")\n",
    "sns.lmplot(x = 'product_price', y = 'quantity', data = df)"
   ],
   "cell_type": "code",
   "metadata": {},
   "execution_count": null,
   "outputs": []
  }
 ],
 "metadata": {
  "kernelspec": {
   "name": "Python 3.8.5 64-bit ('uis-intro-python': conda)",
   "display_name": "Python 3.8.5 64-bit ('uis-intro-python': conda)",
   "metadata": {
    "interpreter": {
     "hash": "fdaa3fc899cbdee167de1d7a2de0512f9caa6d812fa9a4ea068abef6baec1531"
    }
   }
  },
  "language_info": {
   "codemirror_mode": {
    "name": "ipython",
    "version": 3
   },
   "file_extension": ".py",
   "mimetype": "text/x-python",
   "name": "python",
   "nbconvert_exporter": "python",
   "pygments_lexer": "ipython3",
   "version": "3.8.5-final"
  }
 },
 "nbformat": 4,
 "nbformat_minor": 1
}